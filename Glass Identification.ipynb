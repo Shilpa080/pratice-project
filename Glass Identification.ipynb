{
 "cells": [
  {
   "cell_type": "markdown",
   "id": "580bdb04",
   "metadata": {},
   "source": [
    "# Glass Identification"
   ]
  },
  {
   "cell_type": "code",
   "execution_count": 1,
   "id": "06166327",
   "metadata": {},
   "outputs": [],
   "source": [
    "import pandas as pd\n",
    "import numpy as np\n",
    "import seaborn as sns\n",
    "import matplotlib.pyplot as plt\n",
    "import warnings\n",
    "warnings.filterwarnings('ignore')"
   ]
  },
  {
   "cell_type": "code",
   "execution_count": 2,
   "id": "0997525b",
   "metadata": {},
   "outputs": [],
   "source": [
    "df=pd.read_csv(\"https://raw.githubusercontent.com/dsrscientist/dataset3/main/glass.csv\")"
   ]
  },
  {
   "cell_type": "code",
   "execution_count": 4,
   "id": "4d0f1937",
   "metadata": {},
   "outputs": [
    {
     "data": {
      "text/html": [
       "<div>\n",
       "<style scoped>\n",
       "    .dataframe tbody tr th:only-of-type {\n",
       "        vertical-align: middle;\n",
       "    }\n",
       "\n",
       "    .dataframe tbody tr th {\n",
       "        vertical-align: top;\n",
       "    }\n",
       "\n",
       "    .dataframe thead th {\n",
       "        text-align: right;\n",
       "    }\n",
       "</style>\n",
       "<table border=\"1\" class=\"dataframe\">\n",
       "  <thead>\n",
       "    <tr style=\"text-align: right;\">\n",
       "      <th></th>\n",
       "      <th>1</th>\n",
       "      <th>1.52101</th>\n",
       "      <th>13.64</th>\n",
       "      <th>4.49</th>\n",
       "      <th>1.10</th>\n",
       "      <th>71.78</th>\n",
       "      <th>0.06</th>\n",
       "      <th>8.75</th>\n",
       "      <th>0.00</th>\n",
       "      <th>0.00.1</th>\n",
       "      <th>1.1</th>\n",
       "    </tr>\n",
       "  </thead>\n",
       "  <tbody>\n",
       "    <tr>\n",
       "      <th>0</th>\n",
       "      <td>2</td>\n",
       "      <td>1.51761</td>\n",
       "      <td>13.89</td>\n",
       "      <td>3.60</td>\n",
       "      <td>1.36</td>\n",
       "      <td>72.73</td>\n",
       "      <td>0.48</td>\n",
       "      <td>7.83</td>\n",
       "      <td>0.0</td>\n",
       "      <td>0.00</td>\n",
       "      <td>1</td>\n",
       "    </tr>\n",
       "    <tr>\n",
       "      <th>1</th>\n",
       "      <td>3</td>\n",
       "      <td>1.51618</td>\n",
       "      <td>13.53</td>\n",
       "      <td>3.55</td>\n",
       "      <td>1.54</td>\n",
       "      <td>72.99</td>\n",
       "      <td>0.39</td>\n",
       "      <td>7.78</td>\n",
       "      <td>0.0</td>\n",
       "      <td>0.00</td>\n",
       "      <td>1</td>\n",
       "    </tr>\n",
       "    <tr>\n",
       "      <th>2</th>\n",
       "      <td>4</td>\n",
       "      <td>1.51766</td>\n",
       "      <td>13.21</td>\n",
       "      <td>3.69</td>\n",
       "      <td>1.29</td>\n",
       "      <td>72.61</td>\n",
       "      <td>0.57</td>\n",
       "      <td>8.22</td>\n",
       "      <td>0.0</td>\n",
       "      <td>0.00</td>\n",
       "      <td>1</td>\n",
       "    </tr>\n",
       "    <tr>\n",
       "      <th>3</th>\n",
       "      <td>5</td>\n",
       "      <td>1.51742</td>\n",
       "      <td>13.27</td>\n",
       "      <td>3.62</td>\n",
       "      <td>1.24</td>\n",
       "      <td>73.08</td>\n",
       "      <td>0.55</td>\n",
       "      <td>8.07</td>\n",
       "      <td>0.0</td>\n",
       "      <td>0.00</td>\n",
       "      <td>1</td>\n",
       "    </tr>\n",
       "    <tr>\n",
       "      <th>4</th>\n",
       "      <td>6</td>\n",
       "      <td>1.51596</td>\n",
       "      <td>12.79</td>\n",
       "      <td>3.61</td>\n",
       "      <td>1.62</td>\n",
       "      <td>72.97</td>\n",
       "      <td>0.64</td>\n",
       "      <td>8.07</td>\n",
       "      <td>0.0</td>\n",
       "      <td>0.26</td>\n",
       "      <td>1</td>\n",
       "    </tr>\n",
       "  </tbody>\n",
       "</table>\n",
       "</div>"
      ],
      "text/plain": [
       "   1  1.52101  13.64  4.49  1.10  71.78  0.06  8.75  0.00  0.00.1  1.1\n",
       "0  2  1.51761  13.89  3.60  1.36  72.73  0.48  7.83   0.0    0.00    1\n",
       "1  3  1.51618  13.53  3.55  1.54  72.99  0.39  7.78   0.0    0.00    1\n",
       "2  4  1.51766  13.21  3.69  1.29  72.61  0.57  8.22   0.0    0.00    1\n",
       "3  5  1.51742  13.27  3.62  1.24  73.08  0.55  8.07   0.0    0.00    1\n",
       "4  6  1.51596  12.79  3.61  1.62  72.97  0.64  8.07   0.0    0.26    1"
      ]
     },
     "execution_count": 4,
     "metadata": {},
     "output_type": "execute_result"
    }
   ],
   "source": [
    "df.head()"
   ]
  },
  {
   "cell_type": "code",
   "execution_count": 5,
   "id": "5b5fb8b6",
   "metadata": {},
   "outputs": [
    {
     "data": {
      "text/html": [
       "<div>\n",
       "<style scoped>\n",
       "    .dataframe tbody tr th:only-of-type {\n",
       "        vertical-align: middle;\n",
       "    }\n",
       "\n",
       "    .dataframe tbody tr th {\n",
       "        vertical-align: top;\n",
       "    }\n",
       "\n",
       "    .dataframe thead th {\n",
       "        text-align: right;\n",
       "    }\n",
       "</style>\n",
       "<table border=\"1\" class=\"dataframe\">\n",
       "  <thead>\n",
       "    <tr style=\"text-align: right;\">\n",
       "      <th></th>\n",
       "      <th>1</th>\n",
       "      <th>1.52101</th>\n",
       "      <th>13.64</th>\n",
       "      <th>4.49</th>\n",
       "      <th>1.10</th>\n",
       "      <th>71.78</th>\n",
       "      <th>0.06</th>\n",
       "      <th>8.75</th>\n",
       "      <th>0.00</th>\n",
       "      <th>0.00.1</th>\n",
       "      <th>1.1</th>\n",
       "    </tr>\n",
       "  </thead>\n",
       "  <tbody>\n",
       "    <tr>\n",
       "      <th>208</th>\n",
       "      <td>210</td>\n",
       "      <td>1.51623</td>\n",
       "      <td>14.14</td>\n",
       "      <td>0.0</td>\n",
       "      <td>2.88</td>\n",
       "      <td>72.61</td>\n",
       "      <td>0.08</td>\n",
       "      <td>9.18</td>\n",
       "      <td>1.06</td>\n",
       "      <td>0.0</td>\n",
       "      <td>7</td>\n",
       "    </tr>\n",
       "    <tr>\n",
       "      <th>209</th>\n",
       "      <td>211</td>\n",
       "      <td>1.51685</td>\n",
       "      <td>14.92</td>\n",
       "      <td>0.0</td>\n",
       "      <td>1.99</td>\n",
       "      <td>73.06</td>\n",
       "      <td>0.00</td>\n",
       "      <td>8.40</td>\n",
       "      <td>1.59</td>\n",
       "      <td>0.0</td>\n",
       "      <td>7</td>\n",
       "    </tr>\n",
       "    <tr>\n",
       "      <th>210</th>\n",
       "      <td>212</td>\n",
       "      <td>1.52065</td>\n",
       "      <td>14.36</td>\n",
       "      <td>0.0</td>\n",
       "      <td>2.02</td>\n",
       "      <td>73.42</td>\n",
       "      <td>0.00</td>\n",
       "      <td>8.44</td>\n",
       "      <td>1.64</td>\n",
       "      <td>0.0</td>\n",
       "      <td>7</td>\n",
       "    </tr>\n",
       "    <tr>\n",
       "      <th>211</th>\n",
       "      <td>213</td>\n",
       "      <td>1.51651</td>\n",
       "      <td>14.38</td>\n",
       "      <td>0.0</td>\n",
       "      <td>1.94</td>\n",
       "      <td>73.61</td>\n",
       "      <td>0.00</td>\n",
       "      <td>8.48</td>\n",
       "      <td>1.57</td>\n",
       "      <td>0.0</td>\n",
       "      <td>7</td>\n",
       "    </tr>\n",
       "    <tr>\n",
       "      <th>212</th>\n",
       "      <td>214</td>\n",
       "      <td>1.51711</td>\n",
       "      <td>14.23</td>\n",
       "      <td>0.0</td>\n",
       "      <td>2.08</td>\n",
       "      <td>73.36</td>\n",
       "      <td>0.00</td>\n",
       "      <td>8.62</td>\n",
       "      <td>1.67</td>\n",
       "      <td>0.0</td>\n",
       "      <td>7</td>\n",
       "    </tr>\n",
       "  </tbody>\n",
       "</table>\n",
       "</div>"
      ],
      "text/plain": [
       "       1  1.52101  13.64  4.49  1.10  71.78  0.06  8.75  0.00  0.00.1  1.1\n",
       "208  210  1.51623  14.14   0.0  2.88  72.61  0.08  9.18  1.06     0.0    7\n",
       "209  211  1.51685  14.92   0.0  1.99  73.06  0.00  8.40  1.59     0.0    7\n",
       "210  212  1.52065  14.36   0.0  2.02  73.42  0.00  8.44  1.64     0.0    7\n",
       "211  213  1.51651  14.38   0.0  1.94  73.61  0.00  8.48  1.57     0.0    7\n",
       "212  214  1.51711  14.23   0.0  2.08  73.36  0.00  8.62  1.67     0.0    7"
      ]
     },
     "execution_count": 5,
     "metadata": {},
     "output_type": "execute_result"
    }
   ],
   "source": [
    "df.tail()"
   ]
  },
  {
   "cell_type": "code",
   "execution_count": 7,
   "id": "503389e0",
   "metadata": {},
   "outputs": [
    {
     "data": {
      "text/plain": [
       "Index(['1', '1.52101', '13.64', '4.49', '1.10', '71.78', '0.06', '8.75',\n",
       "       '0.00', '0.00.1', '1.1'],\n",
       "      dtype='object')"
      ]
     },
     "execution_count": 7,
     "metadata": {},
     "output_type": "execute_result"
    }
   ],
   "source": [
    "df.columns"
   ]
  },
  {
   "cell_type": "code",
   "execution_count": 18,
   "id": "790422cf",
   "metadata": {},
   "outputs": [],
   "source": [
    "df1=df.rename(columns = {'1':'id_number','1.52101':'RI', '13.64':'Na', '4.49':'Mg', '1.10':'Al', '71.78':'Si', '0.06':'K', '8.75':'Ca',\n",
    "       '0.00':'Ba', '0.00.1':'Fe', '1.1':'Types_of_glass'},inplace=False)"
   ]
  },
  {
   "cell_type": "raw",
   "id": "a97d5471",
   "metadata": {},
   "source": [
    "columns description:\n",
    "Id number: 1 to 214\n",
    "RI: refractive index\n",
    "Na: Sodium \n",
    "Mg: Magnesium\n",
    "Al: Aluminum\n",
    "Si: Silicon\n",
    "K: Potassium\n",
    "Ca: Calcium\n",
    "Ba: Barium\n",
    "Fe: Iron\n",
    "Type of glass"
   ]
  },
  {
   "cell_type": "code",
   "execution_count": 22,
   "id": "15680ccf",
   "metadata": {},
   "outputs": [
    {
     "data": {
      "text/html": [
       "<div>\n",
       "<style scoped>\n",
       "    .dataframe tbody tr th:only-of-type {\n",
       "        vertical-align: middle;\n",
       "    }\n",
       "\n",
       "    .dataframe tbody tr th {\n",
       "        vertical-align: top;\n",
       "    }\n",
       "\n",
       "    .dataframe thead th {\n",
       "        text-align: right;\n",
       "    }\n",
       "</style>\n",
       "<table border=\"1\" class=\"dataframe\">\n",
       "  <thead>\n",
       "    <tr style=\"text-align: right;\">\n",
       "      <th></th>\n",
       "      <th>id_number</th>\n",
       "      <th>RI</th>\n",
       "      <th>Na</th>\n",
       "      <th>Mg</th>\n",
       "      <th>Al</th>\n",
       "      <th>Si</th>\n",
       "      <th>K</th>\n",
       "      <th>Ca</th>\n",
       "      <th>Ba</th>\n",
       "      <th>Fe</th>\n",
       "      <th>Types_of_glass</th>\n",
       "    </tr>\n",
       "  </thead>\n",
       "  <tbody>\n",
       "    <tr>\n",
       "      <th>0</th>\n",
       "      <td>2</td>\n",
       "      <td>1.51761</td>\n",
       "      <td>13.89</td>\n",
       "      <td>3.60</td>\n",
       "      <td>1.36</td>\n",
       "      <td>72.73</td>\n",
       "      <td>0.48</td>\n",
       "      <td>7.83</td>\n",
       "      <td>0.0</td>\n",
       "      <td>0.00</td>\n",
       "      <td>1</td>\n",
       "    </tr>\n",
       "    <tr>\n",
       "      <th>1</th>\n",
       "      <td>3</td>\n",
       "      <td>1.51618</td>\n",
       "      <td>13.53</td>\n",
       "      <td>3.55</td>\n",
       "      <td>1.54</td>\n",
       "      <td>72.99</td>\n",
       "      <td>0.39</td>\n",
       "      <td>7.78</td>\n",
       "      <td>0.0</td>\n",
       "      <td>0.00</td>\n",
       "      <td>1</td>\n",
       "    </tr>\n",
       "    <tr>\n",
       "      <th>2</th>\n",
       "      <td>4</td>\n",
       "      <td>1.51766</td>\n",
       "      <td>13.21</td>\n",
       "      <td>3.69</td>\n",
       "      <td>1.29</td>\n",
       "      <td>72.61</td>\n",
       "      <td>0.57</td>\n",
       "      <td>8.22</td>\n",
       "      <td>0.0</td>\n",
       "      <td>0.00</td>\n",
       "      <td>1</td>\n",
       "    </tr>\n",
       "    <tr>\n",
       "      <th>3</th>\n",
       "      <td>5</td>\n",
       "      <td>1.51742</td>\n",
       "      <td>13.27</td>\n",
       "      <td>3.62</td>\n",
       "      <td>1.24</td>\n",
       "      <td>73.08</td>\n",
       "      <td>0.55</td>\n",
       "      <td>8.07</td>\n",
       "      <td>0.0</td>\n",
       "      <td>0.00</td>\n",
       "      <td>1</td>\n",
       "    </tr>\n",
       "    <tr>\n",
       "      <th>4</th>\n",
       "      <td>6</td>\n",
       "      <td>1.51596</td>\n",
       "      <td>12.79</td>\n",
       "      <td>3.61</td>\n",
       "      <td>1.62</td>\n",
       "      <td>72.97</td>\n",
       "      <td>0.64</td>\n",
       "      <td>8.07</td>\n",
       "      <td>0.0</td>\n",
       "      <td>0.26</td>\n",
       "      <td>1</td>\n",
       "    </tr>\n",
       "  </tbody>\n",
       "</table>\n",
       "</div>"
      ],
      "text/plain": [
       "   id_number       RI     Na    Mg    Al     Si     K    Ca   Ba    Fe  \\\n",
       "0          2  1.51761  13.89  3.60  1.36  72.73  0.48  7.83  0.0  0.00   \n",
       "1          3  1.51618  13.53  3.55  1.54  72.99  0.39  7.78  0.0  0.00   \n",
       "2          4  1.51766  13.21  3.69  1.29  72.61  0.57  8.22  0.0  0.00   \n",
       "3          5  1.51742  13.27  3.62  1.24  73.08  0.55  8.07  0.0  0.00   \n",
       "4          6  1.51596  12.79  3.61  1.62  72.97  0.64  8.07  0.0  0.26   \n",
       "\n",
       "   Types_of_glass  \n",
       "0               1  \n",
       "1               1  \n",
       "2               1  \n",
       "3               1  \n",
       "4               1  "
      ]
     },
     "execution_count": 22,
     "metadata": {},
     "output_type": "execute_result"
    }
   ],
   "source": [
    "df1.head()"
   ]
  },
  {
   "cell_type": "code",
   "execution_count": 19,
   "id": "c938b42f",
   "metadata": {},
   "outputs": [
    {
     "data": {
      "text/plain": [
       "(213, 11)"
      ]
     },
     "execution_count": 19,
     "metadata": {},
     "output_type": "execute_result"
    }
   ],
   "source": [
    "df1.shape"
   ]
  },
  {
   "cell_type": "code",
   "execution_count": 20,
   "id": "6f8a19b5",
   "metadata": {},
   "outputs": [
    {
     "data": {
      "text/plain": [
       "id_number           int64\n",
       "RI                float64\n",
       "Na                float64\n",
       "Mg                float64\n",
       "Al                float64\n",
       "Si                float64\n",
       "K                 float64\n",
       "Ca                float64\n",
       "Ba                float64\n",
       "Fe                float64\n",
       "Types_of_glass      int64\n",
       "dtype: object"
      ]
     },
     "execution_count": 20,
     "metadata": {},
     "output_type": "execute_result"
    }
   ],
   "source": [
    "df1.dtypes"
   ]
  },
  {
   "cell_type": "code",
   "execution_count": 23,
   "id": "6574864e",
   "metadata": {},
   "outputs": [
    {
     "name": "stdout",
     "output_type": "stream",
     "text": [
      "<class 'pandas.core.frame.DataFrame'>\n",
      "RangeIndex: 213 entries, 0 to 212\n",
      "Data columns (total 11 columns):\n",
      " #   Column          Non-Null Count  Dtype  \n",
      "---  ------          --------------  -----  \n",
      " 0   id_number       213 non-null    int64  \n",
      " 1   RI              213 non-null    float64\n",
      " 2   Na              213 non-null    float64\n",
      " 3   Mg              213 non-null    float64\n",
      " 4   Al              213 non-null    float64\n",
      " 5   Si              213 non-null    float64\n",
      " 6   K               213 non-null    float64\n",
      " 7   Ca              213 non-null    float64\n",
      " 8   Ba              213 non-null    float64\n",
      " 9   Fe              213 non-null    float64\n",
      " 10  Types_of_glass  213 non-null    int64  \n",
      "dtypes: float64(9), int64(2)\n",
      "memory usage: 18.4 KB\n"
     ]
    }
   ],
   "source": [
    "df1.info()"
   ]
  },
  {
   "cell_type": "markdown",
   "id": "41f726a2",
   "metadata": {},
   "source": [
    "Checking null values in the dataframe"
   ]
  },
  {
   "cell_type": "code",
   "execution_count": 24,
   "id": "0a9dd895",
   "metadata": {},
   "outputs": [
    {
     "data": {
      "text/plain": [
       "id_number         0\n",
       "RI                0\n",
       "Na                0\n",
       "Mg                0\n",
       "Al                0\n",
       "Si                0\n",
       "K                 0\n",
       "Ca                0\n",
       "Ba                0\n",
       "Fe                0\n",
       "Types_of_glass    0\n",
       "dtype: int64"
      ]
     },
     "execution_count": 24,
     "metadata": {},
     "output_type": "execute_result"
    }
   ],
   "source": [
    "df1.isnull().sum()"
   ]
  },
  {
   "cell_type": "markdown",
   "id": "d65278c5",
   "metadata": {},
   "source": [
    "There is no null value in the dataset."
   ]
  },
  {
   "cell_type": "markdown",
   "id": "dbf07d95",
   "metadata": {},
   "source": [
    "# DataFrame Description"
   ]
  },
  {
   "cell_type": "markdown",
   "id": "f3125152",
   "metadata": {},
   "source": [
    "The dataframe contains the data of the glass identification on the basis of the data we have to predit the Type of glass.The data set contains the data like Id number: 1 to 214,RI: refractive index,Na: Sodium,Mg: Magnesium,Al: Aluminum,Si: Silicon,K: Potassium,Ca: Calcium,Ba: Barium,Fe: Iron,Type of glass.and There is no null value in the dataset."
   ]
  },
  {
   "cell_type": "code",
   "execution_count": 26,
   "id": "406abcdd",
   "metadata": {},
   "outputs": [
    {
     "data": {
      "text/html": [
       "<div>\n",
       "<style scoped>\n",
       "    .dataframe tbody tr th:only-of-type {\n",
       "        vertical-align: middle;\n",
       "    }\n",
       "\n",
       "    .dataframe tbody tr th {\n",
       "        vertical-align: top;\n",
       "    }\n",
       "\n",
       "    .dataframe thead th {\n",
       "        text-align: right;\n",
       "    }\n",
       "</style>\n",
       "<table border=\"1\" class=\"dataframe\">\n",
       "  <thead>\n",
       "    <tr style=\"text-align: right;\">\n",
       "      <th></th>\n",
       "      <th>id_number</th>\n",
       "      <th>RI</th>\n",
       "      <th>Na</th>\n",
       "      <th>Mg</th>\n",
       "      <th>Al</th>\n",
       "      <th>Si</th>\n",
       "      <th>K</th>\n",
       "      <th>Ca</th>\n",
       "      <th>Ba</th>\n",
       "      <th>Fe</th>\n",
       "      <th>Types_of_glass</th>\n",
       "    </tr>\n",
       "  </thead>\n",
       "  <tbody>\n",
       "    <tr>\n",
       "      <th>count</th>\n",
       "      <td>213.000000</td>\n",
       "      <td>213.000000</td>\n",
       "      <td>213.000000</td>\n",
       "      <td>213.000000</td>\n",
       "      <td>213.000000</td>\n",
       "      <td>213.000000</td>\n",
       "      <td>213.000000</td>\n",
       "      <td>213.000000</td>\n",
       "      <td>213.000000</td>\n",
       "      <td>213.000000</td>\n",
       "      <td>213.000000</td>\n",
       "    </tr>\n",
       "    <tr>\n",
       "      <th>mean</th>\n",
       "      <td>108.000000</td>\n",
       "      <td>1.518353</td>\n",
       "      <td>13.406761</td>\n",
       "      <td>2.676056</td>\n",
       "      <td>1.446526</td>\n",
       "      <td>72.655023</td>\n",
       "      <td>0.499108</td>\n",
       "      <td>8.957934</td>\n",
       "      <td>0.175869</td>\n",
       "      <td>0.057277</td>\n",
       "      <td>2.788732</td>\n",
       "    </tr>\n",
       "    <tr>\n",
       "      <th>std</th>\n",
       "      <td>61.631972</td>\n",
       "      <td>0.003039</td>\n",
       "      <td>0.818371</td>\n",
       "      <td>1.440453</td>\n",
       "      <td>0.499882</td>\n",
       "      <td>0.774052</td>\n",
       "      <td>0.653035</td>\n",
       "      <td>1.426435</td>\n",
       "      <td>0.498245</td>\n",
       "      <td>0.097589</td>\n",
       "      <td>2.105130</td>\n",
       "    </tr>\n",
       "    <tr>\n",
       "      <th>min</th>\n",
       "      <td>2.000000</td>\n",
       "      <td>1.511150</td>\n",
       "      <td>10.730000</td>\n",
       "      <td>0.000000</td>\n",
       "      <td>0.290000</td>\n",
       "      <td>69.810000</td>\n",
       "      <td>0.000000</td>\n",
       "      <td>5.430000</td>\n",
       "      <td>0.000000</td>\n",
       "      <td>0.000000</td>\n",
       "      <td>1.000000</td>\n",
       "    </tr>\n",
       "    <tr>\n",
       "      <th>25%</th>\n",
       "      <td>55.000000</td>\n",
       "      <td>1.516520</td>\n",
       "      <td>12.900000</td>\n",
       "      <td>2.090000</td>\n",
       "      <td>1.190000</td>\n",
       "      <td>72.280000</td>\n",
       "      <td>0.130000</td>\n",
       "      <td>8.240000</td>\n",
       "      <td>0.000000</td>\n",
       "      <td>0.000000</td>\n",
       "      <td>1.000000</td>\n",
       "    </tr>\n",
       "    <tr>\n",
       "      <th>50%</th>\n",
       "      <td>108.000000</td>\n",
       "      <td>1.517680</td>\n",
       "      <td>13.300000</td>\n",
       "      <td>3.480000</td>\n",
       "      <td>1.360000</td>\n",
       "      <td>72.790000</td>\n",
       "      <td>0.560000</td>\n",
       "      <td>8.600000</td>\n",
       "      <td>0.000000</td>\n",
       "      <td>0.000000</td>\n",
       "      <td>2.000000</td>\n",
       "    </tr>\n",
       "    <tr>\n",
       "      <th>75%</th>\n",
       "      <td>161.000000</td>\n",
       "      <td>1.519150</td>\n",
       "      <td>13.830000</td>\n",
       "      <td>3.600000</td>\n",
       "      <td>1.630000</td>\n",
       "      <td>73.090000</td>\n",
       "      <td>0.610000</td>\n",
       "      <td>9.180000</td>\n",
       "      <td>0.000000</td>\n",
       "      <td>0.100000</td>\n",
       "      <td>3.000000</td>\n",
       "    </tr>\n",
       "    <tr>\n",
       "      <th>max</th>\n",
       "      <td>214.000000</td>\n",
       "      <td>1.533930</td>\n",
       "      <td>17.380000</td>\n",
       "      <td>3.980000</td>\n",
       "      <td>3.500000</td>\n",
       "      <td>75.410000</td>\n",
       "      <td>6.210000</td>\n",
       "      <td>16.190000</td>\n",
       "      <td>3.150000</td>\n",
       "      <td>0.510000</td>\n",
       "      <td>7.000000</td>\n",
       "    </tr>\n",
       "  </tbody>\n",
       "</table>\n",
       "</div>"
      ],
      "text/plain": [
       "        id_number          RI          Na          Mg          Al          Si  \\\n",
       "count  213.000000  213.000000  213.000000  213.000000  213.000000  213.000000   \n",
       "mean   108.000000    1.518353   13.406761    2.676056    1.446526   72.655023   \n",
       "std     61.631972    0.003039    0.818371    1.440453    0.499882    0.774052   \n",
       "min      2.000000    1.511150   10.730000    0.000000    0.290000   69.810000   \n",
       "25%     55.000000    1.516520   12.900000    2.090000    1.190000   72.280000   \n",
       "50%    108.000000    1.517680   13.300000    3.480000    1.360000   72.790000   \n",
       "75%    161.000000    1.519150   13.830000    3.600000    1.630000   73.090000   \n",
       "max    214.000000    1.533930   17.380000    3.980000    3.500000   75.410000   \n",
       "\n",
       "                K          Ca          Ba          Fe  Types_of_glass  \n",
       "count  213.000000  213.000000  213.000000  213.000000      213.000000  \n",
       "mean     0.499108    8.957934    0.175869    0.057277        2.788732  \n",
       "std      0.653035    1.426435    0.498245    0.097589        2.105130  \n",
       "min      0.000000    5.430000    0.000000    0.000000        1.000000  \n",
       "25%      0.130000    8.240000    0.000000    0.000000        1.000000  \n",
       "50%      0.560000    8.600000    0.000000    0.000000        2.000000  \n",
       "75%      0.610000    9.180000    0.000000    0.100000        3.000000  \n",
       "max      6.210000   16.190000    3.150000    0.510000        7.000000  "
      ]
     },
     "execution_count": 26,
     "metadata": {},
     "output_type": "execute_result"
    }
   ],
   "source": [
    "df1.describe()"
   ]
  },
  {
   "cell_type": "raw",
   "id": "2cf266cb",
   "metadata": {},
   "source": [
    "KEY OBSERVATION:\n",
    "1.The mean is more than median(50th percentile)in Na,Al,Ca,Ba and Fe columns.\n",
    "2.The median is more than mean in Mg,Si and K columns.\n",
    "3.There is a large difference in 75% percentile & max in Na,K,Ca,Ba.\n",
    "3.The 1 & 2 observations suggest that there are extreme outliers present in these four columns."
   ]
  },
  {
   "cell_type": "markdown",
   "id": "33cad103",
   "metadata": {},
   "source": [
    "# EDA-Exploring Data Variable"
   ]
  },
  {
   "cell_type": "code",
   "execution_count": 28,
   "id": "dbb9b423",
   "metadata": {},
   "outputs": [
    {
     "data": {
      "text/plain": [
       "array([1, 2, 3, 5, 6, 7], dtype=int64)"
      ]
     },
     "execution_count": 28,
     "metadata": {},
     "output_type": "execute_result"
    }
   ],
   "source": [
    "df1.Types_of_glass.unique()"
   ]
  },
  {
   "cell_type": "raw",
   "id": "fa41c247",
   "metadata": {},
   "source": [
    "Observations:\n",
    "    1.Target/department varible is discrete & categorial in nature.\n",
    "    2.Types of glass obtained are between 1 to 7.and The dataset can be divided into window glass (classes 1-4) and non-window         glass (classes 5-7). "
   ]
  },
  {
   "cell_type": "code",
   "execution_count": 29,
   "id": "1ff56da1",
   "metadata": {},
   "outputs": [
    {
     "data": {
      "text/plain": [
       "2    76\n",
       "1    69\n",
       "7    29\n",
       "3    17\n",
       "5    13\n",
       "6     9\n",
       "Name: Types_of_glass, dtype: int64"
      ]
     },
     "execution_count": 29,
     "metadata": {},
     "output_type": "execute_result"
    }
   ],
   "source": [
    "df1.Types_of_glass.value_counts()"
   ]
  },
  {
   "cell_type": "raw",
   "id": "3b09df20",
   "metadata": {},
   "source": [
    "Observations:\n",
    "    Types of glass has most values concentrated in categories of 1,2,29 few observation are present in the categories in 3,5 and  6."
   ]
  },
  {
   "cell_type": "markdown",
   "id": "127dc578",
   "metadata": {},
   "source": [
    "# Data visualizations"
   ]
  },
  {
   "cell_type": "code",
   "execution_count": 32,
   "id": "23783692",
   "metadata": {},
   "outputs": [
    {
     "data": {
      "text/plain": [
       "<AxesSubplot:xlabel='RI', ylabel='Types_of_glass'>"
      ]
     },
     "execution_count": 32,
     "metadata": {},
     "output_type": "execute_result"
    },
    {
     "data": {
      "image/png": "[encoded data removed]",
      "text/plain": [
       "<Figure size 432x288 with 1 Axes>"
      ]
     },
     "metadata": {
      "needs_background": "light"
     },
     "output_type": "display_data"
    }
   ],
   "source": [
    "sns.scatterplot(x='RI',y='Types_of_glass',data=df1)"
   ]
  },
  {
   "cell_type": "markdown",
   "id": "77dfbc15",
   "metadata": {},
   "source": [
    "Observations-We can see the RI is distributed in the range 1.515 to 1.535."
   ]
  },
  {
   "cell_type": "code",
   "execution_count": 42,
   "id": "ded3d087",
   "metadata": {},
   "outputs": [
    {
     "data": {
      "text/plain": [
       "<AxesSubplot:xlabel='Na', ylabel='Types_of_glass'>"
      ]
     },
     "execution_count": 42,
     "metadata": {},
     "output_type": "execute_result"
    },
    {
     "data": {
      "image/png": "[encoded data removed]",
      "text/plain": [
       "<Figure size 432x288 with 1 Axes>"
      ]
     },
     "metadata": {
      "needs_background": "light"
     },
     "output_type": "display_data"
    }
   ],
   "source": [
    "sns.scatterplot(x='Na',y='Types_of_glass',data=df1)"
   ]
  },
  {
   "cell_type": "markdown",
   "id": "18e91237",
   "metadata": {},
   "source": [
    "Observations-We can see the Na is distributed in the range 11 to 17."
   ]
  },
  {
   "cell_type": "code",
   "execution_count": 43,
   "id": "61b28965",
   "metadata": {},
   "outputs": [
    {
     "data": {
      "text/plain": [
       "<AxesSubplot:xlabel='Mg', ylabel='Types_of_glass'>"
      ]
     },
     "execution_count": 43,
     "metadata": {},
     "output_type": "execute_result"
    },
    {
     "data": {
      "image/png": "[encoded data removed]",
      "text/plain": [
       "<Figure size 432x288 with 1 Axes>"
      ]
     },
     "metadata": {
      "needs_background": "light"
     },
     "output_type": "display_data"
    }
   ],
   "source": [
    "sns.scatterplot(x='Mg',y='Types_of_glass',data=df1)"
   ]
  },
  {
   "cell_type": "markdown",
   "id": "7503e64b",
   "metadata": {},
   "source": [
    "Observations-We can see the Mg is distributed in the range 0.0 to 4.0."
   ]
  },
  {
   "cell_type": "code",
   "execution_count": 44,
   "id": "71c65489",
   "metadata": {},
   "outputs": [
    {
     "data": {
      "text/plain": [
       "<AxesSubplot:xlabel='Al', ylabel='Types_of_glass'>"
      ]
     },
     "execution_count": 44,
     "metadata": {},
     "output_type": "execute_result"
    },
    {
     "data": {
      "image/png": "[encoded data removed]",
      "text/plain": [
       "<Figure size 432x288 with 1 Axes>"
      ]
     },
     "metadata": {
      "needs_background": "light"
     },
     "output_type": "display_data"
    }
   ],
   "source": [
    "sns.scatterplot(x='Al',y='Types_of_glass',data=df1)"
   ]
  },
  {
   "cell_type": "markdown",
   "id": "84072454",
   "metadata": {},
   "source": [
    "Observations-We can see the Al is equally distributed in the range 0.5 to 3.5."
   ]
  },
  {
   "cell_type": "code",
   "execution_count": 45,
   "id": "b6de6744",
   "metadata": {},
   "outputs": [
    {
     "data": {
      "text/plain": [
       "<AxesSubplot:xlabel='Si', ylabel='Types_of_glass'>"
      ]
     },
     "execution_count": 45,
     "metadata": {},
     "output_type": "execute_result"
    },
    {
     "data": {
      "image/png": "[encoded data removed]",
      "text/plain": [
       "<Figure size 432x288 with 1 Axes>"
      ]
     },
     "metadata": {
      "needs_background": "light"
     },
     "output_type": "display_data"
    }
   ],
   "source": [
    "sns.scatterplot(x='Si',y='Types_of_glass',data=df1)"
   ]
  },
  {
   "cell_type": "markdown",
   "id": "4a53a7d3",
   "metadata": {},
   "source": [
    "Observations-We can see the Si is equally distributed in the range 70 to 75.5."
   ]
  },
  {
   "cell_type": "code",
   "execution_count": 46,
   "id": "00c85025",
   "metadata": {},
   "outputs": [
    {
     "data": {
      "text/plain": [
       "<AxesSubplot:xlabel='K', ylabel='Types_of_glass'>"
      ]
     },
     "execution_count": 46,
     "metadata": {},
     "output_type": "execute_result"
    },
    {
     "data": {
      "image/png": "[encoded data removed]",
      "text/plain": [
       "<Figure size 432x288 with 1 Axes>"
      ]
     },
     "metadata": {
      "needs_background": "light"
     },
     "output_type": "display_data"
    }
   ],
   "source": [
    "sns.scatterplot(x='K',y='Types_of_glass',data=df1)"
   ]
  },
  {
   "cell_type": "markdown",
   "id": "95830e22",
   "metadata": {},
   "source": [
    "Observations-We can see the K is equally distributed in the range 0 to 6."
   ]
  },
  {
   "cell_type": "code",
   "execution_count": 47,
   "id": "3afe2e43",
   "metadata": {},
   "outputs": [
    {
     "data": {
      "text/plain": [
       "<AxesSubplot:xlabel='Ca', ylabel='Types_of_glass'>"
      ]
     },
     "execution_count": 47,
     "metadata": {},
     "output_type": "execute_result"
    },
    {
     "data": {
      "image/png": "[encoded data removed]",
      "text/plain": [
       "<Figure size 432x288 with 1 Axes>"
      ]
     },
     "metadata": {
      "needs_background": "light"
     },
     "output_type": "display_data"
    }
   ],
   "source": [
    "sns.scatterplot(x='Ca',y='Types_of_glass',data=df1)"
   ]
  },
  {
   "cell_type": "markdown",
   "id": "0767255d",
   "metadata": {},
   "source": [
    "Observations-We can see the Ca is equally distributed in the range 5.5 to 16."
   ]
  },
  {
   "cell_type": "code",
   "execution_count": 48,
   "id": "ce9a96a3",
   "metadata": {},
   "outputs": [
    {
     "data": {
      "text/plain": [
       "<AxesSubplot:xlabel='Ba', ylabel='Types_of_glass'>"
      ]
     },
     "execution_count": 48,
     "metadata": {},
     "output_type": "execute_result"
    },
    {
     "data": {
      "image/png": "[encoded data removed]",
      "text/plain": [
       "<Figure size 432x288 with 1 Axes>"
      ]
     },
     "metadata": {
      "needs_background": "light"
     },
     "output_type": "display_data"
    }
   ],
   "source": [
    "sns.scatterplot(x='Ba',y='Types_of_glass',data=df1)"
   ]
  },
  {
   "cell_type": "markdown",
   "id": "b955d3bb",
   "metadata": {},
   "source": [
    "Observations-We can see the Ba is equally distributed in the range 0.0 to 3.2."
   ]
  },
  {
   "cell_type": "code",
   "execution_count": 49,
   "id": "94247301",
   "metadata": {},
   "outputs": [
    {
     "data": {
      "text/plain": [
       "<AxesSubplot:xlabel='Fe', ylabel='Types_of_glass'>"
      ]
     },
     "execution_count": 49,
     "metadata": {},
     "output_type": "execute_result"
    },
    {
     "data": {
      "image/png": "[encoded data removed]",
      "text/plain": [
       "<Figure size 432x288 with 1 Axes>"
      ]
     },
     "metadata": {
      "needs_background": "light"
     },
     "output_type": "display_data"
    }
   ],
   "source": [
    "sns.scatterplot(x='Fe',y='Types_of_glass',data=df1)"
   ]
  },
  {
   "cell_type": "markdown",
   "id": "56265058",
   "metadata": {},
   "source": [
    "Observations-We can see the Fe is equally distributed in the range 0.0 to 0.5"
   ]
  },
  {
   "cell_type": "markdown",
   "id": "64b35097",
   "metadata": {},
   "source": [
    "# check correaltion"
   ]
  },
  {
   "cell_type": "code",
   "execution_count": 53,
   "id": "81ac2bfc",
   "metadata": {},
   "outputs": [
    {
     "data": {
      "text/html": [
       "<div>\n",
       "<style scoped>\n",
       "    .dataframe tbody tr th:only-of-type {\n",
       "        vertical-align: middle;\n",
       "    }\n",
       "\n",
       "    .dataframe tbody tr th {\n",
       "        vertical-align: top;\n",
       "    }\n",
       "\n",
       "    .dataframe thead th {\n",
       "        text-align: right;\n",
       "    }\n",
       "</style>\n",
       "<table border=\"1\" class=\"dataframe\">\n",
       "  <thead>\n",
       "    <tr style=\"text-align: right;\">\n",
       "      <th></th>\n",
       "      <th>id_number</th>\n",
       "      <th>RI</th>\n",
       "      <th>Na</th>\n",
       "      <th>Mg</th>\n",
       "      <th>Al</th>\n",
       "      <th>Si</th>\n",
       "      <th>K</th>\n",
       "      <th>Ca</th>\n",
       "      <th>Ba</th>\n",
       "      <th>Fe</th>\n",
       "      <th>Types_of_glass</th>\n",
       "    </tr>\n",
       "  </thead>\n",
       "  <tbody>\n",
       "    <tr>\n",
       "      <th>id_number</th>\n",
       "      <td>1.000000</td>\n",
       "      <td>-0.065721</td>\n",
       "      <td>0.380767</td>\n",
       "      <td>-0.647082</td>\n",
       "      <td>0.488475</td>\n",
       "      <td>0.052634</td>\n",
       "      <td>-0.002306</td>\n",
       "      <td>0.090257</td>\n",
       "      <td>0.451437</td>\n",
       "      <td>-0.078151</td>\n",
       "      <td>0.878113</td>\n",
       "    </tr>\n",
       "    <tr>\n",
       "      <th>RI</th>\n",
       "      <td>-0.065721</td>\n",
       "      <td>1.000000</td>\n",
       "      <td>-0.193436</td>\n",
       "      <td>-0.128118</td>\n",
       "      <td>-0.405671</td>\n",
       "      <td>-0.540010</td>\n",
       "      <td>-0.287900</td>\n",
       "      <td>0.812495</td>\n",
       "      <td>0.001062</td>\n",
       "      <td>0.145791</td>\n",
       "      <td>-0.161322</td>\n",
       "    </tr>\n",
       "    <tr>\n",
       "      <th>Na</th>\n",
       "      <td>0.380767</td>\n",
       "      <td>-0.193436</td>\n",
       "      <td>1.000000</td>\n",
       "      <td>-0.276486</td>\n",
       "      <td>0.157928</td>\n",
       "      <td>-0.068519</td>\n",
       "      <td>-0.265520</td>\n",
       "      <td>-0.275314</td>\n",
       "      <td>0.327233</td>\n",
       "      <td>-0.240802</td>\n",
       "      <td>0.504983</td>\n",
       "    </tr>\n",
       "    <tr>\n",
       "      <th>Mg</th>\n",
       "      <td>-0.647082</td>\n",
       "      <td>-0.128118</td>\n",
       "      <td>-0.276486</td>\n",
       "      <td>1.000000</td>\n",
       "      <td>-0.480035</td>\n",
       "      <td>-0.160359</td>\n",
       "      <td>0.009397</td>\n",
       "      <td>-0.444559</td>\n",
       "      <td>-0.492149</td>\n",
       "      <td>0.086906</td>\n",
       "      <td>-0.744004</td>\n",
       "    </tr>\n",
       "    <tr>\n",
       "      <th>Al</th>\n",
       "      <td>0.488475</td>\n",
       "      <td>-0.405671</td>\n",
       "      <td>0.157928</td>\n",
       "      <td>-0.480035</td>\n",
       "      <td>1.000000</td>\n",
       "      <td>-0.009226</td>\n",
       "      <td>0.324484</td>\n",
       "      <td>-0.260372</td>\n",
       "      <td>0.478936</td>\n",
       "      <td>-0.076456</td>\n",
       "      <td>0.597754</td>\n",
       "    </tr>\n",
       "    <tr>\n",
       "      <th>Si</th>\n",
       "      <td>0.052634</td>\n",
       "      <td>-0.540010</td>\n",
       "      <td>-0.068519</td>\n",
       "      <td>-0.160359</td>\n",
       "      <td>-0.009226</td>\n",
       "      <td>1.000000</td>\n",
       "      <td>-0.197684</td>\n",
       "      <td>-0.210141</td>\n",
       "      <td>-0.104361</td>\n",
       "      <td>-0.097674</td>\n",
       "      <td>0.147767</td>\n",
       "    </tr>\n",
       "    <tr>\n",
       "      <th>K</th>\n",
       "      <td>-0.002306</td>\n",
       "      <td>-0.287900</td>\n",
       "      <td>-0.265520</td>\n",
       "      <td>0.009397</td>\n",
       "      <td>0.324484</td>\n",
       "      <td>-0.197684</td>\n",
       "      <td>1.000000</td>\n",
       "      <td>-0.318649</td>\n",
       "      <td>-0.043790</td>\n",
       "      <td>-0.009586</td>\n",
       "      <td>-0.012765</td>\n",
       "    </tr>\n",
       "    <tr>\n",
       "      <th>Ca</th>\n",
       "      <td>0.090257</td>\n",
       "      <td>0.812495</td>\n",
       "      <td>-0.275314</td>\n",
       "      <td>-0.444559</td>\n",
       "      <td>-0.260372</td>\n",
       "      <td>-0.210141</td>\n",
       "      <td>-0.318649</td>\n",
       "      <td>1.000000</td>\n",
       "      <td>-0.113121</td>\n",
       "      <td>0.124674</td>\n",
       "      <td>0.000372</td>\n",
       "    </tr>\n",
       "    <tr>\n",
       "      <th>Ba</th>\n",
       "      <td>0.451437</td>\n",
       "      <td>0.001062</td>\n",
       "      <td>0.327233</td>\n",
       "      <td>-0.492149</td>\n",
       "      <td>0.478936</td>\n",
       "      <td>-0.104361</td>\n",
       "      <td>-0.043790</td>\n",
       "      <td>-0.113121</td>\n",
       "      <td>1.000000</td>\n",
       "      <td>-0.059729</td>\n",
       "      <td>0.574896</td>\n",
       "    </tr>\n",
       "    <tr>\n",
       "      <th>Fe</th>\n",
       "      <td>-0.078151</td>\n",
       "      <td>0.145791</td>\n",
       "      <td>-0.240802</td>\n",
       "      <td>0.086906</td>\n",
       "      <td>-0.076456</td>\n",
       "      <td>-0.097674</td>\n",
       "      <td>-0.009586</td>\n",
       "      <td>0.124674</td>\n",
       "      <td>-0.059729</td>\n",
       "      <td>1.000000</td>\n",
       "      <td>-0.191090</td>\n",
       "    </tr>\n",
       "    <tr>\n",
       "      <th>Types_of_glass</th>\n",
       "      <td>0.878113</td>\n",
       "      <td>-0.161322</td>\n",
       "      <td>0.504983</td>\n",
       "      <td>-0.744004</td>\n",
       "      <td>0.597754</td>\n",
       "      <td>0.147767</td>\n",
       "      <td>-0.012765</td>\n",
       "      <td>0.000372</td>\n",
       "      <td>0.574896</td>\n",
       "      <td>-0.191090</td>\n",
       "      <td>1.000000</td>\n",
       "    </tr>\n",
       "  </tbody>\n",
       "</table>\n",
       "</div>"
      ],
      "text/plain": [
       "                id_number        RI        Na        Mg        Al        Si  \\\n",
       "id_number        1.000000 -0.065721  0.380767 -0.647082  0.488475  0.052634   \n",
       "RI              -0.065721  1.000000 -0.193436 -0.128118 -0.405671 -0.540010   \n",
       "Na               0.380767 -0.193436  1.000000 -0.276486  0.157928 -0.068519   \n",
       "Mg              -0.647082 -0.128118 -0.276486  1.000000 -0.480035 -0.160359   \n",
       "Al               0.488475 -0.405671  0.157928 -0.480035  1.000000 -0.009226   \n",
       "Si               0.052634 -0.540010 -0.068519 -0.160359 -0.009226  1.000000   \n",
       "K               -0.002306 -0.287900 -0.265520  0.009397  0.324484 -0.197684   \n",
       "Ca               0.090257  0.812495 -0.275314 -0.444559 -0.260372 -0.210141   \n",
       "Ba               0.451437  0.001062  0.327233 -0.492149  0.478936 -0.104361   \n",
       "Fe              -0.078151  0.145791 -0.240802  0.086906 -0.076456 -0.097674   \n",
       "Types_of_glass   0.878113 -0.161322  0.504983 -0.744004  0.597754  0.147767   \n",
       "\n",
       "                       K        Ca        Ba        Fe  Types_of_glass  \n",
       "id_number      -0.002306  0.090257  0.451437 -0.078151        0.878113  \n",
       "RI             -0.287900  0.812495  0.001062  0.145791       -0.161322  \n",
       "Na             -0.265520 -0.275314  0.327233 -0.240802        0.504983  \n",
       "Mg              0.009397 -0.444559 -0.492149  0.086906       -0.744004  \n",
       "Al              0.324484 -0.260372  0.478936 -0.076456        0.597754  \n",
       "Si             -0.197684 -0.210141 -0.104361 -0.097674        0.147767  \n",
       "K               1.000000 -0.318649 -0.043790 -0.009586       -0.012765  \n",
       "Ca             -0.318649  1.000000 -0.113121  0.124674        0.000372  \n",
       "Ba             -0.043790 -0.113121  1.000000 -0.059729        0.574896  \n",
       "Fe             -0.009586  0.124674 -0.059729  1.000000       -0.191090  \n",
       "Types_of_glass -0.012765  0.000372  0.574896 -0.191090        1.000000  "
      ]
     },
     "execution_count": 53,
     "metadata": {},
     "output_type": "execute_result"
    }
   ],
   "source": [
    "dfcor=df1.corr()\n",
    "dfcor"
   ]
  },
  {
   "cell_type": "code",
   "execution_count": 56,
   "id": "bf1f1b49",
   "metadata": {},
   "outputs": [
    {
     "data": {
      "text/plain": [
       "<AxesSubplot:>"
      ]
     },
     "execution_count": 56,
     "metadata": {},
     "output_type": "execute_result"
    },
    {
     "data": {
      "image/png": "[encoded data removed]",
      "text/plain": [
       "<Figure size 1080x504 with 2 Axes>"
      ]
     },
     "metadata": {
      "needs_background": "light"
     },
     "output_type": "display_data"
    }
   ],
   "source": [
    "plt.figure(figsize=(15,7))\n",
    "sns.heatmap(dfcor,cmap='Blues',annot=True,linewidth=0.5,fmt='.2f')"
   ]
  },
  {
   "cell_type": "markdown",
   "id": "16b52f21",
   "metadata": {},
   "source": [
    "Checking the which column is positively related or negatively correlated with target columns."
   ]
  },
  {
   "cell_type": "code",
   "execution_count": 60,
   "id": "8a08c8f4",
   "metadata": {},
   "outputs": [
    {
     "data": {
      "image/png": "[encoded data removed]",
      "text/plain": [
       "<Figure size 1584x504 with 1 Axes>"
      ]
     },
     "metadata": {
      "needs_background": "light"
     },
     "output_type": "display_data"
    }
   ],
   "source": [
    "plt.figure(figsize=(22,7))\n",
    "dfcor['Types_of_glass'].sort_values(ascending=False).drop(['Types_of_glass']).plot(kind='bar',color='c')\n",
    "plt.xlabel('Feature',fontsize=14)\n",
    "plt.ylabel('column with target names',fontsize=14)\n",
    "plt.title('correlation',fontsize=18)\n",
    "plt.show()"
   ]
  },
  {
   "cell_type": "markdown",
   "id": "3113fed6",
   "metadata": {},
   "source": [
    "Observations-We can see the K,Rl,Fe and Mg are negatively related."
   ]
  },
  {
   "cell_type": "markdown",
   "id": "9342f761",
   "metadata": {},
   "source": [
    "# check skewness"
   ]
  },
  {
   "cell_type": "code",
   "execution_count": 62,
   "id": "9993a7fe",
   "metadata": {},
   "outputs": [
    {
     "data": {
      "text/plain": [
       "id_number         0.000000\n",
       "RI                1.639658\n",
       "Na                0.457318\n",
       "Mg               -1.154323\n",
       "Al                0.900017\n",
       "Si               -0.744546\n",
       "K                 6.549276\n",
       "Ca                2.040591\n",
       "Ba                3.406749\n",
       "Fe                1.747173\n",
       "Types_of_glass    1.108861\n",
       "dtype: float64"
      ]
     },
     "execution_count": 62,
     "metadata": {},
     "output_type": "execute_result"
    }
   ],
   "source": [
    "df1.skew()"
   ]
  },
  {
   "cell_type": "markdown",
   "id": "d8fe9fb9",
   "metadata": {},
   "source": [
    "# Outliers checking."
   ]
  },
  {
   "cell_type": "code",
   "execution_count": 65,
   "id": "cd76fc1a",
   "metadata": {},
   "outputs": [
    {
     "data": {
      "text/plain": [
       "<AxesSubplot:>"
      ]
     },
     "execution_count": 65,
     "metadata": {},
     "output_type": "execute_result"
    },
    {
     "data": {
      "image/png": "[encoded data removed]",
      "text/plain": [
       "<Figure size 432x288 with 1 Axes>"
      ]
     },
     "metadata": {
      "needs_background": "light"
     },
     "output_type": "display_data"
    }
   ],
   "source": [
    "df1['Ba'].plot.box()"
   ]
  },
  {
   "cell_type": "code",
   "execution_count": 66,
   "id": "ebcd0be8",
   "metadata": {},
   "outputs": [
    {
     "data": {
      "text/plain": [
       "<AxesSubplot:>"
      ]
     },
     "execution_count": 66,
     "metadata": {},
     "output_type": "execute_result"
    },
    {
     "data": {
      "image/png": "[encoded data removed]",
      "text/plain": [
       "<Figure size 432x288 with 1 Axes>"
      ]
     },
     "metadata": {
      "needs_background": "light"
     },
     "output_type": "display_data"
    }
   ],
   "source": [
    "df1['Ca'].plot.box()"
   ]
  },
  {
   "cell_type": "code",
   "execution_count": 67,
   "id": "5ac1cad9",
   "metadata": {},
   "outputs": [
    {
     "data": {
      "text/plain": [
       "<AxesSubplot:>"
      ]
     },
     "execution_count": 67,
     "metadata": {},
     "output_type": "execute_result"
    },
    {
     "data": {
      "image/png": "[encoded data removed]",
      "text/plain": [
       "<Figure size 432x288 with 1 Axes>"
      ]
     },
     "metadata": {
      "needs_background": "light"
     },
     "output_type": "display_data"
    }
   ],
   "source": [
    "df1['K'].plot.box()"
   ]
  },
  {
   "cell_type": "code",
   "execution_count": 70,
   "id": "c982f082",
   "metadata": {},
   "outputs": [
    {
     "data": {
      "text/plain": [
       "<AxesSubplot:>"
      ]
     },
     "execution_count": 70,
     "metadata": {},
     "output_type": "execute_result"
    },
    {
     "data": {
      "image/png": "[encoded data removed]",
      "text/plain": [
       "<Figure size 432x288 with 1 Axes>"
      ]
     },
     "metadata": {
      "needs_background": "light"
     },
     "output_type": "display_data"
    }
   ],
   "source": [
    "df1['RI'].plot.box()"
   ]
  },
  {
   "cell_type": "code",
   "execution_count": 71,
   "id": "cd85f182",
   "metadata": {},
   "outputs": [
    {
     "data": {
      "text/plain": [
       "<AxesSubplot:>"
      ]
     },
     "execution_count": 71,
     "metadata": {},
     "output_type": "execute_result"
    },
    {
     "data": {
      "image/png": "[encoded data removed]",
      "text/plain": [
       "<Figure size 432x288 with 1 Axes>"
      ]
     },
     "metadata": {
      "needs_background": "light"
     },
     "output_type": "display_data"
    }
   ],
   "source": [
    "df1['Al'].plot.box()"
   ]
  },
  {
   "cell_type": "code",
   "execution_count": 69,
   "id": "4a55054d",
   "metadata": {},
   "outputs": [
    {
     "data": {
      "text/plain": [
       "id_number            AxesSubplot(0.125,0.536818;0.110714x0.343182)\n",
       "RI                AxesSubplot(0.257857,0.536818;0.110714x0.343182)\n",
       "Na                AxesSubplot(0.390714,0.536818;0.110714x0.343182)\n",
       "Mg                AxesSubplot(0.523571,0.536818;0.110714x0.343182)\n",
       "Al                AxesSubplot(0.656429,0.536818;0.110714x0.343182)\n",
       "Si                AxesSubplot(0.789286,0.536818;0.110714x0.343182)\n",
       "K                       AxesSubplot(0.125,0.125;0.110714x0.343182)\n",
       "Ca                   AxesSubplot(0.257857,0.125;0.110714x0.343182)\n",
       "Ba                   AxesSubplot(0.390714,0.125;0.110714x0.343182)\n",
       "Fe                   AxesSubplot(0.523571,0.125;0.110714x0.343182)\n",
       "Types_of_glass       AxesSubplot(0.656429,0.125;0.110714x0.343182)\n",
       "dtype: object"
      ]
     },
     "execution_count": 69,
     "metadata": {},
     "output_type": "execute_result"
    },
    {
     "data": {
      "image/png": "[encoded data removed]",
      "text/plain": [
       "<Figure size 432x288 with 12 Axes>"
      ]
     },
     "metadata": {
      "needs_background": "light"
     },
     "output_type": "display_data"
    }
   ],
   "source": [
    "df1.plot(kind='box',subplots=True,layout=(2,6))"
   ]
  },
  {
   "cell_type": "markdown",
   "id": "3259b558",
   "metadata": {},
   "source": [
    "# Removing Outliers"
   ]
  },
  {
   "cell_type": "markdown",
   "id": "1669ec84",
   "metadata": {},
   "source": [
    "z-score technique"
   ]
  },
  {
   "cell_type": "code",
   "execution_count": 74,
   "id": "406fa628",
   "metadata": {},
   "outputs": [
    {
     "data": {
      "text/html": [
       "<div>\n",
       "<style scoped>\n",
       "    .dataframe tbody tr th:only-of-type {\n",
       "        vertical-align: middle;\n",
       "    }\n",
       "\n",
       "    .dataframe tbody tr th {\n",
       "        vertical-align: top;\n",
       "    }\n",
       "\n",
       "    .dataframe thead th {\n",
       "        text-align: right;\n",
       "    }\n",
       "</style>\n",
       "<table border=\"1\" class=\"dataframe\">\n",
       "  <thead>\n",
       "    <tr style=\"text-align: right;\">\n",
       "      <th></th>\n",
       "      <th>id_number</th>\n",
       "      <th>RI</th>\n",
       "      <th>Na</th>\n",
       "      <th>Mg</th>\n",
       "      <th>Al</th>\n",
       "      <th>Si</th>\n",
       "      <th>K</th>\n",
       "      <th>Ca</th>\n",
       "      <th>Ba</th>\n",
       "      <th>Fe</th>\n",
       "    </tr>\n",
       "  </thead>\n",
       "  <tbody>\n",
       "    <tr>\n",
       "      <th>0</th>\n",
       "      <td>2</td>\n",
       "      <td>1.51761</td>\n",
       "      <td>13.89</td>\n",
       "      <td>3.60</td>\n",
       "      <td>1.36</td>\n",
       "      <td>72.73</td>\n",
       "      <td>0.48</td>\n",
       "      <td>7.83</td>\n",
       "      <td>0.00</td>\n",
       "      <td>0.00</td>\n",
       "    </tr>\n",
       "    <tr>\n",
       "      <th>1</th>\n",
       "      <td>3</td>\n",
       "      <td>1.51618</td>\n",
       "      <td>13.53</td>\n",
       "      <td>3.55</td>\n",
       "      <td>1.54</td>\n",
       "      <td>72.99</td>\n",
       "      <td>0.39</td>\n",
       "      <td>7.78</td>\n",
       "      <td>0.00</td>\n",
       "      <td>0.00</td>\n",
       "    </tr>\n",
       "    <tr>\n",
       "      <th>2</th>\n",
       "      <td>4</td>\n",
       "      <td>1.51766</td>\n",
       "      <td>13.21</td>\n",
       "      <td>3.69</td>\n",
       "      <td>1.29</td>\n",
       "      <td>72.61</td>\n",
       "      <td>0.57</td>\n",
       "      <td>8.22</td>\n",
       "      <td>0.00</td>\n",
       "      <td>0.00</td>\n",
       "    </tr>\n",
       "    <tr>\n",
       "      <th>3</th>\n",
       "      <td>5</td>\n",
       "      <td>1.51742</td>\n",
       "      <td>13.27</td>\n",
       "      <td>3.62</td>\n",
       "      <td>1.24</td>\n",
       "      <td>73.08</td>\n",
       "      <td>0.55</td>\n",
       "      <td>8.07</td>\n",
       "      <td>0.00</td>\n",
       "      <td>0.00</td>\n",
       "    </tr>\n",
       "    <tr>\n",
       "      <th>4</th>\n",
       "      <td>6</td>\n",
       "      <td>1.51596</td>\n",
       "      <td>12.79</td>\n",
       "      <td>3.61</td>\n",
       "      <td>1.62</td>\n",
       "      <td>72.97</td>\n",
       "      <td>0.64</td>\n",
       "      <td>8.07</td>\n",
       "      <td>0.00</td>\n",
       "      <td>0.26</td>\n",
       "    </tr>\n",
       "    <tr>\n",
       "      <th>...</th>\n",
       "      <td>...</td>\n",
       "      <td>...</td>\n",
       "      <td>...</td>\n",
       "      <td>...</td>\n",
       "      <td>...</td>\n",
       "      <td>...</td>\n",
       "      <td>...</td>\n",
       "      <td>...</td>\n",
       "      <td>...</td>\n",
       "      <td>...</td>\n",
       "    </tr>\n",
       "    <tr>\n",
       "      <th>208</th>\n",
       "      <td>210</td>\n",
       "      <td>1.51623</td>\n",
       "      <td>14.14</td>\n",
       "      <td>0.00</td>\n",
       "      <td>2.88</td>\n",
       "      <td>72.61</td>\n",
       "      <td>0.08</td>\n",
       "      <td>9.18</td>\n",
       "      <td>1.06</td>\n",
       "      <td>0.00</td>\n",
       "    </tr>\n",
       "    <tr>\n",
       "      <th>209</th>\n",
       "      <td>211</td>\n",
       "      <td>1.51685</td>\n",
       "      <td>14.92</td>\n",
       "      <td>0.00</td>\n",
       "      <td>1.99</td>\n",
       "      <td>73.06</td>\n",
       "      <td>0.00</td>\n",
       "      <td>8.40</td>\n",
       "      <td>1.59</td>\n",
       "      <td>0.00</td>\n",
       "    </tr>\n",
       "    <tr>\n",
       "      <th>210</th>\n",
       "      <td>212</td>\n",
       "      <td>1.52065</td>\n",
       "      <td>14.36</td>\n",
       "      <td>0.00</td>\n",
       "      <td>2.02</td>\n",
       "      <td>73.42</td>\n",
       "      <td>0.00</td>\n",
       "      <td>8.44</td>\n",
       "      <td>1.64</td>\n",
       "      <td>0.00</td>\n",
       "    </tr>\n",
       "    <tr>\n",
       "      <th>211</th>\n",
       "      <td>213</td>\n",
       "      <td>1.51651</td>\n",
       "      <td>14.38</td>\n",
       "      <td>0.00</td>\n",
       "      <td>1.94</td>\n",
       "      <td>73.61</td>\n",
       "      <td>0.00</td>\n",
       "      <td>8.48</td>\n",
       "      <td>1.57</td>\n",
       "      <td>0.00</td>\n",
       "    </tr>\n",
       "    <tr>\n",
       "      <th>212</th>\n",
       "      <td>214</td>\n",
       "      <td>1.51711</td>\n",
       "      <td>14.23</td>\n",
       "      <td>0.00</td>\n",
       "      <td>2.08</td>\n",
       "      <td>73.36</td>\n",
       "      <td>0.00</td>\n",
       "      <td>8.62</td>\n",
       "      <td>1.67</td>\n",
       "      <td>0.00</td>\n",
       "    </tr>\n",
       "  </tbody>\n",
       "</table>\n",
       "<p>213 rows × 10 columns</p>\n",
       "</div>"
      ],
      "text/plain": [
       "     id_number       RI     Na    Mg    Al     Si     K    Ca    Ba    Fe\n",
       "0            2  1.51761  13.89  3.60  1.36  72.73  0.48  7.83  0.00  0.00\n",
       "1            3  1.51618  13.53  3.55  1.54  72.99  0.39  7.78  0.00  0.00\n",
       "2            4  1.51766  13.21  3.69  1.29  72.61  0.57  8.22  0.00  0.00\n",
       "3            5  1.51742  13.27  3.62  1.24  73.08  0.55  8.07  0.00  0.00\n",
       "4            6  1.51596  12.79  3.61  1.62  72.97  0.64  8.07  0.00  0.26\n",
       "..         ...      ...    ...   ...   ...    ...   ...   ...   ...   ...\n",
       "208        210  1.51623  14.14  0.00  2.88  72.61  0.08  9.18  1.06  0.00\n",
       "209        211  1.51685  14.92  0.00  1.99  73.06  0.00  8.40  1.59  0.00\n",
       "210        212  1.52065  14.36  0.00  2.02  73.42  0.00  8.44  1.64  0.00\n",
       "211        213  1.51651  14.38  0.00  1.94  73.61  0.00  8.48  1.57  0.00\n",
       "212        214  1.51711  14.23  0.00  2.08  73.36  0.00  8.62  1.67  0.00\n",
       "\n",
       "[213 rows x 10 columns]"
      ]
     },
     "execution_count": 74,
     "metadata": {},
     "output_type": "execute_result"
    }
   ],
   "source": [
    "x=df1.iloc[:,:-1]\n",
    "x"
   ]
  },
  {
   "cell_type": "code",
   "execution_count": 75,
   "id": "0913422d",
   "metadata": {},
   "outputs": [
    {
     "data": {
      "text/plain": [
       "0      1\n",
       "1      1\n",
       "2      1\n",
       "3      1\n",
       "4      1\n",
       "      ..\n",
       "208    7\n",
       "209    7\n",
       "210    7\n",
       "211    7\n",
       "212    7\n",
       "Name: Types_of_glass, Length: 213, dtype: int64"
      ]
     },
     "execution_count": 75,
     "metadata": {},
     "output_type": "execute_result"
    }
   ],
   "source": [
    "y=df1.iloc[:,-1]\n",
    "y"
   ]
  },
  {
   "cell_type": "code",
   "execution_count": 76,
   "id": "0a27bad6",
   "metadata": {},
   "outputs": [],
   "source": [
    "from scipy.stats import zscore"
   ]
  },
  {
   "cell_type": "code",
   "execution_count": 77,
   "id": "fdb8d4d3",
   "metadata": {},
   "outputs": [
    {
     "data": {
      "text/html": [
       "<div>\n",
       "<style scoped>\n",
       "    .dataframe tbody tr th:only-of-type {\n",
       "        vertical-align: middle;\n",
       "    }\n",
       "\n",
       "    .dataframe tbody tr th {\n",
       "        vertical-align: top;\n",
       "    }\n",
       "\n",
       "    .dataframe thead th {\n",
       "        text-align: right;\n",
       "    }\n",
       "</style>\n",
       "<table border=\"1\" class=\"dataframe\">\n",
       "  <thead>\n",
       "    <tr style=\"text-align: right;\">\n",
       "      <th></th>\n",
       "      <th>id_number</th>\n",
       "      <th>RI</th>\n",
       "      <th>Na</th>\n",
       "      <th>Mg</th>\n",
       "      <th>Al</th>\n",
       "      <th>Si</th>\n",
       "      <th>K</th>\n",
       "      <th>Ca</th>\n",
       "      <th>Ba</th>\n",
       "      <th>Fe</th>\n",
       "    </tr>\n",
       "  </thead>\n",
       "  <tbody>\n",
       "    <tr>\n",
       "      <th>0</th>\n",
       "      <td>1.723938</td>\n",
       "      <td>0.245101</td>\n",
       "      <td>0.591880</td>\n",
       "      <td>0.642937</td>\n",
       "      <td>0.173500</td>\n",
       "      <td>0.097091</td>\n",
       "      <td>0.029329</td>\n",
       "      <td>0.792599</td>\n",
       "      <td>0.353808</td>\n",
       "      <td>0.588301</td>\n",
       "    </tr>\n",
       "    <tr>\n",
       "      <th>1</th>\n",
       "      <td>1.707675</td>\n",
       "      <td>0.716826</td>\n",
       "      <td>0.150946</td>\n",
       "      <td>0.608144</td>\n",
       "      <td>0.187433</td>\n",
       "      <td>0.433777</td>\n",
       "      <td>0.167472</td>\n",
       "      <td>0.827734</td>\n",
       "      <td>0.353808</td>\n",
       "      <td>0.588301</td>\n",
       "    </tr>\n",
       "    <tr>\n",
       "      <th>2</th>\n",
       "      <td>1.691411</td>\n",
       "      <td>0.228607</td>\n",
       "      <td>0.240996</td>\n",
       "      <td>0.705564</td>\n",
       "      <td>0.313863</td>\n",
       "      <td>0.058303</td>\n",
       "      <td>0.108813</td>\n",
       "      <td>0.518546</td>\n",
       "      <td>0.353808</td>\n",
       "      <td>0.588301</td>\n",
       "    </tr>\n",
       "    <tr>\n",
       "      <th>3</th>\n",
       "      <td>1.675147</td>\n",
       "      <td>0.307777</td>\n",
       "      <td>0.167507</td>\n",
       "      <td>0.656854</td>\n",
       "      <td>0.414122</td>\n",
       "      <td>0.550322</td>\n",
       "      <td>0.078115</td>\n",
       "      <td>0.623951</td>\n",
       "      <td>0.353808</td>\n",
       "      <td>0.588301</td>\n",
       "    </tr>\n",
       "    <tr>\n",
       "      <th>4</th>\n",
       "      <td>1.658884</td>\n",
       "      <td>0.789399</td>\n",
       "      <td>0.755419</td>\n",
       "      <td>0.649895</td>\n",
       "      <td>0.347848</td>\n",
       "      <td>0.407878</td>\n",
       "      <td>0.216258</td>\n",
       "      <td>0.623951</td>\n",
       "      <td>0.353808</td>\n",
       "      <td>2.082200</td>\n",
       "    </tr>\n",
       "    <tr>\n",
       "      <th>...</th>\n",
       "      <td>...</td>\n",
       "      <td>...</td>\n",
       "      <td>...</td>\n",
       "      <td>...</td>\n",
       "      <td>...</td>\n",
       "      <td>...</td>\n",
       "      <td>...</td>\n",
       "      <td>...</td>\n",
       "      <td>...</td>\n",
       "      <td>...</td>\n",
       "    </tr>\n",
       "    <tr>\n",
       "      <th>208</th>\n",
       "      <td>1.658884</td>\n",
       "      <td>0.700332</td>\n",
       "      <td>0.898085</td>\n",
       "      <td>1.862164</td>\n",
       "      <td>2.874379</td>\n",
       "      <td>0.058303</td>\n",
       "      <td>0.643296</td>\n",
       "      <td>0.156046</td>\n",
       "      <td>1.778672</td>\n",
       "      <td>0.588301</td>\n",
       "    </tr>\n",
       "    <tr>\n",
       "      <th>209</th>\n",
       "      <td>1.675147</td>\n",
       "      <td>0.495808</td>\n",
       "      <td>1.853443</td>\n",
       "      <td>1.862164</td>\n",
       "      <td>1.089766</td>\n",
       "      <td>0.524423</td>\n",
       "      <td>0.766090</td>\n",
       "      <td>0.392060</td>\n",
       "      <td>2.844912</td>\n",
       "      <td>0.588301</td>\n",
       "    </tr>\n",
       "    <tr>\n",
       "      <th>210</th>\n",
       "      <td>1.691411</td>\n",
       "      <td>0.757727</td>\n",
       "      <td>1.167545</td>\n",
       "      <td>1.862164</td>\n",
       "      <td>1.149921</td>\n",
       "      <td>0.990604</td>\n",
       "      <td>0.766090</td>\n",
       "      <td>0.363952</td>\n",
       "      <td>2.945501</td>\n",
       "      <td>0.588301</td>\n",
       "    </tr>\n",
       "    <tr>\n",
       "      <th>211</th>\n",
       "      <td>1.707675</td>\n",
       "      <td>0.607966</td>\n",
       "      <td>1.192041</td>\n",
       "      <td>1.862164</td>\n",
       "      <td>0.989506</td>\n",
       "      <td>1.236644</td>\n",
       "      <td>0.766090</td>\n",
       "      <td>0.335844</td>\n",
       "      <td>2.804676</td>\n",
       "      <td>0.588301</td>\n",
       "    </tr>\n",
       "    <tr>\n",
       "      <th>212</th>\n",
       "      <td>1.723938</td>\n",
       "      <td>0.410039</td>\n",
       "      <td>1.008318</td>\n",
       "      <td>1.862164</td>\n",
       "      <td>1.270232</td>\n",
       "      <td>0.912907</td>\n",
       "      <td>0.766090</td>\n",
       "      <td>0.237466</td>\n",
       "      <td>3.005854</td>\n",
       "      <td>0.588301</td>\n",
       "    </tr>\n",
       "  </tbody>\n",
       "</table>\n",
       "<p>213 rows × 10 columns</p>\n",
       "</div>"
      ],
      "text/plain": [
       "     id_number        RI        Na        Mg        Al        Si         K  \\\n",
       "0     1.723938  0.245101  0.591880  0.642937  0.173500  0.097091  0.029329   \n",
       "1     1.707675  0.716826  0.150946  0.608144  0.187433  0.433777  0.167472   \n",
       "2     1.691411  0.228607  0.240996  0.705564  0.313863  0.058303  0.108813   \n",
       "3     1.675147  0.307777  0.167507  0.656854  0.414122  0.550322  0.078115   \n",
       "4     1.658884  0.789399  0.755419  0.649895  0.347848  0.407878  0.216258   \n",
       "..         ...       ...       ...       ...       ...       ...       ...   \n",
       "208   1.658884  0.700332  0.898085  1.862164  2.874379  0.058303  0.643296   \n",
       "209   1.675147  0.495808  1.853443  1.862164  1.089766  0.524423  0.766090   \n",
       "210   1.691411  0.757727  1.167545  1.862164  1.149921  0.990604  0.766090   \n",
       "211   1.707675  0.607966  1.192041  1.862164  0.989506  1.236644  0.766090   \n",
       "212   1.723938  0.410039  1.008318  1.862164  1.270232  0.912907  0.766090   \n",
       "\n",
       "           Ca        Ba        Fe  \n",
       "0    0.792599  0.353808  0.588301  \n",
       "1    0.827734  0.353808  0.588301  \n",
       "2    0.518546  0.353808  0.588301  \n",
       "3    0.623951  0.353808  0.588301  \n",
       "4    0.623951  0.353808  2.082200  \n",
       "..        ...       ...       ...  \n",
       "208  0.156046  1.778672  0.588301  \n",
       "209  0.392060  2.844912  0.588301  \n",
       "210  0.363952  2.945501  0.588301  \n",
       "211  0.335844  2.804676  0.588301  \n",
       "212  0.237466  3.005854  0.588301  \n",
       "\n",
       "[213 rows x 10 columns]"
      ]
     },
     "execution_count": 77,
     "metadata": {},
     "output_type": "execute_result"
    }
   ],
   "source": [
    "z=np.abs(zscore(x))\n",
    "z"
   ]
  },
  {
   "cell_type": "code",
   "execution_count": 78,
   "id": "39b3bde8",
   "metadata": {},
   "outputs": [
    {
     "name": "stdout",
     "output_type": "stream",
     "text": [
      "(array([104, 105, 105, 105, 105, 105, 106, 106, 106, 109, 110, 111, 111,\n",
      "       130, 144, 161, 162, 162, 162, 170, 170, 171, 171, 173, 183, 183,\n",
      "       187, 188, 200, 200, 202, 206, 212], dtype=int64), array([7, 1, 2, 5, 7, 8, 1, 5, 7, 7, 7, 1, 7, 7, 9, 9, 4, 5, 8, 4, 6, 4,\n",
      "       6, 9, 2, 5, 5, 8, 5, 6, 8, 8, 8], dtype=int64))\n"
     ]
    }
   ],
   "source": [
    "thereshold=3\n",
    "print(np.where(z>3))"
   ]
  },
  {
   "cell_type": "code",
   "execution_count": 81,
   "id": "f04f5913",
   "metadata": {},
   "outputs": [
    {
     "data": {
      "text/html": [
       "<div>\n",
       "<style scoped>\n",
       "    .dataframe tbody tr th:only-of-type {\n",
       "        vertical-align: middle;\n",
       "    }\n",
       "\n",
       "    .dataframe tbody tr th {\n",
       "        vertical-align: top;\n",
       "    }\n",
       "\n",
       "    .dataframe thead th {\n",
       "        text-align: right;\n",
       "    }\n",
       "</style>\n",
       "<table border=\"1\" class=\"dataframe\">\n",
       "  <thead>\n",
       "    <tr style=\"text-align: right;\">\n",
       "      <th></th>\n",
       "      <th>id_number</th>\n",
       "      <th>RI</th>\n",
       "      <th>Na</th>\n",
       "      <th>Mg</th>\n",
       "      <th>Al</th>\n",
       "      <th>Si</th>\n",
       "      <th>K</th>\n",
       "      <th>Ca</th>\n",
       "      <th>Ba</th>\n",
       "      <th>Fe</th>\n",
       "      <th>Types_of_glass</th>\n",
       "    </tr>\n",
       "  </thead>\n",
       "  <tbody>\n",
       "    <tr>\n",
       "      <th>0</th>\n",
       "      <td>2</td>\n",
       "      <td>1.51761</td>\n",
       "      <td>13.89</td>\n",
       "      <td>3.60</td>\n",
       "      <td>1.36</td>\n",
       "      <td>72.73</td>\n",
       "      <td>0.48</td>\n",
       "      <td>7.83</td>\n",
       "      <td>0.00</td>\n",
       "      <td>0.00</td>\n",
       "      <td>1</td>\n",
       "    </tr>\n",
       "    <tr>\n",
       "      <th>1</th>\n",
       "      <td>3</td>\n",
       "      <td>1.51618</td>\n",
       "      <td>13.53</td>\n",
       "      <td>3.55</td>\n",
       "      <td>1.54</td>\n",
       "      <td>72.99</td>\n",
       "      <td>0.39</td>\n",
       "      <td>7.78</td>\n",
       "      <td>0.00</td>\n",
       "      <td>0.00</td>\n",
       "      <td>1</td>\n",
       "    </tr>\n",
       "    <tr>\n",
       "      <th>2</th>\n",
       "      <td>4</td>\n",
       "      <td>1.51766</td>\n",
       "      <td>13.21</td>\n",
       "      <td>3.69</td>\n",
       "      <td>1.29</td>\n",
       "      <td>72.61</td>\n",
       "      <td>0.57</td>\n",
       "      <td>8.22</td>\n",
       "      <td>0.00</td>\n",
       "      <td>0.00</td>\n",
       "      <td>1</td>\n",
       "    </tr>\n",
       "    <tr>\n",
       "      <th>3</th>\n",
       "      <td>5</td>\n",
       "      <td>1.51742</td>\n",
       "      <td>13.27</td>\n",
       "      <td>3.62</td>\n",
       "      <td>1.24</td>\n",
       "      <td>73.08</td>\n",
       "      <td>0.55</td>\n",
       "      <td>8.07</td>\n",
       "      <td>0.00</td>\n",
       "      <td>0.00</td>\n",
       "      <td>1</td>\n",
       "    </tr>\n",
       "    <tr>\n",
       "      <th>4</th>\n",
       "      <td>6</td>\n",
       "      <td>1.51596</td>\n",
       "      <td>12.79</td>\n",
       "      <td>3.61</td>\n",
       "      <td>1.62</td>\n",
       "      <td>72.97</td>\n",
       "      <td>0.64</td>\n",
       "      <td>8.07</td>\n",
       "      <td>0.00</td>\n",
       "      <td>0.26</td>\n",
       "      <td>1</td>\n",
       "    </tr>\n",
       "    <tr>\n",
       "      <th>...</th>\n",
       "      <td>...</td>\n",
       "      <td>...</td>\n",
       "      <td>...</td>\n",
       "      <td>...</td>\n",
       "      <td>...</td>\n",
       "      <td>...</td>\n",
       "      <td>...</td>\n",
       "      <td>...</td>\n",
       "      <td>...</td>\n",
       "      <td>...</td>\n",
       "      <td>...</td>\n",
       "    </tr>\n",
       "    <tr>\n",
       "      <th>207</th>\n",
       "      <td>209</td>\n",
       "      <td>1.51640</td>\n",
       "      <td>14.37</td>\n",
       "      <td>0.00</td>\n",
       "      <td>2.74</td>\n",
       "      <td>72.85</td>\n",
       "      <td>0.00</td>\n",
       "      <td>9.45</td>\n",
       "      <td>0.54</td>\n",
       "      <td>0.00</td>\n",
       "      <td>7</td>\n",
       "    </tr>\n",
       "    <tr>\n",
       "      <th>208</th>\n",
       "      <td>210</td>\n",
       "      <td>1.51623</td>\n",
       "      <td>14.14</td>\n",
       "      <td>0.00</td>\n",
       "      <td>2.88</td>\n",
       "      <td>72.61</td>\n",
       "      <td>0.08</td>\n",
       "      <td>9.18</td>\n",
       "      <td>1.06</td>\n",
       "      <td>0.00</td>\n",
       "      <td>7</td>\n",
       "    </tr>\n",
       "    <tr>\n",
       "      <th>209</th>\n",
       "      <td>211</td>\n",
       "      <td>1.51685</td>\n",
       "      <td>14.92</td>\n",
       "      <td>0.00</td>\n",
       "      <td>1.99</td>\n",
       "      <td>73.06</td>\n",
       "      <td>0.00</td>\n",
       "      <td>8.40</td>\n",
       "      <td>1.59</td>\n",
       "      <td>0.00</td>\n",
       "      <td>7</td>\n",
       "    </tr>\n",
       "    <tr>\n",
       "      <th>210</th>\n",
       "      <td>212</td>\n",
       "      <td>1.52065</td>\n",
       "      <td>14.36</td>\n",
       "      <td>0.00</td>\n",
       "      <td>2.02</td>\n",
       "      <td>73.42</td>\n",
       "      <td>0.00</td>\n",
       "      <td>8.44</td>\n",
       "      <td>1.64</td>\n",
       "      <td>0.00</td>\n",
       "      <td>7</td>\n",
       "    </tr>\n",
       "    <tr>\n",
       "      <th>211</th>\n",
       "      <td>213</td>\n",
       "      <td>1.51651</td>\n",
       "      <td>14.38</td>\n",
       "      <td>0.00</td>\n",
       "      <td>1.94</td>\n",
       "      <td>73.61</td>\n",
       "      <td>0.00</td>\n",
       "      <td>8.48</td>\n",
       "      <td>1.57</td>\n",
       "      <td>0.00</td>\n",
       "      <td>7</td>\n",
       "    </tr>\n",
       "  </tbody>\n",
       "</table>\n",
       "<p>193 rows × 11 columns</p>\n",
       "</div>"
      ],
      "text/plain": [
       "     id_number       RI     Na    Mg    Al     Si     K    Ca    Ba    Fe  \\\n",
       "0            2  1.51761  13.89  3.60  1.36  72.73  0.48  7.83  0.00  0.00   \n",
       "1            3  1.51618  13.53  3.55  1.54  72.99  0.39  7.78  0.00  0.00   \n",
       "2            4  1.51766  13.21  3.69  1.29  72.61  0.57  8.22  0.00  0.00   \n",
       "3            5  1.51742  13.27  3.62  1.24  73.08  0.55  8.07  0.00  0.00   \n",
       "4            6  1.51596  12.79  3.61  1.62  72.97  0.64  8.07  0.00  0.26   \n",
       "..         ...      ...    ...   ...   ...    ...   ...   ...   ...   ...   \n",
       "207        209  1.51640  14.37  0.00  2.74  72.85  0.00  9.45  0.54  0.00   \n",
       "208        210  1.51623  14.14  0.00  2.88  72.61  0.08  9.18  1.06  0.00   \n",
       "209        211  1.51685  14.92  0.00  1.99  73.06  0.00  8.40  1.59  0.00   \n",
       "210        212  1.52065  14.36  0.00  2.02  73.42  0.00  8.44  1.64  0.00   \n",
       "211        213  1.51651  14.38  0.00  1.94  73.61  0.00  8.48  1.57  0.00   \n",
       "\n",
       "     Types_of_glass  \n",
       "0                 1  \n",
       "1                 1  \n",
       "2                 1  \n",
       "3                 1  \n",
       "4                 1  \n",
       "..              ...  \n",
       "207               7  \n",
       "208               7  \n",
       "209               7  \n",
       "210               7  \n",
       "211               7  \n",
       "\n",
       "[193 rows x 11 columns]"
      ]
     },
     "execution_count": 81,
     "metadata": {},
     "output_type": "execute_result"
    }
   ],
   "source": [
    "df_new=df1[(z<3).all(axis=1)]\n",
    "df_new"
   ]
  },
  {
   "cell_type": "markdown",
   "id": "c92b4a4c",
   "metadata": {},
   "source": [
    "# Percentage data loss"
   ]
  },
  {
   "cell_type": "code",
   "execution_count": 82,
   "id": "586cda01",
   "metadata": {},
   "outputs": [
    {
     "name": "stdout",
     "output_type": "stream",
     "text": [
      "9.389671361502346\n"
     ]
    }
   ],
   "source": [
    "loss_percent=(213-193)/213*100\n",
    "print(loss_percent)"
   ]
  },
  {
   "cell_type": "markdown",
   "id": "8ebc1da3",
   "metadata": {},
   "source": [
    "# Training"
   ]
  },
  {
   "cell_type": "code",
   "execution_count": 83,
   "id": "b0d57211",
   "metadata": {},
   "outputs": [],
   "source": [
    "from sklearn.linear_model import LogisticRegression\n",
    "from sklearn.metrics import accuracy_score\n",
    "from sklearn.metrics import confusion_matrix,classification_report\n",
    "from sklearn.model_selection import train_test_split\n",
    "from sklearn.tree import DecisionTreeClassifier\n"
   ]
  },
  {
   "cell_type": "markdown",
   "id": "014550ce",
   "metadata": {},
   "source": [
    "# Train Test Split"
   ]
  },
  {
   "cell_type": "code",
   "execution_count": 85,
   "id": "a079b73e",
   "metadata": {},
   "outputs": [],
   "source": [
    "x_train,x_test,y_train,y_test=train_test_split(x,y,test_size=.20,random_state=125)"
   ]
  },
  {
   "cell_type": "code",
   "execution_count": 86,
   "id": "c20113c9",
   "metadata": {},
   "outputs": [
    {
     "data": {
      "text/plain": [
       "(170, 10)"
      ]
     },
     "execution_count": 86,
     "metadata": {},
     "output_type": "execute_result"
    }
   ],
   "source": [
    "x_train.shape"
   ]
  },
  {
   "cell_type": "code",
   "execution_count": 88,
   "id": "18c510d2",
   "metadata": {},
   "outputs": [
    {
     "data": {
      "text/plain": [
       "(43, 10)"
      ]
     },
     "execution_count": 88,
     "metadata": {},
     "output_type": "execute_result"
    }
   ],
   "source": [
    "x_test.shape"
   ]
  },
  {
   "cell_type": "code",
   "execution_count": 87,
   "id": "9c03fabc",
   "metadata": {},
   "outputs": [
    {
     "data": {
      "text/plain": [
       "(170,)"
      ]
     },
     "execution_count": 87,
     "metadata": {},
     "output_type": "execute_result"
    }
   ],
   "source": [
    "y_train.shape"
   ]
  },
  {
   "cell_type": "code",
   "execution_count": 89,
   "id": "2ebbabb5",
   "metadata": {},
   "outputs": [
    {
     "data": {
      "text/plain": [
       "(43,)"
      ]
     },
     "execution_count": 89,
     "metadata": {},
     "output_type": "execute_result"
    }
   ],
   "source": [
    "y_test.shape"
   ]
  },
  {
   "cell_type": "markdown",
   "id": "e0240904",
   "metadata": {},
   "source": [
    "# Logistic Regression"
   ]
  },
  {
   "cell_type": "code",
   "execution_count": 91,
   "id": "870b6052",
   "metadata": {},
   "outputs": [
    {
     "name": "stdout",
     "output_type": "stream",
     "text": [
      "Acuuracy 97.67441860465115\n",
      "[[16  0  0  0  0  0]\n",
      " [ 0 14  0  0  0  0]\n",
      " [ 0  1  3  0  0  0]\n",
      " [ 0  0  0  3  0  0]\n",
      " [ 0  0  0  0  1  0]\n",
      " [ 0  0  0  0  0  5]]\n",
      "              precision    recall  f1-score   support\n",
      "\n",
      "           1       1.00      1.00      1.00        16\n",
      "           2       0.93      1.00      0.97        14\n",
      "           3       1.00      0.75      0.86         4\n",
      "           5       1.00      1.00      1.00         3\n",
      "           6       1.00      1.00      1.00         1\n",
      "           7       1.00      1.00      1.00         5\n",
      "\n",
      "    accuracy                           0.98        43\n",
      "   macro avg       0.99      0.96      0.97        43\n",
      "weighted avg       0.98      0.98      0.98        43\n",
      "\n"
     ]
    }
   ],
   "source": [
    "from sklearn.linear_model import LogisticRegression\n",
    "\n",
    "LR=LogisticRegression()\n",
    "LR.fit(x_train, y_train)\n",
    "predlr=LR.predict(x_test)\n",
    "print('Acuuracy',accuracy_score(y_test,predlr)*100)\n",
    "print(confusion_matrix(y_test,predlr))\n",
    "print(classification_report(y_test,predlr))"
   ]
  },
  {
   "cell_type": "markdown",
   "id": "cb8d88d0",
   "metadata": {},
   "source": [
    "# Decision Tree Classifier\n"
   ]
  },
  {
   "cell_type": "code",
   "execution_count": 92,
   "id": "e752f2e0",
   "metadata": {},
   "outputs": [
    {
     "name": "stdout",
     "output_type": "stream",
     "text": [
      "Testing accuracy 95.34883720930233\n",
      "Training accuracy 100.0\n",
      "[[16  0  0  0  0  0]\n",
      " [ 0 14  0  0  0  0]\n",
      " [ 0  2  2  0  0  0]\n",
      " [ 0  0  0  3  0  0]\n",
      " [ 0  0  0  0  1  0]\n",
      " [ 0  0  0  0  0  5]]\n",
      "              precision    recall  f1-score   support\n",
      "\n",
      "           1       1.00      1.00      1.00        16\n",
      "           2       0.88      1.00      0.93        14\n",
      "           3       1.00      0.50      0.67         4\n",
      "           5       1.00      1.00      1.00         3\n",
      "           6       1.00      1.00      1.00         1\n",
      "           7       1.00      1.00      1.00         5\n",
      "\n",
      "    accuracy                           0.95        43\n",
      "   macro avg       0.98      0.92      0.93        43\n",
      "weighted avg       0.96      0.95      0.95        43\n",
      "\n"
     ]
    }
   ],
   "source": [
    "from sklearn.tree import DecisionTreeClassifier\n",
    "\n",
    "dt=DecisionTreeClassifier()\n",
    "dt.fit(x_train,y_train)\n",
    "preddt=dt.predict(x_test)\n",
    "pred_train_dtc=dt.predict(x_train)\n",
    "print('Testing accuracy',accuracy_score(y_test,preddt)*100)\n",
    "print('Training accuracy',accuracy_score(y_train,pred_train_dtc)*100)\n",
    "print(confusion_matrix(y_test,preddt))\n",
    "print(classification_report(y_test,preddt))"
   ]
  },
  {
   "cell_type": "markdown",
   "id": "34dc4940",
   "metadata": {},
   "source": [
    "# Random Forest Classifier"
   ]
  },
  {
   "cell_type": "code",
   "execution_count": 93,
   "id": "7fe5d5a9",
   "metadata": {},
   "outputs": [
    {
     "name": "stdout",
     "output_type": "stream",
     "text": [
      "Accuracy 95.34883720930233\n",
      "[[16  0  0  0  0  0]\n",
      " [ 0 14  0  0  0  0]\n",
      " [ 0  2  2  0  0  0]\n",
      " [ 0  0  0  3  0  0]\n",
      " [ 0  0  0  0  1  0]\n",
      " [ 0  0  0  0  0  5]]\n",
      "              precision    recall  f1-score   support\n",
      "\n",
      "           1       1.00      1.00      1.00        16\n",
      "           2       0.88      1.00      0.93        14\n",
      "           3       1.00      0.50      0.67         4\n",
      "           5       1.00      1.00      1.00         3\n",
      "           6       1.00      1.00      1.00         1\n",
      "           7       1.00      1.00      1.00         5\n",
      "\n",
      "    accuracy                           0.95        43\n",
      "   macro avg       0.98      0.92      0.93        43\n",
      "weighted avg       0.96      0.95      0.95        43\n",
      "\n"
     ]
    }
   ],
   "source": [
    "from sklearn.ensemble import RandomForestClassifier\n",
    "rf=RandomForestClassifier(n_estimators=200)\n",
    "rf.fit(x_train,y_train)\n",
    "predrf=rf.predict(x_test)\n",
    "print('Accuracy',accuracy_score(y_test,predrf)*100)\n",
    "print(confusion_matrix(y_test,predrf))\n",
    "print(classification_report(y_test,predrf))"
   ]
  },
  {
   "cell_type": "markdown",
   "id": "f0440408",
   "metadata": {},
   "source": [
    "# SVC"
   ]
  },
  {
   "cell_type": "code",
   "execution_count": 94,
   "id": "a213ea68",
   "metadata": {},
   "outputs": [
    {
     "name": "stdout",
     "output_type": "stream",
     "text": [
      "Accuracy 81.3953488372093\n",
      "[[16  0  0  0  0  0]\n",
      " [ 0 14  0  0  0  0]\n",
      " [ 0  4  0  0  0  0]\n",
      " [ 0  0  2  0  0  1]\n",
      " [ 0  0  0  0  0  1]\n",
      " [ 0  0  0  0  0  5]]\n",
      "              precision    recall  f1-score   support\n",
      "\n",
      "           1       1.00      1.00      1.00        16\n",
      "           2       0.78      1.00      0.88        14\n",
      "           3       0.00      0.00      0.00         4\n",
      "           5       0.00      0.00      0.00         3\n",
      "           6       0.00      0.00      0.00         1\n",
      "           7       0.71      1.00      0.83         5\n",
      "\n",
      "    accuracy                           0.81        43\n",
      "   macro avg       0.42      0.50      0.45        43\n",
      "weighted avg       0.71      0.81      0.75        43\n",
      "\n"
     ]
    }
   ],
   "source": [
    "from sklearn.svm import SVC\n",
    "\n",
    "svc=SVC()\n",
    "svc.fit(x_train,y_train)\n",
    "ad_pred=svc.predict(x_test)\n",
    "print('Accuracy',accuracy_score(y_test,ad_pred)*100)\n",
    "print(confusion_matrix(y_test,ad_pred))\n",
    "print(classification_report(y_test,ad_pred))"
   ]
  },
  {
   "cell_type": "code",
   "execution_count": 99,
   "id": "f91e6eb8",
   "metadata": {},
   "outputs": [
    {
     "name": "stdout",
     "output_type": "stream",
     "text": [
      "Acuuracy 93.02325581395348\n",
      "[[16  0  0  0  0  0]\n",
      " [ 0 14  0  0  0  0]\n",
      " [ 0  2  2  0  0  0]\n",
      " [ 0  1  0  2  0  0]\n",
      " [ 0  0  0  0  1  0]\n",
      " [ 0  0  0  0  0  5]]\n",
      "              precision    recall  f1-score   support\n",
      "\n",
      "           1       1.00      1.00      1.00        16\n",
      "           2       0.82      1.00      0.90        14\n",
      "           3       1.00      0.50      0.67         4\n",
      "           5       1.00      0.67      0.80         3\n",
      "           6       1.00      1.00      1.00         1\n",
      "           7       1.00      1.00      1.00         5\n",
      "\n",
      "    accuracy                           0.93        43\n",
      "   macro avg       0.97      0.86      0.89        43\n",
      "weighted avg       0.94      0.93      0.92        43\n",
      "\n"
     ]
    }
   ],
   "source": [
    "from sklearn.ensemble import GradientBoostingClassifier\n",
    "\n",
    "gb=GradientBoostingClassifier()\n",
    "gb.fit(x_train,y_train)\n",
    "predgb=gb.predict(x_test)\n",
    "print('Acuuracy',accuracy_score(y_test,predgb)*100)\n",
    "print(confusion_matrix(y_test,predgb))\n",
    "print(classification_report(y_test,predgb))"
   ]
  },
  {
   "cell_type": "code",
   "execution_count": 100,
   "id": "83158183",
   "metadata": {},
   "outputs": [
    {
     "name": "stdout",
     "output_type": "stream",
     "text": [
      "Acuuracy 95.34883720930233\n",
      "[[16  0  0  0  0  0]\n",
      " [ 2 12  0  0  0  0]\n",
      " [ 0  0  4  0  0  0]\n",
      " [ 0  0  0  3  0  0]\n",
      " [ 0  0  0  0  1  0]\n",
      " [ 0  0  0  0  0  5]]\n",
      "              precision    recall  f1-score   support\n",
      "\n",
      "           1       0.89      1.00      0.94        16\n",
      "           2       1.00      0.86      0.92        14\n",
      "           3       1.00      1.00      1.00         4\n",
      "           5       1.00      1.00      1.00         3\n",
      "           6       1.00      1.00      1.00         1\n",
      "           7       1.00      1.00      1.00         5\n",
      "\n",
      "    accuracy                           0.95        43\n",
      "   macro avg       0.98      0.98      0.98        43\n",
      "weighted avg       0.96      0.95      0.95        43\n",
      "\n"
     ]
    }
   ],
   "source": [
    "from sklearn.ensemble import ExtraTreesClassifier\n",
    "\n",
    "et=ExtraTreesClassifier()\n",
    "et.fit(x_train,y_train)\n",
    "predet=et.predict(x_test)\n",
    "print('Acuuracy',accuracy_score(y_test,predet)*100)\n",
    "print(confusion_matrix(y_test,predet))\n",
    "print(classification_report(y_test,predet))"
   ]
  },
  {
   "cell_type": "markdown",
   "id": "3c6f4ad8",
   "metadata": {},
   "source": [
    "Logistic regression,Random forest classifier,Extra Trees Classifier and Desicion tree classifer are producing good accurancy .Now we check cross validation score as well for overfitting"
   ]
  },
  {
   "cell_type": "markdown",
   "id": "3cca75fd",
   "metadata": {},
   "source": [
    "# cross validation"
   ]
  },
  {
   "cell_type": "code",
   "execution_count": 95,
   "id": "b04a351f",
   "metadata": {},
   "outputs": [
    {
     "name": "stdout",
     "output_type": "stream",
     "text": [
      "cross valadition score of Logistic Regression model: 0.8820598006644518\n"
     ]
    }
   ],
   "source": [
    "from sklearn.model_selection import cross_val_score\n",
    "cr_1=cross_val_score(LR,x,y,cv=5)\n",
    "print('cross valadition score of Logistic Regression model:',cr_1.mean())"
   ]
  },
  {
   "cell_type": "code",
   "execution_count": 96,
   "id": "b2e096e5",
   "metadata": {},
   "outputs": [
    {
     "name": "stdout",
     "output_type": "stream",
     "text": [
      "cross valadition score of Decision tree model: 0.9637161084529506\n"
     ]
    }
   ],
   "source": [
    "cr_2=cross_val_score(dt,x,y,cv=19)\n",
    "print('cross valadition score of Decision tree model:',cr_2.mean())"
   ]
  },
  {
   "cell_type": "code",
   "execution_count": 97,
   "id": "1ccf5856",
   "metadata": {},
   "outputs": [
    {
     "name": "stdout",
     "output_type": "stream",
     "text": [
      "cross valadition score of Random forest model: 0.8870431893687707\n"
     ]
    }
   ],
   "source": [
    "cr_3=cross_val_score(rf,x,y,cv=5)\n",
    "print('cross valadition score of Random forest model:',cr_3.mean())"
   ]
  },
  {
   "cell_type": "code",
   "execution_count": 98,
   "id": "deb719ea",
   "metadata": {},
   "outputs": [
    {
     "name": "stdout",
     "output_type": "stream",
     "text": [
      "cross valadition score of SVC model: 0.7320044296788483\n"
     ]
    }
   ],
   "source": [
    "cr_4=cross_val_score(svc,x,y,cv=5)\n",
    "print('cross valadition score of SVC model:',cr_4.mean())"
   ]
  },
  {
   "cell_type": "code",
   "execution_count": 101,
   "id": "94b3001f",
   "metadata": {},
   "outputs": [
    {
     "name": "stdout",
     "output_type": "stream",
     "text": [
      "cross valadition score of Gradient Boosting model: 0.8445182724252491\n"
     ]
    }
   ],
   "source": [
    "cr_5=cross_val_score(gb,x,y,cv=5)\n",
    "print('cross valadition score of Gradient Boosting model:',cr_5.mean())"
   ]
  },
  {
   "cell_type": "code",
   "execution_count": 102,
   "id": "e1105cce",
   "metadata": {},
   "outputs": [
    {
     "name": "stdout",
     "output_type": "stream",
     "text": [
      "cross valadition score of Extra Trees model: 0.953266888150609\n"
     ]
    }
   ],
   "source": [
    "cr_6=cross_val_score(et,x,y,cv=5)\n",
    "print('cross valadition score of Extra Trees model:',cr_6.mean())"
   ]
  },
  {
   "cell_type": "markdown",
   "id": "72371b83",
   "metadata": {},
   "source": [
    "Decision Tree Classifier is performing better among all so we will continue with Decision Tree Classifier."
   ]
  },
  {
   "cell_type": "markdown",
   "id": "385e8f03",
   "metadata": {},
   "source": [
    "# Hyper parameter tunning"
   ]
  },
  {
   "cell_type": "code",
   "execution_count": 113,
   "id": "27bfcfbf",
   "metadata": {},
   "outputs": [],
   "source": [
    "from sklearn.model_selection import GridSearchCV\n",
    "\n",
    "parameters={'criterion':['gini','entropy'],\n",
    "            'random_state':[10,50,100],\n",
    "            'max_features':['auto','sqrt','log2']}\n",
    "           "
   ]
  },
  {
   "cell_type": "code",
   "execution_count": 114,
   "id": "44d614e9",
   "metadata": {},
   "outputs": [],
   "source": [
    "GCV=GridSearchCV(estimator=DecisionTreeClassifier(),\n",
    "                param_grid=parameters,\n",
    "                cv=7,\n",
    "                scoring='accuracy')\n"
   ]
  },
  {
   "cell_type": "code",
   "execution_count": 115,
   "id": "93ad4b5e",
   "metadata": {},
   "outputs": [
    {
     "data": {
      "text/plain": [
       "{'criterion': 'gini', 'max_features': 'auto', 'random_state': 10}"
      ]
     },
     "execution_count": 115,
     "metadata": {},
     "output_type": "execute_result"
    }
   ],
   "source": [
    "GCV.fit(x_train,y_train)\n",
    "GCV.best_params_"
   ]
  },
  {
   "cell_type": "code",
   "execution_count": 119,
   "id": "fb02699b",
   "metadata": {},
   "outputs": [
    {
     "data": {
      "text/plain": [
       "DecisionTreeClassifier(max_features='auto', random_state=10)"
      ]
     },
     "execution_count": 119,
     "metadata": {},
     "output_type": "execute_result"
    }
   ],
   "source": [
    "GCV.best_estimator_"
   ]
  },
  {
   "cell_type": "code",
   "execution_count": 120,
   "id": "8161ef0a",
   "metadata": {},
   "outputs": [
    {
     "data": {
      "text/plain": [
       "0.9302325581395349"
      ]
     },
     "execution_count": 120,
     "metadata": {},
     "output_type": "execute_result"
    }
   ],
   "source": [
    "GCV_pred=GCV.best_estimator_.predict(x_test)\n",
    "accuracy_score(y_test,GCV_pred)"
   ]
  },
  {
   "cell_type": "markdown",
   "id": "79bea678",
   "metadata": {},
   "source": [
    "# Saving the model"
   ]
  },
  {
   "cell_type": "code",
   "execution_count": 122,
   "id": "758ba16d",
   "metadata": {},
   "outputs": [],
   "source": [
    "import pickle"
   ]
  },
  {
   "cell_type": "code",
   "execution_count": 123,
   "id": "5470c287",
   "metadata": {},
   "outputs": [],
   "source": [
    "filename='glass identification predict'"
   ]
  },
  {
   "cell_type": "code",
   "execution_count": 124,
   "id": "f39b860e",
   "metadata": {},
   "outputs": [],
   "source": [
    "pickle.dump(rf,open(filename,'wb'))"
   ]
  },
  {
   "cell_type": "markdown",
   "id": "49e62042",
   "metadata": {},
   "source": [
    "# conclusion:"
   ]
  },
  {
   "cell_type": "code",
   "execution_count": 125,
   "id": "0b498439",
   "metadata": {},
   "outputs": [
    {
     "name": "stdout",
     "output_type": "stream",
     "text": [
      "95.34883720930233\n"
     ]
    }
   ],
   "source": [
    "loaded_model=pickle.load(open('glass identification predict','rb'))\n",
    "result=loaded_model.score(x_test,y_test)\n",
    "print(result*100)"
   ]
  },
  {
   "cell_type": "code",
   "execution_count": null,
   "id": "64a5eec0",
   "metadata": {},
   "outputs": [],
   "source": []
  }
 ],
 "metadata": {
  "kernelspec": {
   "display_name": "Python 3 (ipykernel)",
   "language": "python",
   "name": "python3"
  },
  "language_info": {
   "codemirror_mode": {
    "name": "ipython",
    "version": 3
   },
   "file_extension": ".py",
   "mimetype": "text/x-python",
   "name": "python",
   "nbconvert_exporter": "python",
   "pygments_lexer": "ipython3",
   "version": "3.9.12"
  }
 },
 "nbformat": 4,
 "nbformat_minor": 5
}
