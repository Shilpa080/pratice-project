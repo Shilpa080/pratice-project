{
 "cells": [
  {
   "cell_type": "markdown",
   "id": "ddc31ae0",
   "metadata": {},
   "source": [
    "# BANK MARKETING PROJECT"
   ]
  },
  {
   "cell_type": "code",
   "execution_count": 1,
   "id": "dd985f1e",
   "metadata": {},
   "outputs": [],
   "source": [
    "import pandas as pd\n",
    "import numpy as np\n",
    "import seaborn as sns\n",
    "import matplotlib.pyplot as plt\n",
    "import warnings\n",
    "warnings.filterwarnings('ignore')"
   ]
  },
  {
   "cell_type": "code",
   "execution_count": 2,
   "id": "57947138",
   "metadata": {},
   "outputs": [],
   "source": [
    "df=pd.read_csv('https://raw.githubusercontent.com/dsrscientist/dataset5/main/termdeposit_train.csv')"
   ]
  },
  {
   "cell_type": "code",
   "execution_count": 3,
   "id": "9dd0cc30",
   "metadata": {},
   "outputs": [],
   "source": [
    "df1=pd.read_csv('https://raw.githubusercontent.com/dsrscientist/dataset5/main/termdeposit_test.csv')"
   ]
  },
  {
   "cell_type": "code",
   "execution_count": 4,
   "id": "c6e09a64",
   "metadata": {},
   "outputs": [
    {
     "data": {
      "text/html": [
       "<div>\n",
       "<style scoped>\n",
       "    .dataframe tbody tr th:only-of-type {\n",
       "        vertical-align: middle;\n",
       "    }\n",
       "\n",
       "    .dataframe tbody tr th {\n",
       "        vertical-align: top;\n",
       "    }\n",
       "\n",
       "    .dataframe thead th {\n",
       "        text-align: right;\n",
       "    }\n",
       "</style>\n",
       "<table border=\"1\" class=\"dataframe\">\n",
       "  <thead>\n",
       "    <tr style=\"text-align: right;\">\n",
       "      <th></th>\n",
       "      <th>ID</th>\n",
       "      <th>age</th>\n",
       "      <th>job</th>\n",
       "      <th>marital</th>\n",
       "      <th>education</th>\n",
       "      <th>default</th>\n",
       "      <th>balance</th>\n",
       "      <th>housing</th>\n",
       "      <th>loan</th>\n",
       "      <th>contact</th>\n",
       "      <th>day</th>\n",
       "      <th>month</th>\n",
       "      <th>duration</th>\n",
       "      <th>campaign</th>\n",
       "      <th>pdays</th>\n",
       "      <th>previous</th>\n",
       "      <th>poutcome</th>\n",
       "      <th>subscribed</th>\n",
       "    </tr>\n",
       "  </thead>\n",
       "  <tbody>\n",
       "    <tr>\n",
       "      <th>0</th>\n",
       "      <td>26110</td>\n",
       "      <td>56</td>\n",
       "      <td>admin.</td>\n",
       "      <td>married</td>\n",
       "      <td>unknown</td>\n",
       "      <td>no</td>\n",
       "      <td>1933</td>\n",
       "      <td>no</td>\n",
       "      <td>no</td>\n",
       "      <td>telephone</td>\n",
       "      <td>19</td>\n",
       "      <td>nov</td>\n",
       "      <td>44</td>\n",
       "      <td>2</td>\n",
       "      <td>-1</td>\n",
       "      <td>0</td>\n",
       "      <td>unknown</td>\n",
       "      <td>no</td>\n",
       "    </tr>\n",
       "    <tr>\n",
       "      <th>1</th>\n",
       "      <td>40576</td>\n",
       "      <td>31</td>\n",
       "      <td>unknown</td>\n",
       "      <td>married</td>\n",
       "      <td>secondary</td>\n",
       "      <td>no</td>\n",
       "      <td>3</td>\n",
       "      <td>no</td>\n",
       "      <td>no</td>\n",
       "      <td>cellular</td>\n",
       "      <td>20</td>\n",
       "      <td>jul</td>\n",
       "      <td>91</td>\n",
       "      <td>2</td>\n",
       "      <td>-1</td>\n",
       "      <td>0</td>\n",
       "      <td>unknown</td>\n",
       "      <td>no</td>\n",
       "    </tr>\n",
       "    <tr>\n",
       "      <th>2</th>\n",
       "      <td>15320</td>\n",
       "      <td>27</td>\n",
       "      <td>services</td>\n",
       "      <td>married</td>\n",
       "      <td>secondary</td>\n",
       "      <td>no</td>\n",
       "      <td>891</td>\n",
       "      <td>yes</td>\n",
       "      <td>no</td>\n",
       "      <td>cellular</td>\n",
       "      <td>18</td>\n",
       "      <td>jul</td>\n",
       "      <td>240</td>\n",
       "      <td>1</td>\n",
       "      <td>-1</td>\n",
       "      <td>0</td>\n",
       "      <td>unknown</td>\n",
       "      <td>no</td>\n",
       "    </tr>\n",
       "    <tr>\n",
       "      <th>3</th>\n",
       "      <td>43962</td>\n",
       "      <td>57</td>\n",
       "      <td>management</td>\n",
       "      <td>divorced</td>\n",
       "      <td>tertiary</td>\n",
       "      <td>no</td>\n",
       "      <td>3287</td>\n",
       "      <td>no</td>\n",
       "      <td>no</td>\n",
       "      <td>cellular</td>\n",
       "      <td>22</td>\n",
       "      <td>jun</td>\n",
       "      <td>867</td>\n",
       "      <td>1</td>\n",
       "      <td>84</td>\n",
       "      <td>3</td>\n",
       "      <td>success</td>\n",
       "      <td>yes</td>\n",
       "    </tr>\n",
       "    <tr>\n",
       "      <th>4</th>\n",
       "      <td>29842</td>\n",
       "      <td>31</td>\n",
       "      <td>technician</td>\n",
       "      <td>married</td>\n",
       "      <td>secondary</td>\n",
       "      <td>no</td>\n",
       "      <td>119</td>\n",
       "      <td>yes</td>\n",
       "      <td>no</td>\n",
       "      <td>cellular</td>\n",
       "      <td>4</td>\n",
       "      <td>feb</td>\n",
       "      <td>380</td>\n",
       "      <td>1</td>\n",
       "      <td>-1</td>\n",
       "      <td>0</td>\n",
       "      <td>unknown</td>\n",
       "      <td>no</td>\n",
       "    </tr>\n",
       "  </tbody>\n",
       "</table>\n",
       "</div>"
      ],
      "text/plain": [
       "      ID  age         job   marital  education default  balance housing loan  \\\n",
       "0  26110   56      admin.   married    unknown      no     1933      no   no   \n",
       "1  40576   31     unknown   married  secondary      no        3      no   no   \n",
       "2  15320   27    services   married  secondary      no      891     yes   no   \n",
       "3  43962   57  management  divorced   tertiary      no     3287      no   no   \n",
       "4  29842   31  technician   married  secondary      no      119     yes   no   \n",
       "\n",
       "     contact  day month  duration  campaign  pdays  previous poutcome  \\\n",
       "0  telephone   19   nov        44         2     -1         0  unknown   \n",
       "1   cellular   20   jul        91         2     -1         0  unknown   \n",
       "2   cellular   18   jul       240         1     -1         0  unknown   \n",
       "3   cellular   22   jun       867         1     84         3  success   \n",
       "4   cellular    4   feb       380         1     -1         0  unknown   \n",
       "\n",
       "  subscribed  \n",
       "0         no  \n",
       "1         no  \n",
       "2         no  \n",
       "3        yes  \n",
       "4         no  "
      ]
     },
     "execution_count": 4,
     "metadata": {},
     "output_type": "execute_result"
    }
   ],
   "source": [
    "df.head()"
   ]
  },
  {
   "cell_type": "code",
   "execution_count": 5,
   "id": "556996ea",
   "metadata": {},
   "outputs": [
    {
     "data": {
      "text/html": [
       "<div>\n",
       "<style scoped>\n",
       "    .dataframe tbody tr th:only-of-type {\n",
       "        vertical-align: middle;\n",
       "    }\n",
       "\n",
       "    .dataframe tbody tr th {\n",
       "        vertical-align: top;\n",
       "    }\n",
       "\n",
       "    .dataframe thead th {\n",
       "        text-align: right;\n",
       "    }\n",
       "</style>\n",
       "<table border=\"1\" class=\"dataframe\">\n",
       "  <thead>\n",
       "    <tr style=\"text-align: right;\">\n",
       "      <th></th>\n",
       "      <th>ID</th>\n",
       "      <th>age</th>\n",
       "      <th>job</th>\n",
       "      <th>marital</th>\n",
       "      <th>education</th>\n",
       "      <th>default</th>\n",
       "      <th>balance</th>\n",
       "      <th>housing</th>\n",
       "      <th>loan</th>\n",
       "      <th>contact</th>\n",
       "      <th>day</th>\n",
       "      <th>month</th>\n",
       "      <th>duration</th>\n",
       "      <th>campaign</th>\n",
       "      <th>pdays</th>\n",
       "      <th>previous</th>\n",
       "      <th>poutcome</th>\n",
       "    </tr>\n",
       "  </thead>\n",
       "  <tbody>\n",
       "    <tr>\n",
       "      <th>0</th>\n",
       "      <td>38441</td>\n",
       "      <td>32</td>\n",
       "      <td>services</td>\n",
       "      <td>married</td>\n",
       "      <td>secondary</td>\n",
       "      <td>no</td>\n",
       "      <td>118</td>\n",
       "      <td>yes</td>\n",
       "      <td>no</td>\n",
       "      <td>cellular</td>\n",
       "      <td>15</td>\n",
       "      <td>may</td>\n",
       "      <td>20</td>\n",
       "      <td>6</td>\n",
       "      <td>-1</td>\n",
       "      <td>0</td>\n",
       "      <td>unknown</td>\n",
       "    </tr>\n",
       "    <tr>\n",
       "      <th>1</th>\n",
       "      <td>40403</td>\n",
       "      <td>78</td>\n",
       "      <td>retired</td>\n",
       "      <td>divorced</td>\n",
       "      <td>primary</td>\n",
       "      <td>no</td>\n",
       "      <td>2787</td>\n",
       "      <td>no</td>\n",
       "      <td>no</td>\n",
       "      <td>telephone</td>\n",
       "      <td>1</td>\n",
       "      <td>jul</td>\n",
       "      <td>372</td>\n",
       "      <td>1</td>\n",
       "      <td>-1</td>\n",
       "      <td>0</td>\n",
       "      <td>unknown</td>\n",
       "    </tr>\n",
       "    <tr>\n",
       "      <th>2</th>\n",
       "      <td>3709</td>\n",
       "      <td>31</td>\n",
       "      <td>self-employed</td>\n",
       "      <td>single</td>\n",
       "      <td>tertiary</td>\n",
       "      <td>no</td>\n",
       "      <td>144</td>\n",
       "      <td>yes</td>\n",
       "      <td>no</td>\n",
       "      <td>unknown</td>\n",
       "      <td>16</td>\n",
       "      <td>may</td>\n",
       "      <td>676</td>\n",
       "      <td>1</td>\n",
       "      <td>-1</td>\n",
       "      <td>0</td>\n",
       "      <td>unknown</td>\n",
       "    </tr>\n",
       "    <tr>\n",
       "      <th>3</th>\n",
       "      <td>37422</td>\n",
       "      <td>57</td>\n",
       "      <td>services</td>\n",
       "      <td>single</td>\n",
       "      <td>primary</td>\n",
       "      <td>no</td>\n",
       "      <td>3777</td>\n",
       "      <td>yes</td>\n",
       "      <td>no</td>\n",
       "      <td>telephone</td>\n",
       "      <td>13</td>\n",
       "      <td>may</td>\n",
       "      <td>65</td>\n",
       "      <td>2</td>\n",
       "      <td>-1</td>\n",
       "      <td>0</td>\n",
       "      <td>unknown</td>\n",
       "    </tr>\n",
       "    <tr>\n",
       "      <th>4</th>\n",
       "      <td>12527</td>\n",
       "      <td>45</td>\n",
       "      <td>blue-collar</td>\n",
       "      <td>divorced</td>\n",
       "      <td>secondary</td>\n",
       "      <td>no</td>\n",
       "      <td>-705</td>\n",
       "      <td>no</td>\n",
       "      <td>yes</td>\n",
       "      <td>unknown</td>\n",
       "      <td>3</td>\n",
       "      <td>jul</td>\n",
       "      <td>111</td>\n",
       "      <td>1</td>\n",
       "      <td>-1</td>\n",
       "      <td>0</td>\n",
       "      <td>unknown</td>\n",
       "    </tr>\n",
       "  </tbody>\n",
       "</table>\n",
       "</div>"
      ],
      "text/plain": [
       "      ID  age            job   marital  education default  balance housing  \\\n",
       "0  38441   32       services   married  secondary      no      118     yes   \n",
       "1  40403   78        retired  divorced    primary      no     2787      no   \n",
       "2   3709   31  self-employed    single   tertiary      no      144     yes   \n",
       "3  37422   57       services    single    primary      no     3777     yes   \n",
       "4  12527   45    blue-collar  divorced  secondary      no     -705      no   \n",
       "\n",
       "  loan    contact  day month  duration  campaign  pdays  previous poutcome  \n",
       "0   no   cellular   15   may        20         6     -1         0  unknown  \n",
       "1   no  telephone    1   jul       372         1     -1         0  unknown  \n",
       "2   no    unknown   16   may       676         1     -1         0  unknown  \n",
       "3   no  telephone   13   may        65         2     -1         0  unknown  \n",
       "4  yes    unknown    3   jul       111         1     -1         0  unknown  "
      ]
     },
     "execution_count": 5,
     "metadata": {},
     "output_type": "execute_result"
    }
   ],
   "source": [
    "df1.head()"
   ]
  },
  {
   "cell_type": "code",
   "execution_count": 6,
   "id": "1c42af7a",
   "metadata": {},
   "outputs": [
    {
     "data": {
      "text/html": [
       "<div>\n",
       "<style scoped>\n",
       "    .dataframe tbody tr th:only-of-type {\n",
       "        vertical-align: middle;\n",
       "    }\n",
       "\n",
       "    .dataframe tbody tr th {\n",
       "        vertical-align: top;\n",
       "    }\n",
       "\n",
       "    .dataframe thead th {\n",
       "        text-align: right;\n",
       "    }\n",
       "</style>\n",
       "<table border=\"1\" class=\"dataframe\">\n",
       "  <thead>\n",
       "    <tr style=\"text-align: right;\">\n",
       "      <th></th>\n",
       "      <th>ID</th>\n",
       "      <th>age</th>\n",
       "      <th>job</th>\n",
       "      <th>marital</th>\n",
       "      <th>education</th>\n",
       "      <th>default</th>\n",
       "      <th>balance</th>\n",
       "      <th>housing</th>\n",
       "      <th>loan</th>\n",
       "      <th>contact</th>\n",
       "      <th>day</th>\n",
       "      <th>month</th>\n",
       "      <th>duration</th>\n",
       "      <th>campaign</th>\n",
       "      <th>pdays</th>\n",
       "      <th>previous</th>\n",
       "      <th>poutcome</th>\n",
       "      <th>subscribed</th>\n",
       "    </tr>\n",
       "  </thead>\n",
       "  <tbody>\n",
       "    <tr>\n",
       "      <th>31642</th>\n",
       "      <td>36483</td>\n",
       "      <td>29</td>\n",
       "      <td>management</td>\n",
       "      <td>single</td>\n",
       "      <td>tertiary</td>\n",
       "      <td>no</td>\n",
       "      <td>0</td>\n",
       "      <td>yes</td>\n",
       "      <td>no</td>\n",
       "      <td>cellular</td>\n",
       "      <td>12</td>\n",
       "      <td>may</td>\n",
       "      <td>116</td>\n",
       "      <td>2</td>\n",
       "      <td>-1</td>\n",
       "      <td>0</td>\n",
       "      <td>unknown</td>\n",
       "      <td>no</td>\n",
       "    </tr>\n",
       "    <tr>\n",
       "      <th>31643</th>\n",
       "      <td>40178</td>\n",
       "      <td>53</td>\n",
       "      <td>management</td>\n",
       "      <td>divorced</td>\n",
       "      <td>tertiary</td>\n",
       "      <td>no</td>\n",
       "      <td>380</td>\n",
       "      <td>no</td>\n",
       "      <td>yes</td>\n",
       "      <td>cellular</td>\n",
       "      <td>5</td>\n",
       "      <td>jun</td>\n",
       "      <td>438</td>\n",
       "      <td>2</td>\n",
       "      <td>-1</td>\n",
       "      <td>0</td>\n",
       "      <td>unknown</td>\n",
       "      <td>yes</td>\n",
       "    </tr>\n",
       "    <tr>\n",
       "      <th>31644</th>\n",
       "      <td>19710</td>\n",
       "      <td>32</td>\n",
       "      <td>management</td>\n",
       "      <td>single</td>\n",
       "      <td>tertiary</td>\n",
       "      <td>no</td>\n",
       "      <td>312</td>\n",
       "      <td>no</td>\n",
       "      <td>no</td>\n",
       "      <td>cellular</td>\n",
       "      <td>7</td>\n",
       "      <td>aug</td>\n",
       "      <td>37</td>\n",
       "      <td>3</td>\n",
       "      <td>-1</td>\n",
       "      <td>0</td>\n",
       "      <td>unknown</td>\n",
       "      <td>no</td>\n",
       "    </tr>\n",
       "    <tr>\n",
       "      <th>31645</th>\n",
       "      <td>38556</td>\n",
       "      <td>57</td>\n",
       "      <td>technician</td>\n",
       "      <td>married</td>\n",
       "      <td>secondary</td>\n",
       "      <td>no</td>\n",
       "      <td>225</td>\n",
       "      <td>yes</td>\n",
       "      <td>no</td>\n",
       "      <td>telephone</td>\n",
       "      <td>15</td>\n",
       "      <td>may</td>\n",
       "      <td>22</td>\n",
       "      <td>7</td>\n",
       "      <td>337</td>\n",
       "      <td>12</td>\n",
       "      <td>failure</td>\n",
       "      <td>no</td>\n",
       "    </tr>\n",
       "    <tr>\n",
       "      <th>31646</th>\n",
       "      <td>14156</td>\n",
       "      <td>55</td>\n",
       "      <td>management</td>\n",
       "      <td>divorced</td>\n",
       "      <td>secondary</td>\n",
       "      <td>no</td>\n",
       "      <td>204</td>\n",
       "      <td>yes</td>\n",
       "      <td>no</td>\n",
       "      <td>cellular</td>\n",
       "      <td>11</td>\n",
       "      <td>jul</td>\n",
       "      <td>1973</td>\n",
       "      <td>2</td>\n",
       "      <td>-1</td>\n",
       "      <td>0</td>\n",
       "      <td>unknown</td>\n",
       "      <td>yes</td>\n",
       "    </tr>\n",
       "  </tbody>\n",
       "</table>\n",
       "</div>"
      ],
      "text/plain": [
       "          ID  age         job   marital  education default  balance housing  \\\n",
       "31642  36483   29  management    single   tertiary      no        0     yes   \n",
       "31643  40178   53  management  divorced   tertiary      no      380      no   \n",
       "31644  19710   32  management    single   tertiary      no      312      no   \n",
       "31645  38556   57  technician   married  secondary      no      225     yes   \n",
       "31646  14156   55  management  divorced  secondary      no      204     yes   \n",
       "\n",
       "      loan    contact  day month  duration  campaign  pdays  previous  \\\n",
       "31642   no   cellular   12   may       116         2     -1         0   \n",
       "31643  yes   cellular    5   jun       438         2     -1         0   \n",
       "31644   no   cellular    7   aug        37         3     -1         0   \n",
       "31645   no  telephone   15   may        22         7    337        12   \n",
       "31646   no   cellular   11   jul      1973         2     -1         0   \n",
       "\n",
       "      poutcome subscribed  \n",
       "31642  unknown         no  \n",
       "31643  unknown        yes  \n",
       "31644  unknown         no  \n",
       "31645  failure         no  \n",
       "31646  unknown        yes  "
      ]
     },
     "execution_count": 6,
     "metadata": {},
     "output_type": "execute_result"
    }
   ],
   "source": [
    "df.tail()"
   ]
  },
  {
   "cell_type": "code",
   "execution_count": 7,
   "id": "0ec1e74a",
   "metadata": {},
   "outputs": [
    {
     "data": {
      "text/plain": [
       "Index(['ID', 'age', 'job', 'marital', 'education', 'default', 'balance',\n",
       "       'housing', 'loan', 'contact', 'day', 'month', 'duration', 'campaign',\n",
       "       'pdays', 'previous', 'poutcome', 'subscribed'],\n",
       "      dtype='object')"
      ]
     },
     "execution_count": 7,
     "metadata": {},
     "output_type": "execute_result"
    }
   ],
   "source": [
    "df.columns"
   ]
  },
  {
   "cell_type": "code",
   "execution_count": 8,
   "id": "b7c6a2ce",
   "metadata": {},
   "outputs": [
    {
     "data": {
      "text/plain": [
       "(31647, 18)"
      ]
     },
     "execution_count": 8,
     "metadata": {},
     "output_type": "execute_result"
    }
   ],
   "source": [
    "df.shape"
   ]
  },
  {
   "cell_type": "markdown",
   "id": "0db38389",
   "metadata": {},
   "source": [
    "checking null values"
   ]
  },
  {
   "cell_type": "code",
   "execution_count": 9,
   "id": "fc6fd9bb",
   "metadata": {},
   "outputs": [
    {
     "data": {
      "text/plain": [
       "ID            0\n",
       "age           0\n",
       "job           0\n",
       "marital       0\n",
       "education     0\n",
       "default       0\n",
       "balance       0\n",
       "housing       0\n",
       "loan          0\n",
       "contact       0\n",
       "day           0\n",
       "month         0\n",
       "duration      0\n",
       "campaign      0\n",
       "pdays         0\n",
       "previous      0\n",
       "poutcome      0\n",
       "subscribed    0\n",
       "dtype: int64"
      ]
     },
     "execution_count": 9,
     "metadata": {},
     "output_type": "execute_result"
    }
   ],
   "source": [
    "df.isnull().sum()"
   ]
  },
  {
   "cell_type": "markdown",
   "id": "86a07310",
   "metadata": {},
   "source": [
    "There is no null value presented in the dataset."
   ]
  },
  {
   "cell_type": "code",
   "execution_count": 10,
   "id": "1ea88f9b",
   "metadata": {},
   "outputs": [
    {
     "data": {
      "text/plain": [
       "ID             int64\n",
       "age            int64\n",
       "job           object\n",
       "marital       object\n",
       "education     object\n",
       "default       object\n",
       "balance        int64\n",
       "housing       object\n",
       "loan          object\n",
       "contact       object\n",
       "day            int64\n",
       "month         object\n",
       "duration       int64\n",
       "campaign       int64\n",
       "pdays          int64\n",
       "previous       int64\n",
       "poutcome      object\n",
       "subscribed    object\n",
       "dtype: object"
      ]
     },
     "execution_count": 10,
     "metadata": {},
     "output_type": "execute_result"
    }
   ],
   "source": [
    "df.dtypes"
   ]
  },
  {
   "cell_type": "code",
   "execution_count": 11,
   "id": "b27736f2",
   "metadata": {},
   "outputs": [
    {
     "name": "stdout",
     "output_type": "stream",
     "text": [
      "<class 'pandas.core.frame.DataFrame'>\n",
      "RangeIndex: 31647 entries, 0 to 31646\n",
      "Data columns (total 18 columns):\n",
      " #   Column      Non-Null Count  Dtype \n",
      "---  ------      --------------  ----- \n",
      " 0   ID          31647 non-null  int64 \n",
      " 1   age         31647 non-null  int64 \n",
      " 2   job         31647 non-null  object\n",
      " 3   marital     31647 non-null  object\n",
      " 4   education   31647 non-null  object\n",
      " 5   default     31647 non-null  object\n",
      " 6   balance     31647 non-null  int64 \n",
      " 7   housing     31647 non-null  object\n",
      " 8   loan        31647 non-null  object\n",
      " 9   contact     31647 non-null  object\n",
      " 10  day         31647 non-null  int64 \n",
      " 11  month       31647 non-null  object\n",
      " 12  duration    31647 non-null  int64 \n",
      " 13  campaign    31647 non-null  int64 \n",
      " 14  pdays       31647 non-null  int64 \n",
      " 15  previous    31647 non-null  int64 \n",
      " 16  poutcome    31647 non-null  object\n",
      " 17  subscribed  31647 non-null  object\n",
      "dtypes: int64(8), object(10)\n",
      "memory usage: 4.3+ MB\n"
     ]
    }
   ],
   "source": [
    "df.info()"
   ]
  },
  {
   "cell_type": "markdown",
   "id": "bd9174ec",
   "metadata": {},
   "source": [
    "# DataFrame Description"
   ]
  },
  {
   "cell_type": "markdown",
   "id": "6fb738e0",
   "metadata": {},
   "source": [
    "The dataframe contains the data of the Bank Marketing on the basis of the data we have to predict whether a new set of clients will subscribe the term deposit.The data set contains the data like'ID', 'age', 'job', 'marital', 'education', 'default', 'balance','housing', 'loan', 'contact', 'day', 'month', 'duration', 'campaign','pdays', 'previous', 'poutcome', 'subscribed'.And there is no null value in the data."
   ]
  },
  {
   "cell_type": "code",
   "execution_count": 12,
   "id": "7727d6e1",
   "metadata": {},
   "outputs": [
    {
     "data": {
      "text/html": [
       "<div>\n",
       "<style scoped>\n",
       "    .dataframe tbody tr th:only-of-type {\n",
       "        vertical-align: middle;\n",
       "    }\n",
       "\n",
       "    .dataframe tbody tr th {\n",
       "        vertical-align: top;\n",
       "    }\n",
       "\n",
       "    .dataframe thead th {\n",
       "        text-align: right;\n",
       "    }\n",
       "</style>\n",
       "<table border=\"1\" class=\"dataframe\">\n",
       "  <thead>\n",
       "    <tr style=\"text-align: right;\">\n",
       "      <th></th>\n",
       "      <th>ID</th>\n",
       "      <th>age</th>\n",
       "      <th>balance</th>\n",
       "      <th>day</th>\n",
       "      <th>duration</th>\n",
       "      <th>campaign</th>\n",
       "      <th>pdays</th>\n",
       "      <th>previous</th>\n",
       "    </tr>\n",
       "  </thead>\n",
       "  <tbody>\n",
       "    <tr>\n",
       "      <th>count</th>\n",
       "      <td>31647.000000</td>\n",
       "      <td>31647.000000</td>\n",
       "      <td>31647.000000</td>\n",
       "      <td>31647.000000</td>\n",
       "      <td>31647.000000</td>\n",
       "      <td>31647.000000</td>\n",
       "      <td>31647.000000</td>\n",
       "      <td>31647.000000</td>\n",
       "    </tr>\n",
       "    <tr>\n",
       "      <th>mean</th>\n",
       "      <td>22563.972162</td>\n",
       "      <td>40.957247</td>\n",
       "      <td>1363.890258</td>\n",
       "      <td>15.835466</td>\n",
       "      <td>258.113534</td>\n",
       "      <td>2.765697</td>\n",
       "      <td>39.576042</td>\n",
       "      <td>0.574272</td>\n",
       "    </tr>\n",
       "    <tr>\n",
       "      <th>std</th>\n",
       "      <td>13075.936990</td>\n",
       "      <td>10.625134</td>\n",
       "      <td>3028.304293</td>\n",
       "      <td>8.337097</td>\n",
       "      <td>257.118973</td>\n",
       "      <td>3.113830</td>\n",
       "      <td>99.317592</td>\n",
       "      <td>2.422529</td>\n",
       "    </tr>\n",
       "    <tr>\n",
       "      <th>min</th>\n",
       "      <td>2.000000</td>\n",
       "      <td>18.000000</td>\n",
       "      <td>-8019.000000</td>\n",
       "      <td>1.000000</td>\n",
       "      <td>0.000000</td>\n",
       "      <td>1.000000</td>\n",
       "      <td>-1.000000</td>\n",
       "      <td>0.000000</td>\n",
       "    </tr>\n",
       "    <tr>\n",
       "      <th>25%</th>\n",
       "      <td>11218.000000</td>\n",
       "      <td>33.000000</td>\n",
       "      <td>73.000000</td>\n",
       "      <td>8.000000</td>\n",
       "      <td>104.000000</td>\n",
       "      <td>1.000000</td>\n",
       "      <td>-1.000000</td>\n",
       "      <td>0.000000</td>\n",
       "    </tr>\n",
       "    <tr>\n",
       "      <th>50%</th>\n",
       "      <td>22519.000000</td>\n",
       "      <td>39.000000</td>\n",
       "      <td>450.000000</td>\n",
       "      <td>16.000000</td>\n",
       "      <td>180.000000</td>\n",
       "      <td>2.000000</td>\n",
       "      <td>-1.000000</td>\n",
       "      <td>0.000000</td>\n",
       "    </tr>\n",
       "    <tr>\n",
       "      <th>75%</th>\n",
       "      <td>33879.500000</td>\n",
       "      <td>48.000000</td>\n",
       "      <td>1431.000000</td>\n",
       "      <td>21.000000</td>\n",
       "      <td>318.500000</td>\n",
       "      <td>3.000000</td>\n",
       "      <td>-1.000000</td>\n",
       "      <td>0.000000</td>\n",
       "    </tr>\n",
       "    <tr>\n",
       "      <th>max</th>\n",
       "      <td>45211.000000</td>\n",
       "      <td>95.000000</td>\n",
       "      <td>102127.000000</td>\n",
       "      <td>31.000000</td>\n",
       "      <td>4918.000000</td>\n",
       "      <td>63.000000</td>\n",
       "      <td>871.000000</td>\n",
       "      <td>275.000000</td>\n",
       "    </tr>\n",
       "  </tbody>\n",
       "</table>\n",
       "</div>"
      ],
      "text/plain": [
       "                 ID           age        balance           day      duration  \\\n",
       "count  31647.000000  31647.000000   31647.000000  31647.000000  31647.000000   \n",
       "mean   22563.972162     40.957247    1363.890258     15.835466    258.113534   \n",
       "std    13075.936990     10.625134    3028.304293      8.337097    257.118973   \n",
       "min        2.000000     18.000000   -8019.000000      1.000000      0.000000   \n",
       "25%    11218.000000     33.000000      73.000000      8.000000    104.000000   \n",
       "50%    22519.000000     39.000000     450.000000     16.000000    180.000000   \n",
       "75%    33879.500000     48.000000    1431.000000     21.000000    318.500000   \n",
       "max    45211.000000     95.000000  102127.000000     31.000000   4918.000000   \n",
       "\n",
       "           campaign         pdays      previous  \n",
       "count  31647.000000  31647.000000  31647.000000  \n",
       "mean       2.765697     39.576042      0.574272  \n",
       "std        3.113830     99.317592      2.422529  \n",
       "min        1.000000     -1.000000      0.000000  \n",
       "25%        1.000000     -1.000000      0.000000  \n",
       "50%        2.000000     -1.000000      0.000000  \n",
       "75%        3.000000     -1.000000      0.000000  \n",
       "max       63.000000    871.000000    275.000000  "
      ]
     },
     "execution_count": 12,
     "metadata": {},
     "output_type": "execute_result"
    }
   ],
   "source": [
    "df.describe()"
   ]
  },
  {
   "cell_type": "raw",
   "id": "3b7f823c",
   "metadata": {},
   "source": [
    "KEY OBSERVATION:\n",
    "1.The mean is more than median(50th percentile)in all columns expect days column.\n",
    "2.There is a large difference in 75% percentile & max in all columns."
   ]
  },
  {
   "cell_type": "markdown",
   "id": "3497e309",
   "metadata": {},
   "source": [
    "# EDA-Exploring Data Variable"
   ]
  },
  {
   "cell_type": "code",
   "execution_count": 13,
   "id": "65a209df",
   "metadata": {},
   "outputs": [
    {
     "data": {
      "text/plain": [
       "array(['no', 'yes'], dtype=object)"
      ]
     },
     "execution_count": 13,
     "metadata": {},
     "output_type": "execute_result"
    }
   ],
   "source": [
    "df.subscribed.unique()"
   ]
  },
  {
   "cell_type": "markdown",
   "id": "53a02805",
   "metadata": {},
   "source": [
    "In the dataset target variable gives only 2 output so above dataset is logistic regression problem."
   ]
  },
  {
   "cell_type": "code",
   "execution_count": 14,
   "id": "78ab83a0",
   "metadata": {},
   "outputs": [
    {
     "data": {
      "text/plain": [
       "no     27932\n",
       "yes     3715\n",
       "Name: subscribed, dtype: int64"
      ]
     },
     "execution_count": 14,
     "metadata": {},
     "output_type": "execute_result"
    }
   ],
   "source": [
    "df.subscribed.value_counts()"
   ]
  },
  {
   "cell_type": "markdown",
   "id": "a4d5687a",
   "metadata": {},
   "source": [
    "# Data visualizations"
   ]
  },
  {
   "cell_type": "code",
   "execution_count": 15,
   "id": "a067649f",
   "metadata": {},
   "outputs": [
    {
     "data": {
      "text/plain": [
       "Index(['ID', 'age', 'job', 'marital', 'education', 'default', 'balance',\n",
       "       'housing', 'loan', 'contact', 'day', 'month', 'duration', 'campaign',\n",
       "       'pdays', 'previous', 'poutcome', 'subscribed'],\n",
       "      dtype='object')"
      ]
     },
     "execution_count": 15,
     "metadata": {},
     "output_type": "execute_result"
    }
   ],
   "source": [
    "df.columns"
   ]
  },
  {
   "cell_type": "code",
   "execution_count": 16,
   "id": "01cc5645",
   "metadata": {},
   "outputs": [
    {
     "name": "stdout",
     "output_type": "stream",
     "text": [
      "married     19095\n",
      "single       8922\n",
      "divorced     3630\n",
      "Name: marital, dtype: int64\n"
     ]
    },
    {
     "data": {
      "image/png": "[encoded data removed]",
      "text/plain": [
       "<Figure size 432x288 with 1 Axes>"
      ]
     },
     "metadata": {
      "needs_background": "light"
     },
     "output_type": "display_data"
    }
   ],
   "source": [
    "sns.countplot(x='marital',data=df)\n",
    "print(df['marital'].value_counts())"
   ]
  },
  {
   "cell_type": "markdown",
   "id": "5b9c4ccc",
   "metadata": {},
   "source": [
    "From the above observation the total number of married Customer is 19095, total number of single Customer is 8922 and total number of divorced Customer is 3630."
   ]
  },
  {
   "cell_type": "code",
   "execution_count": 17,
   "id": "356968e4",
   "metadata": {},
   "outputs": [
    {
     "name": "stdout",
     "output_type": "stream",
     "text": [
      "secondary    16224\n",
      "tertiary      9301\n",
      "primary       4808\n",
      "unknown       1314\n",
      "Name: education, dtype: int64\n"
     ]
    },
    {
     "data": {
      "image/png": "[encoded data removed]",
      "text/plain": [
       "<Figure size 432x288 with 1 Axes>"
      ]
     },
     "metadata": {
      "needs_background": "light"
     },
     "output_type": "display_data"
    }
   ],
   "source": [
    "sns.countplot(x='education',data=df)\n",
    "print(df['education'].value_counts())"
   ]
  },
  {
   "cell_type": "markdown",
   "id": "3824321a",
   "metadata": {},
   "source": [
    "From the above observation the total number of unknown educated Customer is 1314, total number of primary educated Customer is 4808 ,total number of secondary educated Customer16224 and total number of tertiary educated Customer is 9301."
   ]
  },
  {
   "cell_type": "code",
   "execution_count": 18,
   "id": "7f03bafe",
   "metadata": {},
   "outputs": [
    {
     "name": "stdout",
     "output_type": "stream",
     "text": [
      "blue-collar      6842\n",
      "management       6639\n",
      "technician       5307\n",
      "admin.           3631\n",
      "services         2903\n",
      "retired          1574\n",
      "self-employed    1123\n",
      "entrepreneur     1008\n",
      "unemployed        905\n",
      "housemaid         874\n",
      "student           635\n",
      "unknown           206\n",
      "Name: job, dtype: int64\n"
     ]
    },
    {
     "data": {
      "image/png": "[encoded data removed]",
      "text/plain": [
       "<Figure size 432x288 with 1 Axes>"
      ]
     },
     "metadata": {
      "needs_background": "light"
     },
     "output_type": "display_data"
    }
   ],
   "source": [
    "sns.countplot(x='job',data=df)\n",
    "print(df['job'].value_counts())"
   ]
  },
  {
   "cell_type": "code",
   "execution_count": 19,
   "id": "11d3ff4b",
   "metadata": {},
   "outputs": [
    {
     "name": "stdout",
     "output_type": "stream",
     "text": [
      "yes    17584\n",
      "no     14063\n",
      "Name: housing, dtype: int64\n"
     ]
    },
    {
     "data": {
      "image/png": "[encoded data removed]",
      "text/plain": [
       "<Figure size 432x288 with 1 Axes>"
      ]
     },
     "metadata": {
      "needs_background": "light"
     },
     "output_type": "display_data"
    }
   ],
   "source": [
    "sns.countplot(x='housing',data=df)\n",
    "print(df['housing'].value_counts())"
   ]
  },
  {
   "cell_type": "markdown",
   "id": "0dcd9ec8",
   "metadata": {},
   "source": [
    "From the above observation the total number of housing loan Customer is 17584 and  total number of Customer who they not having housing loan is 14063. "
   ]
  },
  {
   "cell_type": "code",
   "execution_count": 20,
   "id": "0bd4ca58",
   "metadata": {},
   "outputs": [
    {
     "name": "stdout",
     "output_type": "stream",
     "text": [
      "no     26516\n",
      "yes     5131\n",
      "Name: loan, dtype: int64\n"
     ]
    },
    {
     "data": {
      "image/png": "[encoded data removed]",
      "text/plain": [
       "<Figure size 432x288 with 1 Axes>"
      ]
     },
     "metadata": {
      "needs_background": "light"
     },
     "output_type": "display_data"
    }
   ],
   "source": [
    "sns.countplot(x='loan',data=df)\n",
    "print(df['loan'].value_counts())"
   ]
  },
  {
   "cell_type": "markdown",
   "id": "bf5d68c5",
   "metadata": {},
   "source": [
    "From the above observation the total number of personal loan Customer is 5131 and  total number of Customer who they not having personal loan is 26516. "
   ]
  },
  {
   "cell_type": "code",
   "execution_count": 21,
   "id": "cf6e253d",
   "metadata": {},
   "outputs": [
    {
     "name": "stdout",
     "output_type": "stream",
     "text": [
      "cellular     20423\n",
      "unknown       9177\n",
      "telephone     2047\n",
      "Name: contact, dtype: int64\n"
     ]
    },
    {
     "data": {
      "image/png": "[encoded data removed]",
      "text/plain": [
       "<Figure size 432x288 with 1 Axes>"
      ]
     },
     "metadata": {
      "needs_background": "light"
     },
     "output_type": "display_data"
    }
   ],
   "source": [
    "sns.countplot(x='contact',data=df)\n",
    "print(df['contact'].value_counts())"
   ]
  },
  {
   "cell_type": "markdown",
   "id": "1d7baedc",
   "metadata": {},
   "source": [
    "From the above observation we see the type of communication of customer the total number of unknown contact Customer is 9177, total number of telephone contact Customer is 2047 and total number of cellular contact Customer 20423."
   ]
  },
  {
   "cell_type": "code",
   "execution_count": 22,
   "id": "189d2f12",
   "metadata": {},
   "outputs": [
    {
     "name": "stdout",
     "output_type": "stream",
     "text": [
      "no     31062\n",
      "yes      585\n",
      "Name: default, dtype: int64\n"
     ]
    },
    {
     "data": {
      "image/png": "[encoded data removed]",
      "text/plain": [
       "<Figure size 432x288 with 1 Axes>"
      ]
     },
     "metadata": {
      "needs_background": "light"
     },
     "output_type": "display_data"
    }
   ],
   "source": [
    "sns.countplot(x='default',data=df)\n",
    "print(df['default'].value_counts())"
   ]
  },
  {
   "cell_type": "markdown",
   "id": "9684b432",
   "metadata": {},
   "source": [
    "From the above observation the total number of default Customer is 585 and  total number of Customer not defaulty is 31062. "
   ]
  },
  {
   "cell_type": "code",
   "execution_count": 23,
   "id": "a644ab39",
   "metadata": {},
   "outputs": [
    {
     "name": "stdout",
     "output_type": "stream",
     "text": [
      "unknown    25929\n",
      "failure     3362\n",
      "other       1288\n",
      "success     1068\n",
      "Name: poutcome, dtype: int64\n"
     ]
    },
    {
     "data": {
      "image/png": "[encoded data removed]",
      "text/plain": [
       "<Figure size 432x288 with 1 Axes>"
      ]
     },
     "metadata": {
      "needs_background": "light"
     },
     "output_type": "display_data"
    }
   ],
   "source": [
    "sns.countplot(x='poutcome',data=df)\n",
    "print(df['poutcome'].value_counts())"
   ]
  },
  {
   "cell_type": "markdown",
   "id": "6b4c52e5",
   "metadata": {},
   "source": [
    "From the above observation we see the outcome of the previous marketing campaign of customer the total number of unknown Customer is 25929, total number of success Customer is 1068,total number of failure custmer is 3362 and total number of  Customer 1288."
   ]
  },
  {
   "cell_type": "code",
   "execution_count": 24,
   "id": "a88a428c",
   "metadata": {},
   "outputs": [
    {
     "data": {
      "text/plain": [
       "<AxesSubplot:xlabel='age', ylabel='subscribed'>"
      ]
     },
     "execution_count": 24,
     "metadata": {},
     "output_type": "execute_result"
    },
    {
     "data": {
      "image/png": "[encoded data removed]",
      "text/plain": [
       "<Figure size 432x288 with 1 Axes>"
      ]
     },
     "metadata": {
      "needs_background": "light"
     },
     "output_type": "display_data"
    }
   ],
   "source": [
    "sns.scatterplot(x='age',y='subscribed',data=df)"
   ]
  },
  {
   "cell_type": "code",
   "execution_count": 25,
   "id": "8b15194c",
   "metadata": {},
   "outputs": [
    {
     "data": {
      "text/plain": [
       "<AxesSubplot:xlabel='balance', ylabel='subscribed'>"
      ]
     },
     "execution_count": 25,
     "metadata": {},
     "output_type": "execute_result"
    },
    {
     "data": {
      "image/png": "[encoded data removed]",
      "text/plain": [
       "<Figure size 432x288 with 1 Axes>"
      ]
     },
     "metadata": {
      "needs_background": "light"
     },
     "output_type": "display_data"
    }
   ],
   "source": [
    "sns.scatterplot(x='balance',y='subscribed',data=df)"
   ]
  },
  {
   "cell_type": "code",
   "execution_count": 26,
   "id": "c8c2ab01",
   "metadata": {},
   "outputs": [
    {
     "data": {
      "text/plain": [
       "<AxesSubplot:xlabel='duration', ylabel='subscribed'>"
      ]
     },
     "execution_count": 26,
     "metadata": {},
     "output_type": "execute_result"
    },
    {
     "data": {
      "image/png": "[encoded data removed]",
      "text/plain": [
       "<Figure size 432x288 with 1 Axes>"
      ]
     },
     "metadata": {
      "needs_background": "light"
     },
     "output_type": "display_data"
    }
   ],
   "source": [
    "sns.scatterplot(x='duration',y='subscribed',data=df)"
   ]
  },
  {
   "cell_type": "code",
   "execution_count": 27,
   "id": "03af3e08",
   "metadata": {},
   "outputs": [
    {
     "data": {
      "text/plain": [
       "<AxesSubplot:xlabel='duration', ylabel='subscribed'>"
      ]
     },
     "execution_count": 27,
     "metadata": {},
     "output_type": "execute_result"
    },
    {
     "data": {
      "image/png": "[encoded data removed]",
      "text/plain": [
       "<Figure size 432x288 with 1 Axes>"
      ]
     },
     "metadata": {
      "needs_background": "light"
     },
     "output_type": "display_data"
    }
   ],
   "source": [
    "sns.scatterplot(x='duration',y='subscribed',data=df)"
   ]
  },
  {
   "cell_type": "code",
   "execution_count": 28,
   "id": "5cee757c",
   "metadata": {},
   "outputs": [
    {
     "data": {
      "text/plain": [
       "<AxesSubplot:xlabel='pdays', ylabel='subscribed'>"
      ]
     },
     "execution_count": 28,
     "metadata": {},
     "output_type": "execute_result"
    },
    {
     "data": {
      "image/png": "[encoded data removed]",
      "text/plain": [
       "<Figure size 432x288 with 1 Axes>"
      ]
     },
     "metadata": {
      "needs_background": "light"
     },
     "output_type": "display_data"
    }
   ],
   "source": [
    "sns.scatterplot(x='pdays',y='subscribed',data=df)"
   ]
  },
  {
   "cell_type": "code",
   "execution_count": 29,
   "id": "66e89e89",
   "metadata": {},
   "outputs": [
    {
     "data": {
      "text/plain": [
       "<AxesSubplot:xlabel='campaign', ylabel='subscribed'>"
      ]
     },
     "execution_count": 29,
     "metadata": {},
     "output_type": "execute_result"
    },
    {
     "data": {
      "image/png": "[encoded data removed]",
      "text/plain": [
       "<Figure size 432x288 with 1 Axes>"
      ]
     },
     "metadata": {
      "needs_background": "light"
     },
     "output_type": "display_data"
    }
   ],
   "source": [
    "sns.scatterplot(x='campaign',y='subscribed',data=df)\n"
   ]
  },
  {
   "cell_type": "code",
   "execution_count": 30,
   "id": "5dff4100",
   "metadata": {},
   "outputs": [
    {
     "data": {
      "text/plain": [
       "<AxesSubplot:xlabel='previous', ylabel='subscribed'>"
      ]
     },
     "execution_count": 30,
     "metadata": {},
     "output_type": "execute_result"
    },
    {
     "data": {
      "image/png": "[encoded data removed]",
      "text/plain": [
       "<Figure size 432x288 with 1 Axes>"
      ]
     },
     "metadata": {
      "needs_background": "light"
     },
     "output_type": "display_data"
    }
   ],
   "source": [
    "sns.scatterplot(x='previous',y='subscribed',data=df)"
   ]
  },
  {
   "cell_type": "markdown",
   "id": "4f217644",
   "metadata": {},
   "source": [
    "# Encoding of dataframe"
   ]
  },
  {
   "cell_type": "code",
   "execution_count": 31,
   "id": "0a18322d",
   "metadata": {},
   "outputs": [],
   "source": [
    "from sklearn.preprocessing import OrdinalEncoder\n",
    "enc=OrdinalEncoder()"
   ]
  },
  {
   "cell_type": "code",
   "execution_count": 32,
   "id": "7fe95848",
   "metadata": {},
   "outputs": [],
   "source": [
    "for i in df.columns:\n",
    "    if df[i].dtypes=='object':\n",
    "        df[i]=enc.fit_transform(df[i].values.reshape(-1,1))\n",
    "        "
   ]
  },
  {
   "cell_type": "code",
   "execution_count": 33,
   "id": "4bded3a8",
   "metadata": {},
   "outputs": [
    {
     "data": {
      "text/html": [
       "<div>\n",
       "<style scoped>\n",
       "    .dataframe tbody tr th:only-of-type {\n",
       "        vertical-align: middle;\n",
       "    }\n",
       "\n",
       "    .dataframe tbody tr th {\n",
       "        vertical-align: top;\n",
       "    }\n",
       "\n",
       "    .dataframe thead th {\n",
       "        text-align: right;\n",
       "    }\n",
       "</style>\n",
       "<table border=\"1\" class=\"dataframe\">\n",
       "  <thead>\n",
       "    <tr style=\"text-align: right;\">\n",
       "      <th></th>\n",
       "      <th>ID</th>\n",
       "      <th>age</th>\n",
       "      <th>job</th>\n",
       "      <th>marital</th>\n",
       "      <th>education</th>\n",
       "      <th>default</th>\n",
       "      <th>balance</th>\n",
       "      <th>housing</th>\n",
       "      <th>loan</th>\n",
       "      <th>contact</th>\n",
       "      <th>day</th>\n",
       "      <th>month</th>\n",
       "      <th>duration</th>\n",
       "      <th>campaign</th>\n",
       "      <th>pdays</th>\n",
       "      <th>previous</th>\n",
       "      <th>poutcome</th>\n",
       "      <th>subscribed</th>\n",
       "    </tr>\n",
       "  </thead>\n",
       "  <tbody>\n",
       "    <tr>\n",
       "      <th>0</th>\n",
       "      <td>26110</td>\n",
       "      <td>56</td>\n",
       "      <td>0.0</td>\n",
       "      <td>1.0</td>\n",
       "      <td>3.0</td>\n",
       "      <td>0.0</td>\n",
       "      <td>1933</td>\n",
       "      <td>0.0</td>\n",
       "      <td>0.0</td>\n",
       "      <td>1.0</td>\n",
       "      <td>19</td>\n",
       "      <td>9.0</td>\n",
       "      <td>44</td>\n",
       "      <td>2</td>\n",
       "      <td>-1</td>\n",
       "      <td>0</td>\n",
       "      <td>3.0</td>\n",
       "      <td>0.0</td>\n",
       "    </tr>\n",
       "    <tr>\n",
       "      <th>1</th>\n",
       "      <td>40576</td>\n",
       "      <td>31</td>\n",
       "      <td>11.0</td>\n",
       "      <td>1.0</td>\n",
       "      <td>1.0</td>\n",
       "      <td>0.0</td>\n",
       "      <td>3</td>\n",
       "      <td>0.0</td>\n",
       "      <td>0.0</td>\n",
       "      <td>0.0</td>\n",
       "      <td>20</td>\n",
       "      <td>5.0</td>\n",
       "      <td>91</td>\n",
       "      <td>2</td>\n",
       "      <td>-1</td>\n",
       "      <td>0</td>\n",
       "      <td>3.0</td>\n",
       "      <td>0.0</td>\n",
       "    </tr>\n",
       "    <tr>\n",
       "      <th>2</th>\n",
       "      <td>15320</td>\n",
       "      <td>27</td>\n",
       "      <td>7.0</td>\n",
       "      <td>1.0</td>\n",
       "      <td>1.0</td>\n",
       "      <td>0.0</td>\n",
       "      <td>891</td>\n",
       "      <td>1.0</td>\n",
       "      <td>0.0</td>\n",
       "      <td>0.0</td>\n",
       "      <td>18</td>\n",
       "      <td>5.0</td>\n",
       "      <td>240</td>\n",
       "      <td>1</td>\n",
       "      <td>-1</td>\n",
       "      <td>0</td>\n",
       "      <td>3.0</td>\n",
       "      <td>0.0</td>\n",
       "    </tr>\n",
       "    <tr>\n",
       "      <th>3</th>\n",
       "      <td>43962</td>\n",
       "      <td>57</td>\n",
       "      <td>4.0</td>\n",
       "      <td>0.0</td>\n",
       "      <td>2.0</td>\n",
       "      <td>0.0</td>\n",
       "      <td>3287</td>\n",
       "      <td>0.0</td>\n",
       "      <td>0.0</td>\n",
       "      <td>0.0</td>\n",
       "      <td>22</td>\n",
       "      <td>6.0</td>\n",
       "      <td>867</td>\n",
       "      <td>1</td>\n",
       "      <td>84</td>\n",
       "      <td>3</td>\n",
       "      <td>2.0</td>\n",
       "      <td>1.0</td>\n",
       "    </tr>\n",
       "    <tr>\n",
       "      <th>4</th>\n",
       "      <td>29842</td>\n",
       "      <td>31</td>\n",
       "      <td>9.0</td>\n",
       "      <td>1.0</td>\n",
       "      <td>1.0</td>\n",
       "      <td>0.0</td>\n",
       "      <td>119</td>\n",
       "      <td>1.0</td>\n",
       "      <td>0.0</td>\n",
       "      <td>0.0</td>\n",
       "      <td>4</td>\n",
       "      <td>3.0</td>\n",
       "      <td>380</td>\n",
       "      <td>1</td>\n",
       "      <td>-1</td>\n",
       "      <td>0</td>\n",
       "      <td>3.0</td>\n",
       "      <td>0.0</td>\n",
       "    </tr>\n",
       "    <tr>\n",
       "      <th>...</th>\n",
       "      <td>...</td>\n",
       "      <td>...</td>\n",
       "      <td>...</td>\n",
       "      <td>...</td>\n",
       "      <td>...</td>\n",
       "      <td>...</td>\n",
       "      <td>...</td>\n",
       "      <td>...</td>\n",
       "      <td>...</td>\n",
       "      <td>...</td>\n",
       "      <td>...</td>\n",
       "      <td>...</td>\n",
       "      <td>...</td>\n",
       "      <td>...</td>\n",
       "      <td>...</td>\n",
       "      <td>...</td>\n",
       "      <td>...</td>\n",
       "      <td>...</td>\n",
       "    </tr>\n",
       "    <tr>\n",
       "      <th>31642</th>\n",
       "      <td>36483</td>\n",
       "      <td>29</td>\n",
       "      <td>4.0</td>\n",
       "      <td>2.0</td>\n",
       "      <td>2.0</td>\n",
       "      <td>0.0</td>\n",
       "      <td>0</td>\n",
       "      <td>1.0</td>\n",
       "      <td>0.0</td>\n",
       "      <td>0.0</td>\n",
       "      <td>12</td>\n",
       "      <td>8.0</td>\n",
       "      <td>116</td>\n",
       "      <td>2</td>\n",
       "      <td>-1</td>\n",
       "      <td>0</td>\n",
       "      <td>3.0</td>\n",
       "      <td>0.0</td>\n",
       "    </tr>\n",
       "    <tr>\n",
       "      <th>31643</th>\n",
       "      <td>40178</td>\n",
       "      <td>53</td>\n",
       "      <td>4.0</td>\n",
       "      <td>0.0</td>\n",
       "      <td>2.0</td>\n",
       "      <td>0.0</td>\n",
       "      <td>380</td>\n",
       "      <td>0.0</td>\n",
       "      <td>1.0</td>\n",
       "      <td>0.0</td>\n",
       "      <td>5</td>\n",
       "      <td>6.0</td>\n",
       "      <td>438</td>\n",
       "      <td>2</td>\n",
       "      <td>-1</td>\n",
       "      <td>0</td>\n",
       "      <td>3.0</td>\n",
       "      <td>1.0</td>\n",
       "    </tr>\n",
       "    <tr>\n",
       "      <th>31644</th>\n",
       "      <td>19710</td>\n",
       "      <td>32</td>\n",
       "      <td>4.0</td>\n",
       "      <td>2.0</td>\n",
       "      <td>2.0</td>\n",
       "      <td>0.0</td>\n",
       "      <td>312</td>\n",
       "      <td>0.0</td>\n",
       "      <td>0.0</td>\n",
       "      <td>0.0</td>\n",
       "      <td>7</td>\n",
       "      <td>1.0</td>\n",
       "      <td>37</td>\n",
       "      <td>3</td>\n",
       "      <td>-1</td>\n",
       "      <td>0</td>\n",
       "      <td>3.0</td>\n",
       "      <td>0.0</td>\n",
       "    </tr>\n",
       "    <tr>\n",
       "      <th>31645</th>\n",
       "      <td>38556</td>\n",
       "      <td>57</td>\n",
       "      <td>9.0</td>\n",
       "      <td>1.0</td>\n",
       "      <td>1.0</td>\n",
       "      <td>0.0</td>\n",
       "      <td>225</td>\n",
       "      <td>1.0</td>\n",
       "      <td>0.0</td>\n",
       "      <td>1.0</td>\n",
       "      <td>15</td>\n",
       "      <td>8.0</td>\n",
       "      <td>22</td>\n",
       "      <td>7</td>\n",
       "      <td>337</td>\n",
       "      <td>12</td>\n",
       "      <td>0.0</td>\n",
       "      <td>0.0</td>\n",
       "    </tr>\n",
       "    <tr>\n",
       "      <th>31646</th>\n",
       "      <td>14156</td>\n",
       "      <td>55</td>\n",
       "      <td>4.0</td>\n",
       "      <td>0.0</td>\n",
       "      <td>1.0</td>\n",
       "      <td>0.0</td>\n",
       "      <td>204</td>\n",
       "      <td>1.0</td>\n",
       "      <td>0.0</td>\n",
       "      <td>0.0</td>\n",
       "      <td>11</td>\n",
       "      <td>5.0</td>\n",
       "      <td>1973</td>\n",
       "      <td>2</td>\n",
       "      <td>-1</td>\n",
       "      <td>0</td>\n",
       "      <td>3.0</td>\n",
       "      <td>1.0</td>\n",
       "    </tr>\n",
       "  </tbody>\n",
       "</table>\n",
       "<p>31647 rows × 18 columns</p>\n",
       "</div>"
      ],
      "text/plain": [
       "          ID  age   job  marital  education  default  balance  housing  loan  \\\n",
       "0      26110   56   0.0      1.0        3.0      0.0     1933      0.0   0.0   \n",
       "1      40576   31  11.0      1.0        1.0      0.0        3      0.0   0.0   \n",
       "2      15320   27   7.0      1.0        1.0      0.0      891      1.0   0.0   \n",
       "3      43962   57   4.0      0.0        2.0      0.0     3287      0.0   0.0   \n",
       "4      29842   31   9.0      1.0        1.0      0.0      119      1.0   0.0   \n",
       "...      ...  ...   ...      ...        ...      ...      ...      ...   ...   \n",
       "31642  36483   29   4.0      2.0        2.0      0.0        0      1.0   0.0   \n",
       "31643  40178   53   4.0      0.0        2.0      0.0      380      0.0   1.0   \n",
       "31644  19710   32   4.0      2.0        2.0      0.0      312      0.0   0.0   \n",
       "31645  38556   57   9.0      1.0        1.0      0.0      225      1.0   0.0   \n",
       "31646  14156   55   4.0      0.0        1.0      0.0      204      1.0   0.0   \n",
       "\n",
       "       contact  day  month  duration  campaign  pdays  previous  poutcome  \\\n",
       "0          1.0   19    9.0        44         2     -1         0       3.0   \n",
       "1          0.0   20    5.0        91         2     -1         0       3.0   \n",
       "2          0.0   18    5.0       240         1     -1         0       3.0   \n",
       "3          0.0   22    6.0       867         1     84         3       2.0   \n",
       "4          0.0    4    3.0       380         1     -1         0       3.0   \n",
       "...        ...  ...    ...       ...       ...    ...       ...       ...   \n",
       "31642      0.0   12    8.0       116         2     -1         0       3.0   \n",
       "31643      0.0    5    6.0       438         2     -1         0       3.0   \n",
       "31644      0.0    7    1.0        37         3     -1         0       3.0   \n",
       "31645      1.0   15    8.0        22         7    337        12       0.0   \n",
       "31646      0.0   11    5.0      1973         2     -1         0       3.0   \n",
       "\n",
       "       subscribed  \n",
       "0             0.0  \n",
       "1             0.0  \n",
       "2             0.0  \n",
       "3             1.0  \n",
       "4             0.0  \n",
       "...           ...  \n",
       "31642         0.0  \n",
       "31643         1.0  \n",
       "31644         0.0  \n",
       "31645         0.0  \n",
       "31646         1.0  \n",
       "\n",
       "[31647 rows x 18 columns]"
      ]
     },
     "execution_count": 33,
     "metadata": {},
     "output_type": "execute_result"
    }
   ],
   "source": [
    "df"
   ]
  },
  {
   "cell_type": "code",
   "execution_count": 34,
   "id": "f1539457",
   "metadata": {},
   "outputs": [
    {
     "data": {
      "text/html": [
       "<div>\n",
       "<style scoped>\n",
       "    .dataframe tbody tr th:only-of-type {\n",
       "        vertical-align: middle;\n",
       "    }\n",
       "\n",
       "    .dataframe tbody tr th {\n",
       "        vertical-align: top;\n",
       "    }\n",
       "\n",
       "    .dataframe thead th {\n",
       "        text-align: right;\n",
       "    }\n",
       "</style>\n",
       "<table border=\"1\" class=\"dataframe\">\n",
       "  <thead>\n",
       "    <tr style=\"text-align: right;\">\n",
       "      <th></th>\n",
       "      <th>ID</th>\n",
       "      <th>age</th>\n",
       "      <th>job</th>\n",
       "      <th>marital</th>\n",
       "      <th>education</th>\n",
       "      <th>default</th>\n",
       "      <th>balance</th>\n",
       "      <th>housing</th>\n",
       "      <th>loan</th>\n",
       "      <th>contact</th>\n",
       "      <th>day</th>\n",
       "      <th>month</th>\n",
       "      <th>duration</th>\n",
       "      <th>campaign</th>\n",
       "      <th>pdays</th>\n",
       "      <th>previous</th>\n",
       "      <th>poutcome</th>\n",
       "      <th>subscribed</th>\n",
       "    </tr>\n",
       "  </thead>\n",
       "  <tbody>\n",
       "    <tr>\n",
       "      <th>count</th>\n",
       "      <td>31647.000000</td>\n",
       "      <td>31647.000000</td>\n",
       "      <td>31647.000000</td>\n",
       "      <td>31647.000000</td>\n",
       "      <td>31647.000000</td>\n",
       "      <td>31647.000000</td>\n",
       "      <td>31647.000000</td>\n",
       "      <td>31647.000000</td>\n",
       "      <td>31647.000000</td>\n",
       "      <td>31647.000000</td>\n",
       "      <td>31647.000000</td>\n",
       "      <td>31647.000000</td>\n",
       "      <td>31647.000000</td>\n",
       "      <td>31647.000000</td>\n",
       "      <td>31647.000000</td>\n",
       "      <td>31647.000000</td>\n",
       "      <td>31647.000000</td>\n",
       "      <td>31647.000000</td>\n",
       "    </tr>\n",
       "    <tr>\n",
       "      <th>mean</th>\n",
       "      <td>22563.972162</td>\n",
       "      <td>40.957247</td>\n",
       "      <td>4.332923</td>\n",
       "      <td>1.167220</td>\n",
       "      <td>1.225013</td>\n",
       "      <td>0.018485</td>\n",
       "      <td>1363.890258</td>\n",
       "      <td>0.555629</td>\n",
       "      <td>0.162132</td>\n",
       "      <td>0.644642</td>\n",
       "      <td>15.835466</td>\n",
       "      <td>5.533131</td>\n",
       "      <td>258.113534</td>\n",
       "      <td>2.765697</td>\n",
       "      <td>39.576042</td>\n",
       "      <td>0.574272</td>\n",
       "      <td>2.566152</td>\n",
       "      <td>0.117389</td>\n",
       "    </tr>\n",
       "    <tr>\n",
       "      <th>std</th>\n",
       "      <td>13075.936990</td>\n",
       "      <td>10.625134</td>\n",
       "      <td>3.271868</td>\n",
       "      <td>0.607186</td>\n",
       "      <td>0.749195</td>\n",
       "      <td>0.134700</td>\n",
       "      <td>3028.304293</td>\n",
       "      <td>0.496904</td>\n",
       "      <td>0.368578</td>\n",
       "      <td>0.899480</td>\n",
       "      <td>8.337097</td>\n",
       "      <td>3.004247</td>\n",
       "      <td>257.118973</td>\n",
       "      <td>3.113830</td>\n",
       "      <td>99.317592</td>\n",
       "      <td>2.422529</td>\n",
       "      <td>0.982069</td>\n",
       "      <td>0.321888</td>\n",
       "    </tr>\n",
       "    <tr>\n",
       "      <th>min</th>\n",
       "      <td>2.000000</td>\n",
       "      <td>18.000000</td>\n",
       "      <td>0.000000</td>\n",
       "      <td>0.000000</td>\n",
       "      <td>0.000000</td>\n",
       "      <td>0.000000</td>\n",
       "      <td>-8019.000000</td>\n",
       "      <td>0.000000</td>\n",
       "      <td>0.000000</td>\n",
       "      <td>0.000000</td>\n",
       "      <td>1.000000</td>\n",
       "      <td>0.000000</td>\n",
       "      <td>0.000000</td>\n",
       "      <td>1.000000</td>\n",
       "      <td>-1.000000</td>\n",
       "      <td>0.000000</td>\n",
       "      <td>0.000000</td>\n",
       "      <td>0.000000</td>\n",
       "    </tr>\n",
       "    <tr>\n",
       "      <th>25%</th>\n",
       "      <td>11218.000000</td>\n",
       "      <td>33.000000</td>\n",
       "      <td>1.000000</td>\n",
       "      <td>1.000000</td>\n",
       "      <td>1.000000</td>\n",
       "      <td>0.000000</td>\n",
       "      <td>73.000000</td>\n",
       "      <td>0.000000</td>\n",
       "      <td>0.000000</td>\n",
       "      <td>0.000000</td>\n",
       "      <td>8.000000</td>\n",
       "      <td>3.000000</td>\n",
       "      <td>104.000000</td>\n",
       "      <td>1.000000</td>\n",
       "      <td>-1.000000</td>\n",
       "      <td>0.000000</td>\n",
       "      <td>3.000000</td>\n",
       "      <td>0.000000</td>\n",
       "    </tr>\n",
       "    <tr>\n",
       "      <th>50%</th>\n",
       "      <td>22519.000000</td>\n",
       "      <td>39.000000</td>\n",
       "      <td>4.000000</td>\n",
       "      <td>1.000000</td>\n",
       "      <td>1.000000</td>\n",
       "      <td>0.000000</td>\n",
       "      <td>450.000000</td>\n",
       "      <td>1.000000</td>\n",
       "      <td>0.000000</td>\n",
       "      <td>0.000000</td>\n",
       "      <td>16.000000</td>\n",
       "      <td>6.000000</td>\n",
       "      <td>180.000000</td>\n",
       "      <td>2.000000</td>\n",
       "      <td>-1.000000</td>\n",
       "      <td>0.000000</td>\n",
       "      <td>3.000000</td>\n",
       "      <td>0.000000</td>\n",
       "    </tr>\n",
       "    <tr>\n",
       "      <th>75%</th>\n",
       "      <td>33879.500000</td>\n",
       "      <td>48.000000</td>\n",
       "      <td>7.000000</td>\n",
       "      <td>2.000000</td>\n",
       "      <td>2.000000</td>\n",
       "      <td>0.000000</td>\n",
       "      <td>1431.000000</td>\n",
       "      <td>1.000000</td>\n",
       "      <td>0.000000</td>\n",
       "      <td>2.000000</td>\n",
       "      <td>21.000000</td>\n",
       "      <td>8.000000</td>\n",
       "      <td>318.500000</td>\n",
       "      <td>3.000000</td>\n",
       "      <td>-1.000000</td>\n",
       "      <td>0.000000</td>\n",
       "      <td>3.000000</td>\n",
       "      <td>0.000000</td>\n",
       "    </tr>\n",
       "    <tr>\n",
       "      <th>max</th>\n",
       "      <td>45211.000000</td>\n",
       "      <td>95.000000</td>\n",
       "      <td>11.000000</td>\n",
       "      <td>2.000000</td>\n",
       "      <td>3.000000</td>\n",
       "      <td>1.000000</td>\n",
       "      <td>102127.000000</td>\n",
       "      <td>1.000000</td>\n",
       "      <td>1.000000</td>\n",
       "      <td>2.000000</td>\n",
       "      <td>31.000000</td>\n",
       "      <td>11.000000</td>\n",
       "      <td>4918.000000</td>\n",
       "      <td>63.000000</td>\n",
       "      <td>871.000000</td>\n",
       "      <td>275.000000</td>\n",
       "      <td>3.000000</td>\n",
       "      <td>1.000000</td>\n",
       "    </tr>\n",
       "  </tbody>\n",
       "</table>\n",
       "</div>"
      ],
      "text/plain": [
       "                 ID           age           job       marital     education  \\\n",
       "count  31647.000000  31647.000000  31647.000000  31647.000000  31647.000000   \n",
       "mean   22563.972162     40.957247      4.332923      1.167220      1.225013   \n",
       "std    13075.936990     10.625134      3.271868      0.607186      0.749195   \n",
       "min        2.000000     18.000000      0.000000      0.000000      0.000000   \n",
       "25%    11218.000000     33.000000      1.000000      1.000000      1.000000   \n",
       "50%    22519.000000     39.000000      4.000000      1.000000      1.000000   \n",
       "75%    33879.500000     48.000000      7.000000      2.000000      2.000000   \n",
       "max    45211.000000     95.000000     11.000000      2.000000      3.000000   \n",
       "\n",
       "            default        balance       housing          loan       contact  \\\n",
       "count  31647.000000   31647.000000  31647.000000  31647.000000  31647.000000   \n",
       "mean       0.018485    1363.890258      0.555629      0.162132      0.644642   \n",
       "std        0.134700    3028.304293      0.496904      0.368578      0.899480   \n",
       "min        0.000000   -8019.000000      0.000000      0.000000      0.000000   \n",
       "25%        0.000000      73.000000      0.000000      0.000000      0.000000   \n",
       "50%        0.000000     450.000000      1.000000      0.000000      0.000000   \n",
       "75%        0.000000    1431.000000      1.000000      0.000000      2.000000   \n",
       "max        1.000000  102127.000000      1.000000      1.000000      2.000000   \n",
       "\n",
       "                day         month      duration      campaign         pdays  \\\n",
       "count  31647.000000  31647.000000  31647.000000  31647.000000  31647.000000   \n",
       "mean      15.835466      5.533131    258.113534      2.765697     39.576042   \n",
       "std        8.337097      3.004247    257.118973      3.113830     99.317592   \n",
       "min        1.000000      0.000000      0.000000      1.000000     -1.000000   \n",
       "25%        8.000000      3.000000    104.000000      1.000000     -1.000000   \n",
       "50%       16.000000      6.000000    180.000000      2.000000     -1.000000   \n",
       "75%       21.000000      8.000000    318.500000      3.000000     -1.000000   \n",
       "max       31.000000     11.000000   4918.000000     63.000000    871.000000   \n",
       "\n",
       "           previous      poutcome    subscribed  \n",
       "count  31647.000000  31647.000000  31647.000000  \n",
       "mean       0.574272      2.566152      0.117389  \n",
       "std        2.422529      0.982069      0.321888  \n",
       "min        0.000000      0.000000      0.000000  \n",
       "25%        0.000000      3.000000      0.000000  \n",
       "50%        0.000000      3.000000      0.000000  \n",
       "75%        0.000000      3.000000      0.000000  \n",
       "max      275.000000      3.000000      1.000000  "
      ]
     },
     "execution_count": 34,
     "metadata": {},
     "output_type": "execute_result"
    }
   ],
   "source": [
    "df.describe()"
   ]
  },
  {
   "cell_type": "code",
   "execution_count": 35,
   "id": "9c2e0879",
   "metadata": {},
   "outputs": [
    {
     "data": {
      "text/plain": [
       "<AxesSubplot:>"
      ]
     },
     "execution_count": 35,
     "metadata": {},
     "output_type": "execute_result"
    },
    {
     "data": {
      "image/png": "[encoded data removed]",
      "text/plain": [
       "<Figure size 1584x504 with 2 Axes>"
      ]
     },
     "metadata": {
      "needs_background": "light"
     },
     "output_type": "display_data"
    }
   ],
   "source": [
    "plt.figure(figsize=(22,7))\n",
    "sns.heatmap(df.describe(),annot=True,linecolor='black',linewidth=0.1,fmt='0.2f')"
   ]
  },
  {
   "cell_type": "markdown",
   "id": "c3bbae31",
   "metadata": {},
   "source": [
    "# Correalation "
   ]
  },
  {
   "cell_type": "markdown",
   "id": "6730e3b0",
   "metadata": {},
   "source": [
    "Correaltion of the columns with the target column."
   ]
  },
  {
   "cell_type": "code",
   "execution_count": 36,
   "id": "f0116b32",
   "metadata": {},
   "outputs": [
    {
     "data": {
      "text/plain": [
       "contact      -0.150051\n",
       "housing      -0.141092\n",
       "poutcome     -0.080895\n",
       "loan         -0.072266\n",
       "campaign     -0.070607\n",
       "day          -0.029600\n",
       "month        -0.028088\n",
       "default      -0.020168\n",
       "age           0.024538\n",
       "job           0.038921\n",
       "marital       0.046043\n",
       "balance       0.050807\n",
       "education     0.066051\n",
       "previous      0.088081\n",
       "pdays         0.108290\n",
       "ID            0.296663\n",
       "duration      0.389838\n",
       "subscribed    1.000000\n",
       "Name: subscribed, dtype: float64"
      ]
     },
     "execution_count": 36,
     "metadata": {},
     "output_type": "execute_result"
    }
   ],
   "source": [
    "df.corr()['subscribed'].sort_values()"
   ]
  },
  {
   "cell_type": "code",
   "execution_count": 37,
   "id": "847a5a52",
   "metadata": {},
   "outputs": [
    {
     "data": {
      "text/plain": [
       "<AxesSubplot:>"
      ]
     },
     "execution_count": 37,
     "metadata": {},
     "output_type": "execute_result"
    },
    {
     "data": {
      "image/png": "[encoded data removed]",
      "text/plain": [
       "<Figure size 1584x504 with 2 Axes>"
      ]
     },
     "metadata": {
      "needs_background": "light"
     },
     "output_type": "display_data"
    }
   ],
   "source": [
    "plt.figure(figsize=(22,7))\n",
    "sns.heatmap(df.corr(),annot=True,linecolor='black',linewidth=0.1,fmt='0.2f')"
   ]
  },
  {
   "cell_type": "markdown",
   "id": "a9f43490",
   "metadata": {},
   "source": [
    "Checking the which column is positively related or negatively correlated with target columns."
   ]
  },
  {
   "cell_type": "code",
   "execution_count": 38,
   "id": "4640b375",
   "metadata": {},
   "outputs": [
    {
     "data": {
      "image/png": "[encoded data removed]",
      "text/plain": [
       "<Figure size 1584x504 with 1 Axes>"
      ]
     },
     "metadata": {
      "needs_background": "light"
     },
     "output_type": "display_data"
    }
   ],
   "source": [
    "plt.figure(figsize=(22,7))\n",
    "df.corr()['subscribed'].sort_values(ascending=False).drop(['subscribed']).plot(kind='bar',color='c')\n",
    "plt.xlabel('Feature',fontsize=14)\n",
    "plt.ylabel('column with target names',fontsize=14)\n",
    "plt.title('correlation',fontsize=18)\n",
    "plt.show()"
   ]
  },
  {
   "cell_type": "markdown",
   "id": "7c2aeb9f",
   "metadata": {},
   "source": [
    "# check skewness"
   ]
  },
  {
   "cell_type": "code",
   "execution_count": 39,
   "id": "775011b3",
   "metadata": {},
   "outputs": [
    {
     "data": {
      "text/plain": [
       "ID             0.005851\n",
       "age            0.681607\n",
       "job            0.264817\n",
       "marital       -0.100071\n",
       "education      0.199441\n",
       "default        7.149903\n",
       "balance        7.995696\n",
       "housing       -0.223918\n",
       "loan           1.833474\n",
       "contact        0.758602\n",
       "day            0.087185\n",
       "month         -0.486498\n",
       "duration       3.199766\n",
       "campaign       4.873935\n",
       "pdays          2.642374\n",
       "previous      49.302348\n",
       "poutcome      -1.996421\n",
       "subscribed     2.377445\n",
       "dtype: float64"
      ]
     },
     "execution_count": 39,
     "metadata": {},
     "output_type": "execute_result"
    }
   ],
   "source": [
    "df.skew()"
   ]
  },
  {
   "cell_type": "markdown",
   "id": "0bbcae3a",
   "metadata": {},
   "source": [
    "# Outliers checking"
   ]
  },
  {
   "cell_type": "code",
   "execution_count": 40,
   "id": "6478c3d8",
   "metadata": {},
   "outputs": [
    {
     "data": {
      "text/plain": [
       "<AxesSubplot:>"
      ]
     },
     "execution_count": 40,
     "metadata": {},
     "output_type": "execute_result"
    },
    {
     "data": {
      "image/png": "[encoded data removed]",
      "text/plain": [
       "<Figure size 432x288 with 1 Axes>"
      ]
     },
     "metadata": {
      "needs_background": "light"
     },
     "output_type": "display_data"
    }
   ],
   "source": [
    "df['default'].plot.box()"
   ]
  },
  {
   "cell_type": "code",
   "execution_count": 41,
   "id": "06206c95",
   "metadata": {},
   "outputs": [
    {
     "data": {
      "text/plain": [
       "<AxesSubplot:>"
      ]
     },
     "execution_count": 41,
     "metadata": {},
     "output_type": "execute_result"
    },
    {
     "data": {
      "image/png": "[encoded data removed]",
      "text/plain": [
       "<Figure size 432x288 with 1 Axes>"
      ]
     },
     "metadata": {
      "needs_background": "light"
     },
     "output_type": "display_data"
    }
   ],
   "source": [
    "df['balance'].plot.box()"
   ]
  },
  {
   "cell_type": "code",
   "execution_count": 42,
   "id": "b46a039f",
   "metadata": {},
   "outputs": [
    {
     "data": {
      "text/plain": [
       "<AxesSubplot:>"
      ]
     },
     "execution_count": 42,
     "metadata": {},
     "output_type": "execute_result"
    },
    {
     "data": {
      "image/png": "[encoded data removed]",
      "text/plain": [
       "<Figure size 432x288 with 1 Axes>"
      ]
     },
     "metadata": {
      "needs_background": "light"
     },
     "output_type": "display_data"
    }
   ],
   "source": [
    "df['previous'].plot.box()"
   ]
  },
  {
   "cell_type": "code",
   "execution_count": 43,
   "id": "425677f6",
   "metadata": {},
   "outputs": [
    {
     "data": {
      "text/plain": [
       "ID               AxesSubplot(0.125,0.536818;0.0731132x0.343182)\n",
       "age           AxesSubplot(0.212736,0.536818;0.0731132x0.343182)\n",
       "job           AxesSubplot(0.300472,0.536818;0.0731132x0.343182)\n",
       "marital       AxesSubplot(0.388208,0.536818;0.0731132x0.343182)\n",
       "education     AxesSubplot(0.475943,0.536818;0.0731132x0.343182)\n",
       "default       AxesSubplot(0.563679,0.536818;0.0731132x0.343182)\n",
       "balance       AxesSubplot(0.651415,0.536818;0.0731132x0.343182)\n",
       "housing       AxesSubplot(0.739151,0.536818;0.0731132x0.343182)\n",
       "loan          AxesSubplot(0.826887,0.536818;0.0731132x0.343182)\n",
       "contact             AxesSubplot(0.125,0.125;0.0731132x0.343182)\n",
       "day              AxesSubplot(0.212736,0.125;0.0731132x0.343182)\n",
       "month            AxesSubplot(0.300472,0.125;0.0731132x0.343182)\n",
       "duration         AxesSubplot(0.388208,0.125;0.0731132x0.343182)\n",
       "campaign         AxesSubplot(0.475943,0.125;0.0731132x0.343182)\n",
       "pdays            AxesSubplot(0.563679,0.125;0.0731132x0.343182)\n",
       "previous         AxesSubplot(0.651415,0.125;0.0731132x0.343182)\n",
       "poutcome         AxesSubplot(0.739151,0.125;0.0731132x0.343182)\n",
       "subscribed       AxesSubplot(0.826887,0.125;0.0731132x0.343182)\n",
       "dtype: object"
      ]
     },
     "execution_count": 43,
     "metadata": {},
     "output_type": "execute_result"
    },
    {
     "data": {
      "image/png": "[encoded data removed]",
      "text/plain": [
       "<Figure size 432x288 with 18 Axes>"
      ]
     },
     "metadata": {
      "needs_background": "light"
     },
     "output_type": "display_data"
    }
   ],
   "source": [
    "df.plot(kind='box',subplots=True,layout=(2,9))"
   ]
  },
  {
   "cell_type": "markdown",
   "id": "9920a78c",
   "metadata": {},
   "source": [
    "# Removing ouliers"
   ]
  },
  {
   "cell_type": "markdown",
   "id": "22f74427",
   "metadata": {},
   "source": [
    "z-score technique"
   ]
  },
  {
   "cell_type": "code",
   "execution_count": 44,
   "id": "987307cc",
   "metadata": {},
   "outputs": [],
   "source": [
    "x=df.iloc[:,:-1]"
   ]
  },
  {
   "cell_type": "code",
   "execution_count": 45,
   "id": "8aaaf01c",
   "metadata": {},
   "outputs": [
    {
     "data": {
      "text/html": [
       "<div>\n",
       "<style scoped>\n",
       "    .dataframe tbody tr th:only-of-type {\n",
       "        vertical-align: middle;\n",
       "    }\n",
       "\n",
       "    .dataframe tbody tr th {\n",
       "        vertical-align: top;\n",
       "    }\n",
       "\n",
       "    .dataframe thead th {\n",
       "        text-align: right;\n",
       "    }\n",
       "</style>\n",
       "<table border=\"1\" class=\"dataframe\">\n",
       "  <thead>\n",
       "    <tr style=\"text-align: right;\">\n",
       "      <th></th>\n",
       "      <th>ID</th>\n",
       "      <th>age</th>\n",
       "      <th>job</th>\n",
       "      <th>marital</th>\n",
       "      <th>education</th>\n",
       "      <th>default</th>\n",
       "      <th>balance</th>\n",
       "      <th>housing</th>\n",
       "      <th>loan</th>\n",
       "      <th>contact</th>\n",
       "      <th>day</th>\n",
       "      <th>month</th>\n",
       "      <th>duration</th>\n",
       "      <th>campaign</th>\n",
       "      <th>pdays</th>\n",
       "      <th>previous</th>\n",
       "      <th>poutcome</th>\n",
       "    </tr>\n",
       "  </thead>\n",
       "  <tbody>\n",
       "    <tr>\n",
       "      <th>0</th>\n",
       "      <td>26110</td>\n",
       "      <td>56</td>\n",
       "      <td>0.0</td>\n",
       "      <td>1.0</td>\n",
       "      <td>3.0</td>\n",
       "      <td>0.0</td>\n",
       "      <td>1933</td>\n",
       "      <td>0.0</td>\n",
       "      <td>0.0</td>\n",
       "      <td>1.0</td>\n",
       "      <td>19</td>\n",
       "      <td>9.0</td>\n",
       "      <td>44</td>\n",
       "      <td>2</td>\n",
       "      <td>-1</td>\n",
       "      <td>0</td>\n",
       "      <td>3.0</td>\n",
       "    </tr>\n",
       "    <tr>\n",
       "      <th>1</th>\n",
       "      <td>40576</td>\n",
       "      <td>31</td>\n",
       "      <td>11.0</td>\n",
       "      <td>1.0</td>\n",
       "      <td>1.0</td>\n",
       "      <td>0.0</td>\n",
       "      <td>3</td>\n",
       "      <td>0.0</td>\n",
       "      <td>0.0</td>\n",
       "      <td>0.0</td>\n",
       "      <td>20</td>\n",
       "      <td>5.0</td>\n",
       "      <td>91</td>\n",
       "      <td>2</td>\n",
       "      <td>-1</td>\n",
       "      <td>0</td>\n",
       "      <td>3.0</td>\n",
       "    </tr>\n",
       "    <tr>\n",
       "      <th>2</th>\n",
       "      <td>15320</td>\n",
       "      <td>27</td>\n",
       "      <td>7.0</td>\n",
       "      <td>1.0</td>\n",
       "      <td>1.0</td>\n",
       "      <td>0.0</td>\n",
       "      <td>891</td>\n",
       "      <td>1.0</td>\n",
       "      <td>0.0</td>\n",
       "      <td>0.0</td>\n",
       "      <td>18</td>\n",
       "      <td>5.0</td>\n",
       "      <td>240</td>\n",
       "      <td>1</td>\n",
       "      <td>-1</td>\n",
       "      <td>0</td>\n",
       "      <td>3.0</td>\n",
       "    </tr>\n",
       "    <tr>\n",
       "      <th>3</th>\n",
       "      <td>43962</td>\n",
       "      <td>57</td>\n",
       "      <td>4.0</td>\n",
       "      <td>0.0</td>\n",
       "      <td>2.0</td>\n",
       "      <td>0.0</td>\n",
       "      <td>3287</td>\n",
       "      <td>0.0</td>\n",
       "      <td>0.0</td>\n",
       "      <td>0.0</td>\n",
       "      <td>22</td>\n",
       "      <td>6.0</td>\n",
       "      <td>867</td>\n",
       "      <td>1</td>\n",
       "      <td>84</td>\n",
       "      <td>3</td>\n",
       "      <td>2.0</td>\n",
       "    </tr>\n",
       "    <tr>\n",
       "      <th>4</th>\n",
       "      <td>29842</td>\n",
       "      <td>31</td>\n",
       "      <td>9.0</td>\n",
       "      <td>1.0</td>\n",
       "      <td>1.0</td>\n",
       "      <td>0.0</td>\n",
       "      <td>119</td>\n",
       "      <td>1.0</td>\n",
       "      <td>0.0</td>\n",
       "      <td>0.0</td>\n",
       "      <td>4</td>\n",
       "      <td>3.0</td>\n",
       "      <td>380</td>\n",
       "      <td>1</td>\n",
       "      <td>-1</td>\n",
       "      <td>0</td>\n",
       "      <td>3.0</td>\n",
       "    </tr>\n",
       "    <tr>\n",
       "      <th>...</th>\n",
       "      <td>...</td>\n",
       "      <td>...</td>\n",
       "      <td>...</td>\n",
       "      <td>...</td>\n",
       "      <td>...</td>\n",
       "      <td>...</td>\n",
       "      <td>...</td>\n",
       "      <td>...</td>\n",
       "      <td>...</td>\n",
       "      <td>...</td>\n",
       "      <td>...</td>\n",
       "      <td>...</td>\n",
       "      <td>...</td>\n",
       "      <td>...</td>\n",
       "      <td>...</td>\n",
       "      <td>...</td>\n",
       "      <td>...</td>\n",
       "    </tr>\n",
       "    <tr>\n",
       "      <th>31642</th>\n",
       "      <td>36483</td>\n",
       "      <td>29</td>\n",
       "      <td>4.0</td>\n",
       "      <td>2.0</td>\n",
       "      <td>2.0</td>\n",
       "      <td>0.0</td>\n",
       "      <td>0</td>\n",
       "      <td>1.0</td>\n",
       "      <td>0.0</td>\n",
       "      <td>0.0</td>\n",
       "      <td>12</td>\n",
       "      <td>8.0</td>\n",
       "      <td>116</td>\n",
       "      <td>2</td>\n",
       "      <td>-1</td>\n",
       "      <td>0</td>\n",
       "      <td>3.0</td>\n",
       "    </tr>\n",
       "    <tr>\n",
       "      <th>31643</th>\n",
       "      <td>40178</td>\n",
       "      <td>53</td>\n",
       "      <td>4.0</td>\n",
       "      <td>0.0</td>\n",
       "      <td>2.0</td>\n",
       "      <td>0.0</td>\n",
       "      <td>380</td>\n",
       "      <td>0.0</td>\n",
       "      <td>1.0</td>\n",
       "      <td>0.0</td>\n",
       "      <td>5</td>\n",
       "      <td>6.0</td>\n",
       "      <td>438</td>\n",
       "      <td>2</td>\n",
       "      <td>-1</td>\n",
       "      <td>0</td>\n",
       "      <td>3.0</td>\n",
       "    </tr>\n",
       "    <tr>\n",
       "      <th>31644</th>\n",
       "      <td>19710</td>\n",
       "      <td>32</td>\n",
       "      <td>4.0</td>\n",
       "      <td>2.0</td>\n",
       "      <td>2.0</td>\n",
       "      <td>0.0</td>\n",
       "      <td>312</td>\n",
       "      <td>0.0</td>\n",
       "      <td>0.0</td>\n",
       "      <td>0.0</td>\n",
       "      <td>7</td>\n",
       "      <td>1.0</td>\n",
       "      <td>37</td>\n",
       "      <td>3</td>\n",
       "      <td>-1</td>\n",
       "      <td>0</td>\n",
       "      <td>3.0</td>\n",
       "    </tr>\n",
       "    <tr>\n",
       "      <th>31645</th>\n",
       "      <td>38556</td>\n",
       "      <td>57</td>\n",
       "      <td>9.0</td>\n",
       "      <td>1.0</td>\n",
       "      <td>1.0</td>\n",
       "      <td>0.0</td>\n",
       "      <td>225</td>\n",
       "      <td>1.0</td>\n",
       "      <td>0.0</td>\n",
       "      <td>1.0</td>\n",
       "      <td>15</td>\n",
       "      <td>8.0</td>\n",
       "      <td>22</td>\n",
       "      <td>7</td>\n",
       "      <td>337</td>\n",
       "      <td>12</td>\n",
       "      <td>0.0</td>\n",
       "    </tr>\n",
       "    <tr>\n",
       "      <th>31646</th>\n",
       "      <td>14156</td>\n",
       "      <td>55</td>\n",
       "      <td>4.0</td>\n",
       "      <td>0.0</td>\n",
       "      <td>1.0</td>\n",
       "      <td>0.0</td>\n",
       "      <td>204</td>\n",
       "      <td>1.0</td>\n",
       "      <td>0.0</td>\n",
       "      <td>0.0</td>\n",
       "      <td>11</td>\n",
       "      <td>5.0</td>\n",
       "      <td>1973</td>\n",
       "      <td>2</td>\n",
       "      <td>-1</td>\n",
       "      <td>0</td>\n",
       "      <td>3.0</td>\n",
       "    </tr>\n",
       "  </tbody>\n",
       "</table>\n",
       "<p>31647 rows × 17 columns</p>\n",
       "</div>"
      ],
      "text/plain": [
       "          ID  age   job  marital  education  default  balance  housing  loan  \\\n",
       "0      26110   56   0.0      1.0        3.0      0.0     1933      0.0   0.0   \n",
       "1      40576   31  11.0      1.0        1.0      0.0        3      0.0   0.0   \n",
       "2      15320   27   7.0      1.0        1.0      0.0      891      1.0   0.0   \n",
       "3      43962   57   4.0      0.0        2.0      0.0     3287      0.0   0.0   \n",
       "4      29842   31   9.0      1.0        1.0      0.0      119      1.0   0.0   \n",
       "...      ...  ...   ...      ...        ...      ...      ...      ...   ...   \n",
       "31642  36483   29   4.0      2.0        2.0      0.0        0      1.0   0.0   \n",
       "31643  40178   53   4.0      0.0        2.0      0.0      380      0.0   1.0   \n",
       "31644  19710   32   4.0      2.0        2.0      0.0      312      0.0   0.0   \n",
       "31645  38556   57   9.0      1.0        1.0      0.0      225      1.0   0.0   \n",
       "31646  14156   55   4.0      0.0        1.0      0.0      204      1.0   0.0   \n",
       "\n",
       "       contact  day  month  duration  campaign  pdays  previous  poutcome  \n",
       "0          1.0   19    9.0        44         2     -1         0       3.0  \n",
       "1          0.0   20    5.0        91         2     -1         0       3.0  \n",
       "2          0.0   18    5.0       240         1     -1         0       3.0  \n",
       "3          0.0   22    6.0       867         1     84         3       2.0  \n",
       "4          0.0    4    3.0       380         1     -1         0       3.0  \n",
       "...        ...  ...    ...       ...       ...    ...       ...       ...  \n",
       "31642      0.0   12    8.0       116         2     -1         0       3.0  \n",
       "31643      0.0    5    6.0       438         2     -1         0       3.0  \n",
       "31644      0.0    7    1.0        37         3     -1         0       3.0  \n",
       "31645      1.0   15    8.0        22         7    337        12       0.0  \n",
       "31646      0.0   11    5.0      1973         2     -1         0       3.0  \n",
       "\n",
       "[31647 rows x 17 columns]"
      ]
     },
     "execution_count": 45,
     "metadata": {},
     "output_type": "execute_result"
    }
   ],
   "source": [
    "x"
   ]
  },
  {
   "cell_type": "code",
   "execution_count": 46,
   "id": "577fcdba",
   "metadata": {},
   "outputs": [],
   "source": [
    "y=df.iloc[:,-1]"
   ]
  },
  {
   "cell_type": "code",
   "execution_count": 47,
   "id": "fe80a765",
   "metadata": {},
   "outputs": [
    {
     "data": {
      "text/plain": [
       "0        0.0\n",
       "1        0.0\n",
       "2        0.0\n",
       "3        1.0\n",
       "4        0.0\n",
       "        ... \n",
       "31642    0.0\n",
       "31643    1.0\n",
       "31644    0.0\n",
       "31645    0.0\n",
       "31646    1.0\n",
       "Name: subscribed, Length: 31647, dtype: float64"
      ]
     },
     "execution_count": 47,
     "metadata": {},
     "output_type": "execute_result"
    }
   ],
   "source": [
    "y"
   ]
  },
  {
   "cell_type": "code",
   "execution_count": 48,
   "id": "94e8baf1",
   "metadata": {},
   "outputs": [],
   "source": [
    "from scipy.stats import zscore"
   ]
  },
  {
   "cell_type": "code",
   "execution_count": 49,
   "id": "cee47463",
   "metadata": {},
   "outputs": [
    {
     "data": {
      "text/html": [
       "<div>\n",
       "<style scoped>\n",
       "    .dataframe tbody tr th:only-of-type {\n",
       "        vertical-align: middle;\n",
       "    }\n",
       "\n",
       "    .dataframe tbody tr th {\n",
       "        vertical-align: top;\n",
       "    }\n",
       "\n",
       "    .dataframe thead th {\n",
       "        text-align: right;\n",
       "    }\n",
       "</style>\n",
       "<table border=\"1\" class=\"dataframe\">\n",
       "  <thead>\n",
       "    <tr style=\"text-align: right;\">\n",
       "      <th></th>\n",
       "      <th>ID</th>\n",
       "      <th>age</th>\n",
       "      <th>job</th>\n",
       "      <th>marital</th>\n",
       "      <th>education</th>\n",
       "      <th>default</th>\n",
       "      <th>balance</th>\n",
       "      <th>housing</th>\n",
       "      <th>loan</th>\n",
       "      <th>contact</th>\n",
       "      <th>day</th>\n",
       "      <th>month</th>\n",
       "      <th>duration</th>\n",
       "      <th>campaign</th>\n",
       "      <th>pdays</th>\n",
       "      <th>previous</th>\n",
       "      <th>poutcome</th>\n",
       "    </tr>\n",
       "  </thead>\n",
       "  <tbody>\n",
       "    <tr>\n",
       "      <th>0</th>\n",
       "      <td>0.271192</td>\n",
       "      <td>1.415793</td>\n",
       "      <td>1.324317</td>\n",
       "      <td>0.275405</td>\n",
       "      <td>2.369229</td>\n",
       "      <td>0.137234</td>\n",
       "      <td>0.187933</td>\n",
       "      <td>1.118201</td>\n",
       "      <td>0.439893</td>\n",
       "      <td>0.395076</td>\n",
       "      <td>0.379579</td>\n",
       "      <td>1.154007</td>\n",
       "      <td>0.832754</td>\n",
       "      <td>0.245906</td>\n",
       "      <td>0.408555</td>\n",
       "      <td>0.237059</td>\n",
       "      <td>0.441777</td>\n",
       "    </tr>\n",
       "    <tr>\n",
       "      <th>1</th>\n",
       "      <td>1.377516</td>\n",
       "      <td>0.937156</td>\n",
       "      <td>2.037729</td>\n",
       "      <td>0.275405</td>\n",
       "      <td>0.300345</td>\n",
       "      <td>0.137234</td>\n",
       "      <td>0.449397</td>\n",
       "      <td>1.118201</td>\n",
       "      <td>0.439893</td>\n",
       "      <td>0.716695</td>\n",
       "      <td>0.499526</td>\n",
       "      <td>0.177462</td>\n",
       "      <td>0.649957</td>\n",
       "      <td>0.245906</td>\n",
       "      <td>0.408555</td>\n",
       "      <td>0.237059</td>\n",
       "      <td>0.441777</td>\n",
       "    </tr>\n",
       "    <tr>\n",
       "      <th>2</th>\n",
       "      <td>0.554001</td>\n",
       "      <td>1.313627</td>\n",
       "      <td>0.815167</td>\n",
       "      <td>0.275405</td>\n",
       "      <td>0.300345</td>\n",
       "      <td>0.137234</td>\n",
       "      <td>0.156159</td>\n",
       "      <td>0.894294</td>\n",
       "      <td>0.439893</td>\n",
       "      <td>0.716695</td>\n",
       "      <td>0.259631</td>\n",
       "      <td>0.177462</td>\n",
       "      <td>0.070449</td>\n",
       "      <td>0.567059</td>\n",
       "      <td>0.408555</td>\n",
       "      <td>0.237059</td>\n",
       "      <td>0.441777</td>\n",
       "    </tr>\n",
       "    <tr>\n",
       "      <th>3</th>\n",
       "      <td>1.636469</td>\n",
       "      <td>1.509911</td>\n",
       "      <td>0.101755</td>\n",
       "      <td>1.922374</td>\n",
       "      <td>1.034442</td>\n",
       "      <td>0.137234</td>\n",
       "      <td>0.635055</td>\n",
       "      <td>1.118201</td>\n",
       "      <td>0.439893</td>\n",
       "      <td>0.716695</td>\n",
       "      <td>0.739422</td>\n",
       "      <td>0.155405</td>\n",
       "      <td>2.368149</td>\n",
       "      <td>0.567059</td>\n",
       "      <td>0.447299</td>\n",
       "      <td>1.001336</td>\n",
       "      <td>0.576498</td>\n",
       "    </tr>\n",
       "    <tr>\n",
       "      <th>4</th>\n",
       "      <td>0.556606</td>\n",
       "      <td>0.937156</td>\n",
       "      <td>1.426448</td>\n",
       "      <td>0.275405</td>\n",
       "      <td>0.300345</td>\n",
       "      <td>0.137234</td>\n",
       "      <td>0.411091</td>\n",
       "      <td>0.894294</td>\n",
       "      <td>0.439893</td>\n",
       "      <td>0.716695</td>\n",
       "      <td>1.419637</td>\n",
       "      <td>0.843197</td>\n",
       "      <td>0.474054</td>\n",
       "      <td>0.567059</td>\n",
       "      <td>0.408555</td>\n",
       "      <td>0.237059</td>\n",
       "      <td>0.441777</td>\n",
       "    </tr>\n",
       "    <tr>\n",
       "      <th>...</th>\n",
       "      <td>...</td>\n",
       "      <td>...</td>\n",
       "      <td>...</td>\n",
       "      <td>...</td>\n",
       "      <td>...</td>\n",
       "      <td>...</td>\n",
       "      <td>...</td>\n",
       "      <td>...</td>\n",
       "      <td>...</td>\n",
       "      <td>...</td>\n",
       "      <td>...</td>\n",
       "      <td>...</td>\n",
       "      <td>...</td>\n",
       "      <td>...</td>\n",
       "      <td>...</td>\n",
       "      <td>...</td>\n",
       "      <td>...</td>\n",
       "    </tr>\n",
       "    <tr>\n",
       "      <th>31642</th>\n",
       "      <td>1.064493</td>\n",
       "      <td>1.125392</td>\n",
       "      <td>0.101755</td>\n",
       "      <td>1.371563</td>\n",
       "      <td>1.034442</td>\n",
       "      <td>0.137234</td>\n",
       "      <td>0.450388</td>\n",
       "      <td>0.894294</td>\n",
       "      <td>0.439893</td>\n",
       "      <td>0.716695</td>\n",
       "      <td>0.460055</td>\n",
       "      <td>0.821140</td>\n",
       "      <td>0.552724</td>\n",
       "      <td>0.245906</td>\n",
       "      <td>0.408555</td>\n",
       "      <td>0.237059</td>\n",
       "      <td>0.441777</td>\n",
       "    </tr>\n",
       "    <tr>\n",
       "      <th>31643</th>\n",
       "      <td>1.347078</td>\n",
       "      <td>1.133439</td>\n",
       "      <td>0.101755</td>\n",
       "      <td>1.922374</td>\n",
       "      <td>1.034442</td>\n",
       "      <td>0.137234</td>\n",
       "      <td>0.324903</td>\n",
       "      <td>1.118201</td>\n",
       "      <td>2.273280</td>\n",
       "      <td>0.716695</td>\n",
       "      <td>1.299690</td>\n",
       "      <td>0.155405</td>\n",
       "      <td>0.699635</td>\n",
       "      <td>0.245906</td>\n",
       "      <td>0.408555</td>\n",
       "      <td>0.237059</td>\n",
       "      <td>0.441777</td>\n",
       "    </tr>\n",
       "    <tr>\n",
       "      <th>31644</th>\n",
       "      <td>0.218265</td>\n",
       "      <td>0.843038</td>\n",
       "      <td>0.101755</td>\n",
       "      <td>1.371563</td>\n",
       "      <td>1.034442</td>\n",
       "      <td>0.137234</td>\n",
       "      <td>0.347358</td>\n",
       "      <td>1.118201</td>\n",
       "      <td>0.439893</td>\n",
       "      <td>0.716695</td>\n",
       "      <td>1.059794</td>\n",
       "      <td>1.508931</td>\n",
       "      <td>0.859979</td>\n",
       "      <td>0.075247</td>\n",
       "      <td>0.408555</td>\n",
       "      <td>0.237059</td>\n",
       "      <td>0.441777</td>\n",
       "    </tr>\n",
       "    <tr>\n",
       "      <th>31645</th>\n",
       "      <td>1.223031</td>\n",
       "      <td>1.509911</td>\n",
       "      <td>1.426448</td>\n",
       "      <td>0.275405</td>\n",
       "      <td>0.300345</td>\n",
       "      <td>0.137234</td>\n",
       "      <td>0.376088</td>\n",
       "      <td>0.894294</td>\n",
       "      <td>0.439893</td>\n",
       "      <td>0.395076</td>\n",
       "      <td>0.100212</td>\n",
       "      <td>0.821140</td>\n",
       "      <td>0.918319</td>\n",
       "      <td>1.359859</td>\n",
       "      <td>2.994723</td>\n",
       "      <td>4.716521</td>\n",
       "      <td>2.613048</td>\n",
       "    </tr>\n",
       "    <tr>\n",
       "      <th>31646</th>\n",
       "      <td>0.643021</td>\n",
       "      <td>1.321675</td>\n",
       "      <td>0.101755</td>\n",
       "      <td>1.922374</td>\n",
       "      <td>0.300345</td>\n",
       "      <td>0.137234</td>\n",
       "      <td>0.383022</td>\n",
       "      <td>0.894294</td>\n",
       "      <td>0.439893</td>\n",
       "      <td>0.716695</td>\n",
       "      <td>0.580003</td>\n",
       "      <td>0.177462</td>\n",
       "      <td>6.669728</td>\n",
       "      <td>0.245906</td>\n",
       "      <td>0.408555</td>\n",
       "      <td>0.237059</td>\n",
       "      <td>0.441777</td>\n",
       "    </tr>\n",
       "  </tbody>\n",
       "</table>\n",
       "<p>31647 rows × 17 columns</p>\n",
       "</div>"
      ],
      "text/plain": [
       "             ID       age       job   marital  education   default   balance  \\\n",
       "0      0.271192  1.415793  1.324317  0.275405   2.369229  0.137234  0.187933   \n",
       "1      1.377516  0.937156  2.037729  0.275405   0.300345  0.137234  0.449397   \n",
       "2      0.554001  1.313627  0.815167  0.275405   0.300345  0.137234  0.156159   \n",
       "3      1.636469  1.509911  0.101755  1.922374   1.034442  0.137234  0.635055   \n",
       "4      0.556606  0.937156  1.426448  0.275405   0.300345  0.137234  0.411091   \n",
       "...         ...       ...       ...       ...        ...       ...       ...   \n",
       "31642  1.064493  1.125392  0.101755  1.371563   1.034442  0.137234  0.450388   \n",
       "31643  1.347078  1.133439  0.101755  1.922374   1.034442  0.137234  0.324903   \n",
       "31644  0.218265  0.843038  0.101755  1.371563   1.034442  0.137234  0.347358   \n",
       "31645  1.223031  1.509911  1.426448  0.275405   0.300345  0.137234  0.376088   \n",
       "31646  0.643021  1.321675  0.101755  1.922374   0.300345  0.137234  0.383022   \n",
       "\n",
       "        housing      loan   contact       day     month  duration  campaign  \\\n",
       "0      1.118201  0.439893  0.395076  0.379579  1.154007  0.832754  0.245906   \n",
       "1      1.118201  0.439893  0.716695  0.499526  0.177462  0.649957  0.245906   \n",
       "2      0.894294  0.439893  0.716695  0.259631  0.177462  0.070449  0.567059   \n",
       "3      1.118201  0.439893  0.716695  0.739422  0.155405  2.368149  0.567059   \n",
       "4      0.894294  0.439893  0.716695  1.419637  0.843197  0.474054  0.567059   \n",
       "...         ...       ...       ...       ...       ...       ...       ...   \n",
       "31642  0.894294  0.439893  0.716695  0.460055  0.821140  0.552724  0.245906   \n",
       "31643  1.118201  2.273280  0.716695  1.299690  0.155405  0.699635  0.245906   \n",
       "31644  1.118201  0.439893  0.716695  1.059794  1.508931  0.859979  0.075247   \n",
       "31645  0.894294  0.439893  0.395076  0.100212  0.821140  0.918319  1.359859   \n",
       "31646  0.894294  0.439893  0.716695  0.580003  0.177462  6.669728  0.245906   \n",
       "\n",
       "          pdays  previous  poutcome  \n",
       "0      0.408555  0.237059  0.441777  \n",
       "1      0.408555  0.237059  0.441777  \n",
       "2      0.408555  0.237059  0.441777  \n",
       "3      0.447299  1.001336  0.576498  \n",
       "4      0.408555  0.237059  0.441777  \n",
       "...         ...       ...       ...  \n",
       "31642  0.408555  0.237059  0.441777  \n",
       "31643  0.408555  0.237059  0.441777  \n",
       "31644  0.408555  0.237059  0.441777  \n",
       "31645  2.994723  4.716521  2.613048  \n",
       "31646  0.408555  0.237059  0.441777  \n",
       "\n",
       "[31647 rows x 17 columns]"
      ]
     },
     "execution_count": 49,
     "metadata": {},
     "output_type": "execute_result"
    }
   ],
   "source": [
    "z=np.abs(zscore(x))\n",
    "z"
   ]
  },
  {
   "cell_type": "code",
   "execution_count": 50,
   "id": "7f61c561",
   "metadata": {},
   "outputs": [
    {
     "name": "stdout",
     "output_type": "stream",
     "text": [
      "(array([   10,    21,    26, ..., 31622, 31645, 31646], dtype=int64), array([ 5, 13,  6, ..., 14, 15, 12], dtype=int64))\n"
     ]
    }
   ],
   "source": [
    "thereshold=3\n",
    "print(np.where(z>3))"
   ]
  },
  {
   "cell_type": "code",
   "execution_count": 51,
   "id": "ef83e701",
   "metadata": {},
   "outputs": [
    {
     "data": {
      "text/html": [
       "<div>\n",
       "<style scoped>\n",
       "    .dataframe tbody tr th:only-of-type {\n",
       "        vertical-align: middle;\n",
       "    }\n",
       "\n",
       "    .dataframe tbody tr th {\n",
       "        vertical-align: top;\n",
       "    }\n",
       "\n",
       "    .dataframe thead th {\n",
       "        text-align: right;\n",
       "    }\n",
       "</style>\n",
       "<table border=\"1\" class=\"dataframe\">\n",
       "  <thead>\n",
       "    <tr style=\"text-align: right;\">\n",
       "      <th></th>\n",
       "      <th>ID</th>\n",
       "      <th>age</th>\n",
       "      <th>job</th>\n",
       "      <th>marital</th>\n",
       "      <th>education</th>\n",
       "      <th>default</th>\n",
       "      <th>balance</th>\n",
       "      <th>housing</th>\n",
       "      <th>loan</th>\n",
       "      <th>contact</th>\n",
       "      <th>day</th>\n",
       "      <th>month</th>\n",
       "      <th>duration</th>\n",
       "      <th>campaign</th>\n",
       "      <th>pdays</th>\n",
       "      <th>previous</th>\n",
       "      <th>poutcome</th>\n",
       "      <th>subscribed</th>\n",
       "    </tr>\n",
       "  </thead>\n",
       "  <tbody>\n",
       "    <tr>\n",
       "      <th>0</th>\n",
       "      <td>26110</td>\n",
       "      <td>56</td>\n",
       "      <td>0.0</td>\n",
       "      <td>1.0</td>\n",
       "      <td>3.0</td>\n",
       "      <td>0.0</td>\n",
       "      <td>1933</td>\n",
       "      <td>0.0</td>\n",
       "      <td>0.0</td>\n",
       "      <td>1.0</td>\n",
       "      <td>19</td>\n",
       "      <td>9.0</td>\n",
       "      <td>44</td>\n",
       "      <td>2</td>\n",
       "      <td>-1</td>\n",
       "      <td>0</td>\n",
       "      <td>3.0</td>\n",
       "      <td>0.0</td>\n",
       "    </tr>\n",
       "    <tr>\n",
       "      <th>1</th>\n",
       "      <td>40576</td>\n",
       "      <td>31</td>\n",
       "      <td>11.0</td>\n",
       "      <td>1.0</td>\n",
       "      <td>1.0</td>\n",
       "      <td>0.0</td>\n",
       "      <td>3</td>\n",
       "      <td>0.0</td>\n",
       "      <td>0.0</td>\n",
       "      <td>0.0</td>\n",
       "      <td>20</td>\n",
       "      <td>5.0</td>\n",
       "      <td>91</td>\n",
       "      <td>2</td>\n",
       "      <td>-1</td>\n",
       "      <td>0</td>\n",
       "      <td>3.0</td>\n",
       "      <td>0.0</td>\n",
       "    </tr>\n",
       "    <tr>\n",
       "      <th>2</th>\n",
       "      <td>15320</td>\n",
       "      <td>27</td>\n",
       "      <td>7.0</td>\n",
       "      <td>1.0</td>\n",
       "      <td>1.0</td>\n",
       "      <td>0.0</td>\n",
       "      <td>891</td>\n",
       "      <td>1.0</td>\n",
       "      <td>0.0</td>\n",
       "      <td>0.0</td>\n",
       "      <td>18</td>\n",
       "      <td>5.0</td>\n",
       "      <td>240</td>\n",
       "      <td>1</td>\n",
       "      <td>-1</td>\n",
       "      <td>0</td>\n",
       "      <td>3.0</td>\n",
       "      <td>0.0</td>\n",
       "    </tr>\n",
       "    <tr>\n",
       "      <th>3</th>\n",
       "      <td>43962</td>\n",
       "      <td>57</td>\n",
       "      <td>4.0</td>\n",
       "      <td>0.0</td>\n",
       "      <td>2.0</td>\n",
       "      <td>0.0</td>\n",
       "      <td>3287</td>\n",
       "      <td>0.0</td>\n",
       "      <td>0.0</td>\n",
       "      <td>0.0</td>\n",
       "      <td>22</td>\n",
       "      <td>6.0</td>\n",
       "      <td>867</td>\n",
       "      <td>1</td>\n",
       "      <td>84</td>\n",
       "      <td>3</td>\n",
       "      <td>2.0</td>\n",
       "      <td>1.0</td>\n",
       "    </tr>\n",
       "    <tr>\n",
       "      <th>4</th>\n",
       "      <td>29842</td>\n",
       "      <td>31</td>\n",
       "      <td>9.0</td>\n",
       "      <td>1.0</td>\n",
       "      <td>1.0</td>\n",
       "      <td>0.0</td>\n",
       "      <td>119</td>\n",
       "      <td>1.0</td>\n",
       "      <td>0.0</td>\n",
       "      <td>0.0</td>\n",
       "      <td>4</td>\n",
       "      <td>3.0</td>\n",
       "      <td>380</td>\n",
       "      <td>1</td>\n",
       "      <td>-1</td>\n",
       "      <td>0</td>\n",
       "      <td>3.0</td>\n",
       "      <td>0.0</td>\n",
       "    </tr>\n",
       "    <tr>\n",
       "      <th>...</th>\n",
       "      <td>...</td>\n",
       "      <td>...</td>\n",
       "      <td>...</td>\n",
       "      <td>...</td>\n",
       "      <td>...</td>\n",
       "      <td>...</td>\n",
       "      <td>...</td>\n",
       "      <td>...</td>\n",
       "      <td>...</td>\n",
       "      <td>...</td>\n",
       "      <td>...</td>\n",
       "      <td>...</td>\n",
       "      <td>...</td>\n",
       "      <td>...</td>\n",
       "      <td>...</td>\n",
       "      <td>...</td>\n",
       "      <td>...</td>\n",
       "      <td>...</td>\n",
       "    </tr>\n",
       "    <tr>\n",
       "      <th>31640</th>\n",
       "      <td>12109</td>\n",
       "      <td>43</td>\n",
       "      <td>4.0</td>\n",
       "      <td>2.0</td>\n",
       "      <td>1.0</td>\n",
       "      <td>0.0</td>\n",
       "      <td>2968</td>\n",
       "      <td>0.0</td>\n",
       "      <td>0.0</td>\n",
       "      <td>2.0</td>\n",
       "      <td>20</td>\n",
       "      <td>6.0</td>\n",
       "      <td>30</td>\n",
       "      <td>4</td>\n",
       "      <td>-1</td>\n",
       "      <td>0</td>\n",
       "      <td>3.0</td>\n",
       "      <td>0.0</td>\n",
       "    </tr>\n",
       "    <tr>\n",
       "      <th>31641</th>\n",
       "      <td>9476</td>\n",
       "      <td>37</td>\n",
       "      <td>9.0</td>\n",
       "      <td>2.0</td>\n",
       "      <td>2.0</td>\n",
       "      <td>0.0</td>\n",
       "      <td>1309</td>\n",
       "      <td>0.0</td>\n",
       "      <td>0.0</td>\n",
       "      <td>2.0</td>\n",
       "      <td>6</td>\n",
       "      <td>6.0</td>\n",
       "      <td>442</td>\n",
       "      <td>2</td>\n",
       "      <td>-1</td>\n",
       "      <td>0</td>\n",
       "      <td>3.0</td>\n",
       "      <td>0.0</td>\n",
       "    </tr>\n",
       "    <tr>\n",
       "      <th>31642</th>\n",
       "      <td>36483</td>\n",
       "      <td>29</td>\n",
       "      <td>4.0</td>\n",
       "      <td>2.0</td>\n",
       "      <td>2.0</td>\n",
       "      <td>0.0</td>\n",
       "      <td>0</td>\n",
       "      <td>1.0</td>\n",
       "      <td>0.0</td>\n",
       "      <td>0.0</td>\n",
       "      <td>12</td>\n",
       "      <td>8.0</td>\n",
       "      <td>116</td>\n",
       "      <td>2</td>\n",
       "      <td>-1</td>\n",
       "      <td>0</td>\n",
       "      <td>3.0</td>\n",
       "      <td>0.0</td>\n",
       "    </tr>\n",
       "    <tr>\n",
       "      <th>31643</th>\n",
       "      <td>40178</td>\n",
       "      <td>53</td>\n",
       "      <td>4.0</td>\n",
       "      <td>0.0</td>\n",
       "      <td>2.0</td>\n",
       "      <td>0.0</td>\n",
       "      <td>380</td>\n",
       "      <td>0.0</td>\n",
       "      <td>1.0</td>\n",
       "      <td>0.0</td>\n",
       "      <td>5</td>\n",
       "      <td>6.0</td>\n",
       "      <td>438</td>\n",
       "      <td>2</td>\n",
       "      <td>-1</td>\n",
       "      <td>0</td>\n",
       "      <td>3.0</td>\n",
       "      <td>1.0</td>\n",
       "    </tr>\n",
       "    <tr>\n",
       "      <th>31644</th>\n",
       "      <td>19710</td>\n",
       "      <td>32</td>\n",
       "      <td>4.0</td>\n",
       "      <td>2.0</td>\n",
       "      <td>2.0</td>\n",
       "      <td>0.0</td>\n",
       "      <td>312</td>\n",
       "      <td>0.0</td>\n",
       "      <td>0.0</td>\n",
       "      <td>0.0</td>\n",
       "      <td>7</td>\n",
       "      <td>1.0</td>\n",
       "      <td>37</td>\n",
       "      <td>3</td>\n",
       "      <td>-1</td>\n",
       "      <td>0</td>\n",
       "      <td>3.0</td>\n",
       "      <td>0.0</td>\n",
       "    </tr>\n",
       "  </tbody>\n",
       "</table>\n",
       "<p>27584 rows × 18 columns</p>\n",
       "</div>"
      ],
      "text/plain": [
       "          ID  age   job  marital  education  default  balance  housing  loan  \\\n",
       "0      26110   56   0.0      1.0        3.0      0.0     1933      0.0   0.0   \n",
       "1      40576   31  11.0      1.0        1.0      0.0        3      0.0   0.0   \n",
       "2      15320   27   7.0      1.0        1.0      0.0      891      1.0   0.0   \n",
       "3      43962   57   4.0      0.0        2.0      0.0     3287      0.0   0.0   \n",
       "4      29842   31   9.0      1.0        1.0      0.0      119      1.0   0.0   \n",
       "...      ...  ...   ...      ...        ...      ...      ...      ...   ...   \n",
       "31640  12109   43   4.0      2.0        1.0      0.0     2968      0.0   0.0   \n",
       "31641   9476   37   9.0      2.0        2.0      0.0     1309      0.0   0.0   \n",
       "31642  36483   29   4.0      2.0        2.0      0.0        0      1.0   0.0   \n",
       "31643  40178   53   4.0      0.0        2.0      0.0      380      0.0   1.0   \n",
       "31644  19710   32   4.0      2.0        2.0      0.0      312      0.0   0.0   \n",
       "\n",
       "       contact  day  month  duration  campaign  pdays  previous  poutcome  \\\n",
       "0          1.0   19    9.0        44         2     -1         0       3.0   \n",
       "1          0.0   20    5.0        91         2     -1         0       3.0   \n",
       "2          0.0   18    5.0       240         1     -1         0       3.0   \n",
       "3          0.0   22    6.0       867         1     84         3       2.0   \n",
       "4          0.0    4    3.0       380         1     -1         0       3.0   \n",
       "...        ...  ...    ...       ...       ...    ...       ...       ...   \n",
       "31640      2.0   20    6.0        30         4     -1         0       3.0   \n",
       "31641      2.0    6    6.0       442         2     -1         0       3.0   \n",
       "31642      0.0   12    8.0       116         2     -1         0       3.0   \n",
       "31643      0.0    5    6.0       438         2     -1         0       3.0   \n",
       "31644      0.0    7    1.0        37         3     -1         0       3.0   \n",
       "\n",
       "       subscribed  \n",
       "0             0.0  \n",
       "1             0.0  \n",
       "2             0.0  \n",
       "3             1.0  \n",
       "4             0.0  \n",
       "...           ...  \n",
       "31640         0.0  \n",
       "31641         0.0  \n",
       "31642         0.0  \n",
       "31643         1.0  \n",
       "31644         0.0  \n",
       "\n",
       "[27584 rows x 18 columns]"
      ]
     },
     "execution_count": 51,
     "metadata": {},
     "output_type": "execute_result"
    }
   ],
   "source": [
    "df_new=df[(z<3).all(axis=1)]\n",
    "df_new"
   ]
  },
  {
   "cell_type": "markdown",
   "id": "e07a65e3",
   "metadata": {},
   "source": [
    "# Percentage data loss"
   ]
  },
  {
   "cell_type": "code",
   "execution_count": 52,
   "id": "f2e205f6",
   "metadata": {},
   "outputs": [
    {
     "name": "stdout",
     "output_type": "stream",
     "text": [
      "12.83849969981357\n"
     ]
    }
   ],
   "source": [
    "loss_percent=(31647-27584)/31647*100\n",
    "print(loss_percent)"
   ]
  },
  {
   "cell_type": "markdown",
   "id": "ebf41a68",
   "metadata": {},
   "source": [
    "Transforming data to remove skewness:"
   ]
  },
  {
   "cell_type": "code",
   "execution_count": 53,
   "id": "07f80316",
   "metadata": {},
   "outputs": [
    {
     "data": {
      "text/plain": [
       "array([[ 0.35095073,  1.34138189, -1.61003975, ..., -0.46969565,\n",
       "        -0.46967334,  0.46699292],\n",
       "       [ 1.27658532, -0.9663778 ,  1.6528723 , ..., -0.46969565,\n",
       "        -0.46967334,  0.46699292],\n",
       "       [-0.44573069, -1.53815285,  0.8592082 , ..., -0.46969565,\n",
       "        -0.46967334,  0.46699292],\n",
       "       ...,\n",
       "       [-0.10616057, -0.83671116,  0.09593561, ..., -0.46969565,\n",
       "        -0.46967334,  0.46699292],\n",
       "       [ 1.15412705,  1.40695494,  1.27892758, ...,  2.15084394,\n",
       "         2.18608335, -2.25871136],\n",
       "       [-0.54043023,  1.27441963,  0.09593561, ..., -0.46969565,\n",
       "        -0.46967334,  0.46699292]])"
      ]
     },
     "execution_count": 53,
     "metadata": {},
     "output_type": "execute_result"
    }
   ],
   "source": [
    "from sklearn.preprocessing import power_transform\n",
    "x=power_transform(x,method='yeo-johnson')\n",
    "x"
   ]
  },
  {
   "cell_type": "code",
   "execution_count": 54,
   "id": "4033cbba",
   "metadata": {},
   "outputs": [
    {
     "data": {
      "text/plain": [
       "array([[ 0.35095073,  1.34138189, -1.61003975, ..., -0.46969565,\n",
       "        -0.46967334,  0.46699292],\n",
       "       [ 1.27658532, -0.9663778 ,  1.6528723 , ..., -0.46969565,\n",
       "        -0.46967334,  0.46699292],\n",
       "       [-0.44573069, -1.53815285,  0.8592082 , ..., -0.46969565,\n",
       "        -0.46967334,  0.46699292],\n",
       "       ...,\n",
       "       [-0.10616057, -0.83671116,  0.09593561, ..., -0.46969565,\n",
       "        -0.46967334,  0.46699292],\n",
       "       [ 1.15412705,  1.40695494,  1.27892758, ...,  2.15084394,\n",
       "         2.18608335, -2.25871136],\n",
       "       [-0.54043023,  1.27441963,  0.09593561, ..., -0.46969565,\n",
       "        -0.46967334,  0.46699292]])"
      ]
     },
     "execution_count": 54,
     "metadata": {},
     "output_type": "execute_result"
    }
   ],
   "source": [
    "from sklearn.preprocessing import StandardScaler\n",
    "sc=StandardScaler()\n",
    "x=sc.fit_transform(x)\n",
    "x"
   ]
  },
  {
   "cell_type": "markdown",
   "id": "6d3fa7a2",
   "metadata": {},
   "source": [
    "oversampling the data"
   ]
  },
  {
   "cell_type": "code",
   "execution_count": 55,
   "id": "ae41ebbc",
   "metadata": {},
   "outputs": [],
   "source": [
    "from imblearn.over_sampling import SMOTE\n",
    "sm=SMOTE()\n",
    "x,y=sm.fit_resample(x,y)"
   ]
  },
  {
   "cell_type": "code",
   "execution_count": 56,
   "id": "6ef3cee4",
   "metadata": {},
   "outputs": [
    {
     "data": {
      "text/plain": [
       "0.0    27932\n",
       "1.0    27932\n",
       "Name: subscribed, dtype: int64"
      ]
     },
     "execution_count": 56,
     "metadata": {},
     "output_type": "execute_result"
    }
   ],
   "source": [
    "y.value_counts()"
   ]
  },
  {
   "cell_type": "code",
   "execution_count": 57,
   "id": "450964c8",
   "metadata": {},
   "outputs": [],
   "source": [
    "from sklearn.linear_model import LogisticRegression\n",
    "lr=LogisticRegression()\n",
    "from sklearn.metrics import confusion_matrix,classification_report,roc_curve,accuracy_score\n",
    "from sklearn.model_selection import train_test_split"
   ]
  },
  {
   "cell_type": "code",
   "execution_count": 58,
   "id": "097a7845",
   "metadata": {},
   "outputs": [
    {
     "name": "stdout",
     "output_type": "stream",
     "text": [
      "At random state 21 the model perform very well\n",
      "At random_state:- 21\n",
      "Training accuracy is:- 85.02383030140297\n",
      "Testing r2_score is:- 85.04430323100331\n",
      "At random state 25 the model perform very well\n",
      "At random_state:- 25\n",
      "Training accuracy is:- 85.05291893222349\n",
      "Testing r2_score is:- 85.07115367403563\n",
      "At random state 31 the model perform very well\n",
      "At random_state:- 31\n",
      "Training accuracy is:- 84.99697925756864\n",
      "Testing r2_score is:- 84.99955249261613\n",
      "At random state 44 the model perform very well\n",
      "At random_state:- 44\n",
      "Training accuracy is:- 85.0484437582511\n",
      "Testing r2_score is:- 84.96375190190638\n",
      "At random state 45 the model perform very well\n",
      "At random_state:- 45\n",
      "Training accuracy is:- 85.03725582332014\n",
      "Testing r2_score is:- 85.04430323100331\n",
      "At random state 58 the model perform very well\n",
      "At random_state:- 58\n",
      "Training accuracy is:- 85.04173099729252\n",
      "Testing r2_score is:- 84.96375190190638\n",
      "At random state 63 the model perform very well\n",
      "At random_state:- 63\n",
      "Training accuracy is:- 85.05963169318207\n",
      "Testing r2_score is:- 85.11590441242281\n",
      "At random state 68 the model perform very well\n",
      "At random_state:- 68\n",
      "Training accuracy is:- 85.03278064934774\n",
      "Testing r2_score is:- 85.02640293564843\n",
      "At random state 82 the model perform very well\n",
      "At random_state:- 82\n",
      "Training accuracy is:- 85.06186928016827\n",
      "Testing r2_score is:- 85.06220352635819\n",
      "At random state 83 the model perform very well\n",
      "At random_state:- 83\n",
      "Training accuracy is:- 85.02383030140297\n",
      "Testing r2_score is:- 85.00850264029356\n",
      "At random state 86 the model perform very well\n",
      "At random_state:- 86\n",
      "Training accuracy is:- 85.09543308496119\n",
      "Testing r2_score is:- 85.05325337868075\n",
      "At random state 90 the model perform very well\n",
      "At random_state:- 90\n",
      "Training accuracy is:- 85.03278064934774\n",
      "Testing r2_score is:- 85.03535308332587\n",
      "At random state 112 the model perform very well\n",
      "At random_state:- 112\n",
      "Training accuracy is:- 85.07081962811304\n",
      "Testing r2_score is:- 85.05325337868075\n",
      "At random state 119 the model perform very well\n",
      "At random_state:- 119\n",
      "Training accuracy is:- 85.02606788838915\n",
      "Testing r2_score is:- 84.9906023449387\n",
      "At random state 133 the model perform very well\n",
      "At random_state:- 133\n",
      "Training accuracy is:- 85.00592960551342\n",
      "Testing r2_score is:- 85.01745278797101\n",
      "At random state 140 the model perform very well\n",
      "At random_state:- 140\n",
      "Training accuracy is:- 84.97684097469289\n",
      "Testing r2_score is:- 85.04430323100331\n",
      "At random state 149 the model perform very well\n",
      "At random_state:- 149\n",
      "Training accuracy is:- 85.02159271441677\n",
      "Testing r2_score is:- 85.04430323100331\n",
      "At random state 151 the model perform very well\n",
      "At random_state:- 151\n",
      "Training accuracy is:- 85.04173099729252\n",
      "Testing r2_score is:- 84.98165219726125\n",
      "At random state 153 the model perform very well\n",
      "At random_state:- 153\n",
      "Training accuracy is:- 85.03278064934774\n",
      "Testing r2_score is:- 84.99955249261613\n",
      "At random state 161 the model perform very well\n",
      "At random_state:- 161\n",
      "Training accuracy is:- 85.0462061712649\n",
      "Testing r2_score is:- 85.02640293564843\n",
      "At random state 172 the model perform very well\n",
      "At random_state:- 172\n",
      "Training accuracy is:- 85.05291893222349\n",
      "Testing r2_score is:- 85.05325337868075\n",
      "At random state 177 the model perform very well\n",
      "At random_state:- 177\n",
      "Training accuracy is:- 85.06410686715446\n",
      "Testing r2_score is:- 85.05325337868075\n",
      "At random state 201 the model perform very well\n",
      "At random_state:- 201\n",
      "Training accuracy is:- 85.00369201852722\n",
      "Testing r2_score is:- 84.96375190190638\n",
      "At random state 213 the model perform very well\n",
      "At random_state:- 213\n",
      "Training accuracy is:- 85.04173099729252\n",
      "Testing r2_score is:- 84.9906023449387\n",
      "At random state 215 the model perform very well\n",
      "At random_state:- 215\n",
      "Training accuracy is:- 85.03501823633394\n",
      "Testing r2_score is:- 84.98165219726125\n",
      "At random state 242 the model perform very well\n",
      "At random_state:- 242\n",
      "Training accuracy is:- 85.05291893222349\n",
      "Testing r2_score is:- 85.07115367403563\n",
      "At random state 250 the model perform very well\n",
      "At random_state:- 250\n",
      "Training accuracy is:- 85.0506813452373\n",
      "Testing r2_score is:- 85.06220352635819\n",
      "At random state 270 the model perform very well\n",
      "At random_state:- 270\n",
      "Training accuracy is:- 85.03949341030632\n",
      "Testing r2_score is:- 85.01745278797101\n",
      "At random state 279 the model perform very well\n",
      "At random_state:- 279\n",
      "Training accuracy is:- 85.02830547537535\n",
      "Testing r2_score is:- 85.00850264029356\n",
      "At random state 292 the model perform very well\n",
      "At random_state:- 292\n",
      "Training accuracy is:- 85.02383030140297\n",
      "Testing r2_score is:- 84.98165219726125\n",
      "At random state 297 the model perform very well\n",
      "At random_state:- 297\n",
      "Training accuracy is:- 85.02830547537535\n",
      "Testing r2_score is:- 84.95480175422895\n",
      "At random state 302 the model perform very well\n",
      "At random_state:- 302\n",
      "Training accuracy is:- 85.04396858427872\n",
      "Testing r2_score is:- 85.00850264029356\n",
      "At random state 309 the model perform very well\n",
      "At random_state:- 309\n",
      "Training accuracy is:- 84.99697925756864\n",
      "Testing r2_score is:- 85.02640293564843\n",
      "At random state 318 the model perform very well\n",
      "At random_state:- 318\n",
      "Training accuracy is:- 85.00592960551342\n",
      "Testing r2_score is:- 84.9906023449387\n",
      "At random state 320 the model perform very well\n",
      "At random_state:- 320\n",
      "Training accuracy is:- 85.03949341030632\n",
      "Testing r2_score is:- 84.97270204958382\n",
      "At random state 335 the model perform very well\n",
      "At random_state:- 335\n",
      "Training accuracy is:- 85.01264236647201\n",
      "Testing r2_score is:- 85.02640293564843\n",
      "At random state 336 the model perform very well\n",
      "At random_state:- 336\n",
      "Training accuracy is:- 85.01264236647201\n",
      "Testing r2_score is:- 84.97270204958382\n",
      "At random state 342 the model perform very well\n",
      "At random_state:- 342\n",
      "Training accuracy is:- 85.05963169318207\n",
      "Testing r2_score is:- 85.10695426474537\n",
      "At random state 349 the model perform very well\n",
      "At random_state:- 349\n",
      "Training accuracy is:- 85.02830547537535\n",
      "Testing r2_score is:- 84.96375190190638\n",
      "At random state 359 the model perform very well\n",
      "At random_state:- 359\n",
      "Training accuracy is:- 85.01711754044439\n",
      "Testing r2_score is:- 84.96375190190638\n",
      "At random state 363 the model perform very well\n",
      "At random_state:- 363\n",
      "Training accuracy is:- 85.03278064934774\n",
      "Testing r2_score is:- 84.9906023449387\n",
      "At random state 371 the model perform very well\n",
      "At random_state:- 371\n",
      "Training accuracy is:- 85.04173099729252\n",
      "Testing r2_score is:- 85.02640293564843\n",
      "At random state 374 the model perform very well\n",
      "At random_state:- 374\n",
      "Training accuracy is:- 85.04396858427872\n",
      "Testing r2_score is:- 85.04430323100331\n",
      "At random state 380 the model perform very well\n",
      "At random_state:- 380\n",
      "Training accuracy is:- 84.9746033877067\n",
      "Testing r2_score is:- 85.02640293564843\n",
      "At random state 389 the model perform very well\n",
      "At random_state:- 389\n",
      "Training accuracy is:- 85.04396858427872\n",
      "Testing r2_score is:- 85.01745278797101\n",
      "At random state 392 the model perform very well\n",
      "At random_state:- 392\n",
      "Training accuracy is:- 85.04396858427872\n",
      "Testing r2_score is:- 85.03535308332587\n",
      "At random state 410 the model perform very well\n",
      "At random_state:- 410\n",
      "Training accuracy is:- 85.0462061712649\n",
      "Testing r2_score is:- 84.95480175422895\n",
      "At random state 412 the model perform very well\n",
      "At random_state:- 412\n",
      "Training accuracy is:- 85.01711754044439\n",
      "Testing r2_score is:- 85.02640293564843\n",
      "At random state 414 the model perform very well\n",
      "At random_state:- 414\n",
      "Training accuracy is:- 84.99474167058244\n",
      "Testing r2_score is:- 84.99955249261613\n",
      "At random state 415 the model perform very well\n",
      "At random_state:- 415\n",
      "Training accuracy is:- 85.01040477948581\n",
      "Testing r2_score is:- 85.00850264029356\n",
      "At random state 459 the model perform very well\n",
      "At random_state:- 459\n",
      "Training accuracy is:- 85.0462061712649\n",
      "Testing r2_score is:- 85.03535308332587\n",
      "At random state 467 the model perform very well\n",
      "At random_state:- 467\n",
      "Training accuracy is:- 85.02159271441677\n",
      "Testing r2_score is:- 84.97270204958382\n",
      "At random state 476 the model perform very well\n",
      "At random_state:- 476\n",
      "Training accuracy is:- 85.00369201852722\n",
      "Testing r2_score is:- 85.03535308332587\n",
      "At random state 480 the model perform very well\n",
      "At random_state:- 480\n",
      "Training accuracy is:- 85.00369201852722\n",
      "Testing r2_score is:- 85.04430323100331\n",
      "At random state 503 the model perform very well\n",
      "At random_state:- 503\n",
      "Training accuracy is:- 85.00369201852722\n",
      "Testing r2_score is:- 85.02640293564843\n",
      "At random state 511 the model perform very well\n",
      "At random_state:- 511\n",
      "Training accuracy is:- 85.03278064934774\n",
      "Testing r2_score is:- 85.02640293564843\n",
      "At random state 535 the model perform very well\n",
      "At random_state:- 535\n",
      "Training accuracy is:- 85.03725582332014\n",
      "Testing r2_score is:- 84.98165219726125\n",
      "At random state 541 the model perform very well\n",
      "At random_state:- 541\n",
      "Training accuracy is:- 84.99921684455484\n",
      "Testing r2_score is:- 84.97270204958382\n",
      "At random state 546 the model perform very well\n",
      "At random_state:- 546\n",
      "Training accuracy is:- 85.01711754044439\n",
      "Testing r2_score is:- 84.99955249261613\n",
      "At random state 570 the model perform very well\n",
      "At random_state:- 570\n",
      "Training accuracy is:- 85.01935512743057\n",
      "Testing r2_score is:- 84.97270204958382\n",
      "At random state 586 the model perform very well\n",
      "At random_state:- 586\n",
      "Training accuracy is:- 85.05963169318207\n",
      "Testing r2_score is:- 85.08905396939049\n",
      "At random state 590 the model perform very well\n",
      "At random_state:- 590\n",
      "Training accuracy is:- 85.05291893222349\n",
      "Testing r2_score is:- 85.05325337868075\n",
      "At random state 596 the model perform very well\n",
      "At random_state:- 596\n",
      "Training accuracy is:- 84.99921684455484\n",
      "Testing r2_score is:- 84.99955249261613\n",
      "At random state 597 the model perform very well\n",
      "At random_state:- 597\n",
      "Training accuracy is:- 85.02383030140297\n",
      "Testing r2_score is:- 85.03535308332587\n",
      "At random state 607 the model perform very well\n",
      "At random_state:- 607\n",
      "Training accuracy is:- 85.01264236647201\n",
      "Testing r2_score is:- 84.96375190190638\n",
      "At random state 615 the model perform very well\n",
      "At random_state:- 615\n",
      "Training accuracy is:- 85.0484437582511\n",
      "Testing r2_score is:- 85.03535308332587\n",
      "At random state 634 the model perform very well\n",
      "At random_state:- 634\n",
      "Training accuracy is:- 84.98131614866527\n",
      "Testing r2_score is:- 85.00850264029356\n",
      "At random state 640 the model perform very well\n",
      "At random_state:- 640\n",
      "Training accuracy is:- 85.0462061712649\n",
      "Testing r2_score is:- 85.04430323100331\n",
      "At random state 654 the model perform very well\n",
      "At random_state:- 654\n",
      "Training accuracy is:- 85.03278064934774\n",
      "Testing r2_score is:- 85.00850264029356\n",
      "At random state 658 the model perform very well\n",
      "At random_state:- 658\n",
      "Training accuracy is:- 85.03949341030632\n",
      "Testing r2_score is:- 84.99955249261613\n",
      "At random state 679 the model perform very well\n",
      "At random_state:- 679\n",
      "Training accuracy is:- 85.02159271441677\n",
      "Testing r2_score is:- 85.00850264029356\n",
      "At random state 727 the model perform very well\n",
      "At random_state:- 727\n",
      "Training accuracy is:- 84.99697925756864\n",
      "Testing r2_score is:- 84.9906023449387\n",
      "At random state 731 the model perform very well\n",
      "At random_state:- 731\n",
      "Training accuracy is:- 85.06410686715446\n",
      "Testing r2_score is:- 85.10695426474537\n",
      "At random state 737 the model perform very well\n",
      "At random_state:- 737\n",
      "Training accuracy is:- 85.01711754044439\n",
      "Testing r2_score is:- 85.01745278797101\n",
      "At random state 739 the model perform very well\n",
      "At random_state:- 739\n",
      "Training accuracy is:- 85.03501823633394\n",
      "Testing r2_score is:- 85.03535308332587\n",
      "At random state 742 the model perform very well\n",
      "At random_state:- 742\n",
      "Training accuracy is:- 85.03949341030632\n",
      "Testing r2_score is:- 85.04430323100331\n",
      "At random state 755 the model perform very well\n",
      "At random_state:- 755\n",
      "Training accuracy is:- 85.04173099729252\n",
      "Testing r2_score is:- 84.9906023449387\n",
      "At random state 761 the model perform very well\n",
      "At random_state:- 761\n",
      "Training accuracy is:- 85.0484437582511\n",
      "Testing r2_score is:- 84.99955249261613\n",
      "At random state 762 the model perform very well\n",
      "At random_state:- 762\n",
      "Training accuracy is:- 85.03501823633394\n",
      "Testing r2_score is:- 84.99955249261613\n",
      "At random state 764 the model perform very well\n",
      "At random_state:- 764\n",
      "Training accuracy is:- 85.04173099729252\n",
      "Testing r2_score is:- 84.96375190190638\n",
      "At random state 785 the model perform very well\n",
      "At random_state:- 785\n",
      "Training accuracy is:- 85.0484437582511\n",
      "Testing r2_score is:- 85.00850264029356\n",
      "At random state 788 the model perform very well\n",
      "At random_state:- 788\n",
      "Training accuracy is:- 85.00145443154102\n",
      "Testing r2_score is:- 84.97270204958382\n",
      "At random state 803 the model perform very well\n",
      "At random_state:- 803\n",
      "Training accuracy is:- 85.05963169318207\n",
      "Testing r2_score is:- 85.06220352635819\n",
      "At random state 807 the model perform very well\n",
      "At random_state:- 807\n",
      "Training accuracy is:- 85.03054306236155\n",
      "Testing r2_score is:- 85.01745278797101\n",
      "At random state 823 the model perform very well\n",
      "At random_state:- 823\n",
      "Training accuracy is:- 85.05515651920969\n",
      "Testing r2_score is:- 85.06220352635819\n",
      "At random state 825 the model perform very well\n",
      "At random_state:- 825\n",
      "Training accuracy is:- 85.04173099729252\n",
      "Testing r2_score is:- 85.01745278797101\n",
      "At random state 828 the model perform very well\n",
      "At random_state:- 828\n",
      "Training accuracy is:- 85.03278064934774\n",
      "Testing r2_score is:- 84.95480175422895\n",
      "At random state 831 the model perform very well\n",
      "At random_state:- 831\n",
      "Training accuracy is:- 85.02830547537535\n",
      "Testing r2_score is:- 85.00850264029356\n",
      "At random state 848 the model perform very well\n",
      "At random_state:- 848\n",
      "Training accuracy is:- 85.03725582332014\n",
      "Testing r2_score is:- 84.97270204958382\n",
      "At random state 862 the model perform very well\n",
      "At random_state:- 862\n",
      "Training accuracy is:- 85.02159271441677\n",
      "Testing r2_score is:- 84.98165219726125\n",
      "At random state 867 the model perform very well\n",
      "At random_state:- 867\n",
      "Training accuracy is:- 85.03054306236155\n",
      "Testing r2_score is:- 85.02640293564843\n",
      "At random state 875 the model perform very well\n",
      "At random_state:- 875\n",
      "Training accuracy is:- 85.02159271441677\n",
      "Testing r2_score is:- 85.03535308332587\n",
      "At random state 887 the model perform very well\n",
      "At random_state:- 887\n",
      "Training accuracy is:- 85.0842451500302\n",
      "Testing r2_score is:- 85.05325337868075\n",
      "At random state 913 the model perform very well\n",
      "At random_state:- 913\n",
      "Training accuracy is:- 85.05291893222349\n",
      "Testing r2_score is:- 85.06220352635819\n",
      "At random state 942 the model perform very well\n",
      "At random_state:- 942\n",
      "Training accuracy is:- 84.99921684455484\n",
      "Testing r2_score is:- 85.03535308332587\n",
      "At random state 943 the model perform very well\n",
      "At random_state:- 943\n",
      "Training accuracy is:- 85.02830547537535\n",
      "Testing r2_score is:- 85.01745278797101\n",
      "At random state 953 the model perform very well\n",
      "At random_state:- 953\n",
      "Training accuracy is:- 85.01935512743057\n",
      "Testing r2_score is:- 84.98165219726125\n",
      "At random state 973 the model perform very well\n",
      "At random_state:- 973\n",
      "Training accuracy is:- 85.0462061712649\n",
      "Testing r2_score is:- 85.00850264029356\n",
      "At random state 977 the model perform very well\n",
      "At random_state:- 977\n",
      "Training accuracy is:- 84.98802890962386\n",
      "Testing r2_score is:- 84.9906023449387\n",
      "At random state 978 the model perform very well\n",
      "At random_state:- 978\n",
      "Training accuracy is:- 85.03949341030632\n",
      "Testing r2_score is:- 84.95480175422895\n",
      "At random state 998 the model perform very well\n",
      "At random_state:- 998\n",
      "Training accuracy is:- 85.04396858427872\n",
      "Testing r2_score is:- 84.99955249261613\n"
     ]
    }
   ],
   "source": [
    "for i in range(0,1000):\n",
    "    x_train,x_test,y_train,y_test=train_test_split(x,y,test_size=0.2,random_state=i)\n",
    "    lr.fit(x_train,y_train)\n",
    "    pred_train=lr.predict(x_train)\n",
    "    pred_test=lr.predict(x_test)\n",
    "    if round(accuracy_score (y_train,pred_train)*100,1)==round(accuracy_score(y_test,pred_test)*100,1):\n",
    "        print('At random state',i,'the model perform very well')\n",
    "        print('At random_state:-',i)\n",
    "        print('Training accuracy is:-',accuracy_score(y_train,pred_train)*100)\n",
    "        print(\"Testing r2_score is:-\",accuracy_score(y_test,pred_test)*100)"
   ]
  },
  {
   "cell_type": "code",
   "execution_count": 59,
   "id": "2fb6b96a",
   "metadata": {},
   "outputs": [],
   "source": [
    " x_train,x_test,y_train,y_test=train_test_split(x,y,test_size=.20,random_state=899)"
   ]
  },
  {
   "cell_type": "code",
   "execution_count": 60,
   "id": "4a8ba294",
   "metadata": {},
   "outputs": [
    {
     "name": "stdout",
     "output_type": "stream",
     "text": [
      "              precision    recall  f1-score   support\n",
      "\n",
      "         0.0       0.52      0.49      0.50      5657\n",
      "         1.0       0.50      0.53      0.51      5516\n",
      "\n",
      "    accuracy                           0.51     11173\n",
      "   macro avg       0.51      0.51      0.51     11173\n",
      "weighted avg       0.51      0.51      0.51     11173\n",
      "\n"
     ]
    }
   ],
   "source": [
    "from sklearn.metrics import classification_report \n",
    "print(classification_report(y_test,pred_test))"
   ]
  },
  {
   "cell_type": "markdown",
   "id": "45548881",
   "metadata": {},
   "source": [
    "# Decision Tree Classifier"
   ]
  },
  {
   "cell_type": "code",
   "execution_count": 61,
   "id": "7eb3c106",
   "metadata": {},
   "outputs": [
    {
     "name": "stdout",
     "output_type": "stream",
     "text": [
      "Testing accuracy 91.61371162624184\n",
      "Training accuracy 100.0\n",
      "[[5161  496]\n",
      " [ 441 5075]]\n",
      "              precision    recall  f1-score   support\n",
      "\n",
      "         0.0       0.92      0.91      0.92      5657\n",
      "         1.0       0.91      0.92      0.92      5516\n",
      "\n",
      "    accuracy                           0.92     11173\n",
      "   macro avg       0.92      0.92      0.92     11173\n",
      "weighted avg       0.92      0.92      0.92     11173\n",
      "\n"
     ]
    }
   ],
   "source": [
    "from sklearn.tree import DecisionTreeClassifier\n",
    "\n",
    "dt=DecisionTreeClassifier()\n",
    "dt.fit(x_train,y_train)\n",
    "preddt=dt.predict(x_test)\n",
    "pred_train_dtc=dt.predict(x_train)\n",
    "print('Testing accuracy',accuracy_score(y_test,preddt)*100)\n",
    "print('Training accuracy',accuracy_score(y_train,pred_train_dtc)*100)\n",
    "print(confusion_matrix(y_test,preddt))\n",
    "print(classification_report(y_test,preddt))"
   ]
  },
  {
   "cell_type": "markdown",
   "id": "be124679",
   "metadata": {},
   "source": [
    "# Random Forest Classifier"
   ]
  },
  {
   "cell_type": "code",
   "execution_count": 62,
   "id": "b1478b01",
   "metadata": {},
   "outputs": [
    {
     "name": "stdout",
     "output_type": "stream",
     "text": [
      "Accuracy 94.54936006444107\n",
      "[[5173  484]\n",
      " [ 125 5391]]\n",
      "              precision    recall  f1-score   support\n",
      "\n",
      "         0.0       0.98      0.91      0.94      5657\n",
      "         1.0       0.92      0.98      0.95      5516\n",
      "\n",
      "    accuracy                           0.95     11173\n",
      "   macro avg       0.95      0.95      0.95     11173\n",
      "weighted avg       0.95      0.95      0.95     11173\n",
      "\n"
     ]
    }
   ],
   "source": [
    "from sklearn.ensemble import RandomForestClassifier\n",
    "rf=RandomForestClassifier(n_estimators=200)\n",
    "rf.fit(x_train,y_train)\n",
    "predrf=rf.predict(x_test)\n",
    "print('Accuracy',accuracy_score(y_test,predrf)*100)\n",
    "print(confusion_matrix(y_test,predrf))\n",
    "print(classification_report(y_test,predrf))"
   ]
  },
  {
   "cell_type": "markdown",
   "id": "becc9cc4",
   "metadata": {},
   "source": [
    "# SVC"
   ]
  },
  {
   "cell_type": "code",
   "execution_count": 63,
   "id": "6f5778bd",
   "metadata": {},
   "outputs": [
    {
     "name": "stdout",
     "output_type": "stream",
     "text": [
      "Accuracy 89.66257943256065\n",
      "[[4787  870]\n",
      " [ 285 5231]]\n",
      "              precision    recall  f1-score   support\n",
      "\n",
      "         0.0       0.94      0.85      0.89      5657\n",
      "         1.0       0.86      0.95      0.90      5516\n",
      "\n",
      "    accuracy                           0.90     11173\n",
      "   macro avg       0.90      0.90      0.90     11173\n",
      "weighted avg       0.90      0.90      0.90     11173\n",
      "\n"
     ]
    }
   ],
   "source": [
    "from sklearn.svm import SVC\n",
    "\n",
    "svc=SVC()\n",
    "svc.fit(x_train,y_train)\n",
    "ad_pred=svc.predict(x_test)\n",
    "print('Accuracy',accuracy_score(y_test,ad_pred)*100)\n",
    "print(confusion_matrix(y_test,ad_pred))\n",
    "print(classification_report(y_test,ad_pred))"
   ]
  },
  {
   "cell_type": "markdown",
   "id": "384385a3",
   "metadata": {},
   "source": [
    "Decision Tree Classifier,Random forest classifier are producing good accurancy .Now we check cross validation score as well for overfitting"
   ]
  },
  {
   "cell_type": "markdown",
   "id": "6056f4a3",
   "metadata": {},
   "source": [
    "# Cross validation"
   ]
  },
  {
   "cell_type": "code",
   "execution_count": 64,
   "id": "34858733",
   "metadata": {},
   "outputs": [
    {
     "name": "stdout",
     "output_type": "stream",
     "text": [
      "cross valadition score of Logistic Regression model: 0.8501182121277289\n"
     ]
    }
   ],
   "source": [
    "from sklearn.model_selection import cross_val_score\n",
    "cr_1=cross_val_score(lr,x,y,cv=5)\n",
    "print('cross valadition score of Logistic Regression model:',cr_1.mean())"
   ]
  },
  {
   "cell_type": "code",
   "execution_count": 65,
   "id": "039cf724",
   "metadata": {},
   "outputs": [
    {
     "name": "stdout",
     "output_type": "stream",
     "text": [
      "cross valadition score of Decision tree model: 0.9157280800972657\n"
     ]
    }
   ],
   "source": [
    "cr_2=cross_val_score(dt,x,y,cv=19)\n",
    "print('cross valadition score of Decision tree model:',cr_2.mean())"
   ]
  },
  {
   "cell_type": "code",
   "execution_count": 66,
   "id": "e6ae7183",
   "metadata": {},
   "outputs": [
    {
     "name": "stdout",
     "output_type": "stream",
     "text": [
      "cross valadition score of Random forest model: 0.9451705845914091\n"
     ]
    }
   ],
   "source": [
    "cr_3=cross_val_score(rf,x,y)\n",
    "print('cross valadition score of Random forest model:',cr_3.mean())"
   ]
  },
  {
   "cell_type": "code",
   "execution_count": 67,
   "id": "d9f331ce",
   "metadata": {},
   "outputs": [
    {
     "name": "stdout",
     "output_type": "stream",
     "text": [
      "cross valadition score of SVC model: 0.8985035676737073\n"
     ]
    }
   ],
   "source": [
    "cr_4=cross_val_score(svc,x,y,cv=5)\n",
    "print('cross valadition score of SVC model:',cr_4.mean())"
   ]
  },
  {
   "cell_type": "markdown",
   "id": "edd52096",
   "metadata": {},
   "source": [
    "Random forest classifier is performing better among all so we will continue with random forest classifier"
   ]
  },
  {
   "cell_type": "markdown",
   "id": "648ed41d",
   "metadata": {},
   "source": [
    "# Hyper parameter tunning"
   ]
  },
  {
   "cell_type": "code",
   "execution_count": 69,
   "id": "735ce710",
   "metadata": {},
   "outputs": [],
   "source": [
    "from sklearn.model_selection import GridSearchCV\n",
    "\n",
    "parameters={'max_features':['auto','sqrt','log2'],\n",
    "            'max_depth':[4,5],\n",
    "            'criterion':['gini','entropy'],\n",
    "            'n_estimators':[100,200]}"
   ]
  },
  {
   "cell_type": "code",
   "execution_count": 70,
   "id": "cba5fbb3",
   "metadata": {},
   "outputs": [],
   "source": [
    "GCV=GridSearchCV(estimator=RandomForestClassifier(),\n",
    "                param_grid=parameters,\n",
    "                cv=7,\n",
    "                scoring='accuracy')\n"
   ]
  },
  {
   "cell_type": "code",
   "execution_count": 73,
   "id": "f78d99ac",
   "metadata": {},
   "outputs": [
    {
     "data": {
      "text/plain": [
       "{'criterion': 'entropy',\n",
       " 'max_depth': 5,\n",
       " 'max_features': 'log2',\n",
       " 'n_estimators': 200}"
      ]
     },
     "execution_count": 73,
     "metadata": {},
     "output_type": "execute_result"
    }
   ],
   "source": [
    "GCV.fit(x_train,y_train)\n",
    "GCV.best_params_"
   ]
  },
  {
   "cell_type": "code",
   "execution_count": 72,
   "id": "b888dd54",
   "metadata": {},
   "outputs": [
    {
     "data": {
      "text/plain": [
       "RandomForestClassifier(criterion='entropy', max_depth=5, max_features='sqrt')"
      ]
     },
     "execution_count": 72,
     "metadata": {},
     "output_type": "execute_result"
    }
   ],
   "source": [
    "GCV.best_estimator_"
   ]
  },
  {
   "cell_type": "code",
   "execution_count": 74,
   "id": "45bfd20c",
   "metadata": {},
   "outputs": [
    {
     "data": {
      "text/plain": [
       "0.8902711894746264"
      ]
     },
     "execution_count": 74,
     "metadata": {},
     "output_type": "execute_result"
    }
   ],
   "source": [
    "GCV_pred=GCV.best_estimator_.predict(x_test)\n",
    "accuracy_score(y_test,GCV_pred)"
   ]
  },
  {
   "cell_type": "markdown",
   "id": "6e554523",
   "metadata": {},
   "source": [
    "# Auc Roc curve"
   ]
  },
  {
   "cell_type": "code",
   "execution_count": 94,
   "id": "e4c7c578",
   "metadata": {},
   "outputs": [
    {
     "data": {
      "image/png": "[encoded data removed]",
      "text/plain": [
       "<Figure size 432x288 with 1 Axes>"
      ]
     },
     "metadata": {
      "needs_background": "light"
     },
     "output_type": "display_data"
    }
   ],
   "source": [
    "from sklearn.metrics import roc_curve,auc\n",
    "fpr,tpr,thresholds=roc_curve(pred_test,y_test)\n",
    "roc_auc=auc(fpr,tpr)\n",
    "plt.figure()\n",
    "plt.plot(fpr,tpr,color='darkorange',lw=10,label='roc curve(area=%0.2f)'%roc_auc)\n",
    "plt.plot([0,1],[0,1],color='navy',lw=10,linestyle='--')\n",
    "plt.xlim([0.0,1.0])\n",
    "plt.ylim([0.0,1.05])\n",
    "plt.xlabel('false positive rate')\n",
    "plt.ylabel('true postive rate')\n",
    "plt.title('receiver operating characteristic')\n",
    "plt.legend(loc='lower right')\n",
    "plt.show()"
   ]
  },
  {
   "cell_type": "markdown",
   "id": "58745819",
   "metadata": {},
   "source": [
    "#  Saving the model"
   ]
  },
  {
   "cell_type": "code",
   "execution_count": 86,
   "id": "ffed0bbb",
   "metadata": {},
   "outputs": [],
   "source": [
    "import pickle"
   ]
  },
  {
   "cell_type": "code",
   "execution_count": 87,
   "id": "ce9ca591",
   "metadata": {},
   "outputs": [],
   "source": [
    "filename='bank marketing predict'"
   ]
  },
  {
   "cell_type": "code",
   "execution_count": 89,
   "id": "17cde32b",
   "metadata": {},
   "outputs": [],
   "source": [
    "pickle.dump(rf,open(filename,'wb'))"
   ]
  },
  {
   "cell_type": "markdown",
   "id": "4228efe1",
   "metadata": {},
   "source": [
    "# conclusion:"
   ]
  },
  {
   "cell_type": "code",
   "execution_count": 90,
   "id": "57b1619f",
   "metadata": {},
   "outputs": [
    {
     "name": "stdout",
     "output_type": "stream",
     "text": [
      "94.54936006444107\n"
     ]
    }
   ],
   "source": [
    "loaded_model=pickle.load(open('bank marketing predict','rb'))\n",
    "result=loaded_model.score(x_test,y_test)\n",
    "print(result*100)"
   ]
  },
  {
   "cell_type": "code",
   "execution_count": 92,
   "id": "5e43b322",
   "metadata": {},
   "outputs": [
    {
     "data": {
      "text/html": [
       "<div>\n",
       "<style scoped>\n",
       "    .dataframe tbody tr th:only-of-type {\n",
       "        vertical-align: middle;\n",
       "    }\n",
       "\n",
       "    .dataframe tbody tr th {\n",
       "        vertical-align: top;\n",
       "    }\n",
       "\n",
       "    .dataframe thead th {\n",
       "        text-align: right;\n",
       "    }\n",
       "</style>\n",
       "<table border=\"1\" class=\"dataframe\">\n",
       "  <thead>\n",
       "    <tr style=\"text-align: right;\">\n",
       "      <th></th>\n",
       "      <th>0</th>\n",
       "      <th>1</th>\n",
       "      <th>2</th>\n",
       "      <th>3</th>\n",
       "      <th>4</th>\n",
       "      <th>5</th>\n",
       "      <th>6</th>\n",
       "      <th>7</th>\n",
       "      <th>8</th>\n",
       "      <th>9</th>\n",
       "      <th>...</th>\n",
       "      <th>11163</th>\n",
       "      <th>11164</th>\n",
       "      <th>11165</th>\n",
       "      <th>11166</th>\n",
       "      <th>11167</th>\n",
       "      <th>11168</th>\n",
       "      <th>11169</th>\n",
       "      <th>11170</th>\n",
       "      <th>11171</th>\n",
       "      <th>11172</th>\n",
       "    </tr>\n",
       "  </thead>\n",
       "  <tbody>\n",
       "    <tr>\n",
       "      <th>predicted</th>\n",
       "      <td>0.0</td>\n",
       "      <td>0.0</td>\n",
       "      <td>1.0</td>\n",
       "      <td>0.0</td>\n",
       "      <td>1.0</td>\n",
       "      <td>0.0</td>\n",
       "      <td>1.0</td>\n",
       "      <td>1.0</td>\n",
       "      <td>1.0</td>\n",
       "      <td>0.0</td>\n",
       "      <td>...</td>\n",
       "      <td>0.0</td>\n",
       "      <td>0.0</td>\n",
       "      <td>1.0</td>\n",
       "      <td>0.0</td>\n",
       "      <td>0.0</td>\n",
       "      <td>1.0</td>\n",
       "      <td>1.0</td>\n",
       "      <td>0.0</td>\n",
       "      <td>0.0</td>\n",
       "      <td>1.0</td>\n",
       "    </tr>\n",
       "    <tr>\n",
       "      <th>original</th>\n",
       "      <td>0.0</td>\n",
       "      <td>0.0</td>\n",
       "      <td>1.0</td>\n",
       "      <td>0.0</td>\n",
       "      <td>1.0</td>\n",
       "      <td>0.0</td>\n",
       "      <td>1.0</td>\n",
       "      <td>1.0</td>\n",
       "      <td>1.0</td>\n",
       "      <td>0.0</td>\n",
       "      <td>...</td>\n",
       "      <td>0.0</td>\n",
       "      <td>0.0</td>\n",
       "      <td>1.0</td>\n",
       "      <td>0.0</td>\n",
       "      <td>0.0</td>\n",
       "      <td>1.0</td>\n",
       "      <td>1.0</td>\n",
       "      <td>0.0</td>\n",
       "      <td>0.0</td>\n",
       "      <td>1.0</td>\n",
       "    </tr>\n",
       "  </tbody>\n",
       "</table>\n",
       "<p>2 rows × 11173 columns</p>\n",
       "</div>"
      ],
      "text/plain": [
       "           0      1      2      3      4      5      6      7      8      \\\n",
       "predicted    0.0    0.0    1.0    0.0    1.0    0.0    1.0    1.0    1.0   \n",
       "original     0.0    0.0    1.0    0.0    1.0    0.0    1.0    1.0    1.0   \n",
       "\n",
       "           9      ...  11163  11164  11165  11166  11167  11168  11169  11170  \\\n",
       "predicted    0.0  ...    0.0    0.0    1.0    0.0    0.0    1.0    1.0    0.0   \n",
       "original     0.0  ...    0.0    0.0    1.0    0.0    0.0    1.0    1.0    0.0   \n",
       "\n",
       "           11171  11172  \n",
       "predicted    0.0    1.0  \n",
       "original     0.0    1.0  \n",
       "\n",
       "[2 rows x 11173 columns]"
      ]
     },
     "execution_count": 92,
     "metadata": {},
     "output_type": "execute_result"
    }
   ],
   "source": [
    "conclusion=pd.DataFrame([loaded_model.predict(x_test)[:],predrf[:]],index=['predicted','original'])\n",
    "conclusion"
   ]
  },
  {
   "cell_type": "code",
   "execution_count": null,
   "id": "fe730858",
   "metadata": {},
   "outputs": [],
   "source": []
  }
 ],
 "metadata": {
  "kernelspec": {
   "display_name": "Python 3 (ipykernel)",
   "language": "python",
   "name": "python3"
  },
  "language_info": {
   "codemirror_mode": {
    "name": "ipython",
    "version": 3
   },
   "file_extension": ".py",
   "mimetype": "text/x-python",
   "name": "python",
   "nbconvert_exporter": "python",
   "pygments_lexer": "ipython3",
   "version": "3.9.12"
  }
 },
 "nbformat": 4,
 "nbformat_minor": 5
}
